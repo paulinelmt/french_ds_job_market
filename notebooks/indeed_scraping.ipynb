{
 "cells": [
  {
   "cell_type": "code",
   "execution_count": 255,
   "metadata": {},
   "outputs": [],
   "source": [
    "import requests\n",
    "from bs4 import BeautifulSoup\n",
    "import re\n",
    "import pandas as pd\n",
    "import time"
   ]
  },
  {
   "cell_type": "code",
   "execution_count": 29,
   "metadata": {},
   "outputs": [],
   "source": [
    "hs_url = 'https://fr.indeed.com/jobs?q=data+scientist&l=France&fromage=14'\n",
    "html_text = requests.get(hs_url).text\n",
    "soup = BeautifulSoup(html_text, 'html.parser')"
   ]
  },
  {
   "cell_type": "code",
   "execution_count": 178,
   "metadata": {},
   "outputs": [],
   "source": [
    "first_page_links = soup.find_all(class_=re.compile('result job'))"
   ]
  },
  {
   "cell_type": "code",
   "execution_count": 179,
   "metadata": {},
   "outputs": [],
   "source": [
    "# get link for the first job\n",
    "# if we want all jobs, then use a for loop\n",
    "link_job = first_page_links[1].get(\"href\")"
   ]
  },
  {
   "cell_type": "code",
   "execution_count": 180,
   "metadata": {},
   "outputs": [
    {
     "data": {
      "text/plain": [
       "'/pagead/clk?mo=r&ad=-6NYlbfkN0AHHRM07jvZ_9CBb8QXW1-TjD3eGHqqfxA2uagtxfXOakjo4B2-N_SfZU-NJMcK8P2H7WPBTRb70mQ-0eUeq25I2h10c1FaGEpvPC6dmmaWqO2e85Pq1plDBRvBMeAk0jZiFMYcDG_Rn1CtS_7s62Qfc195WLm1fTBT0Rub8VAn8mWzQSxnn_B-Wqs8-I_PgoLqCVNkS8FbFC97q76IoueBGv8_6a-6UPO5xmteI5aUmE0UM0GQw_hGddBDJ2oTVYa814oFBF7YkNk79gbkAe5syiTEILcM_OYy_AryuJnPRGhA9bXALtc35_fETyItQo65O_D6YGl7bMzGiW9TpDhvrat9oL2XWkmJPBHbOpWCwlmP5CaKaQf-b2UHmoKAcqjNxYdmWTSwglqbMy5wl0eA3bT72v_1_hK-VvTP0KMF9_VJqFx5Y3toQBoYX6ifN22egYYMVHKbEkOhGM3pmlUgpSleT4lPsm58PhZc96jgmczUuD7koyIpvUB2wrrWhMiOCdjGAeKj2czU9kn3DYA3CblsZtX_GK1mwYZFc_lo384XJid3UXeKPOFybRcK5AbolUDmUycALlpb4rDkpL9EvTMGL_JedxjMePU0WXH4Njj4_etUGKY8Q5oIQdIKHH5gA_YUQX0GPJ6WDEc92p3IDGQLPMu9mTA=&p=1&fvj=0&vjs=3'"
      ]
     },
     "execution_count": 180,
     "metadata": {},
     "output_type": "execute_result"
    }
   ],
   "source": [
    "link_job"
   ]
  },
  {
   "cell_type": "code",
   "execution_count": 181,
   "metadata": {},
   "outputs": [
    {
     "data": {
      "text/plain": [
       "'https://fr.indeed.com/pagead/clk?mo=r&ad=-6NYlbfkN0AHHRM07jvZ_9CBb8QXW1-TjD3eGHqqfxA2uagtxfXOakjo4B2-N_SfZU-NJMcK8P2H7WPBTRb70mQ-0eUeq25I2h10c1FaGEpvPC6dmmaWqO2e85Pq1plDBRvBMeAk0jZiFMYcDG_Rn1CtS_7s62Qfc195WLm1fTBT0Rub8VAn8mWzQSxnn_B-Wqs8-I_PgoLqCVNkS8FbFC97q76IoueBGv8_6a-6UPO5xmteI5aUmE0UM0GQw_hGddBDJ2oTVYa814oFBF7YkNk79gbkAe5syiTEILcM_OYy_AryuJnPRGhA9bXALtc35_fETyItQo65O_D6YGl7bMzGiW9TpDhvrat9oL2XWkmJPBHbOpWCwlmP5CaKaQf-b2UHmoKAcqjNxYdmWTSwglqbMy5wl0eA3bT72v_1_hK-VvTP0KMF9_VJqFx5Y3toQBoYX6ifN22egYYMVHKbEkOhGM3pmlUgpSleT4lPsm58PhZc96jgmczUuD7koyIpvUB2wrrWhMiOCdjGAeKj2czU9kn3DYA3CblsZtX_GK1mwYZFc_lo384XJid3UXeKPOFybRcK5AbolUDmUycALlpb4rDkpL9EvTMGL_JedxjMePU0WXH4Njj4_etUGKY8Q5oIQdIKHH5gA_YUQX0GPJ6WDEc92p3IDGQLPMu9mTA=&p=1&fvj=0&vjs=3'"
      ]
     },
     "execution_count": 181,
     "metadata": {},
     "output_type": "execute_result"
    }
   ],
   "source": [
    "job_url = 'https://fr.indeed.com' + link_job\n",
    "job_url"
   ]
  },
  {
   "cell_type": "markdown",
   "metadata": {},
   "source": [
    "### Go on the job page"
   ]
  },
  {
   "cell_type": "code",
   "execution_count": 7,
   "metadata": {},
   "outputs": [],
   "source": [
    "html_text = requests.get(job_url).text\n",
    "soup2 = BeautifulSoup(html_text, 'html.parser')"
   ]
  },
  {
   "cell_type": "code",
   "execution_count": 8,
   "metadata": {},
   "outputs": [],
   "source": [
    "company_name = soup2.find(class_='icl-u-lg-mr--sm icl-u-xs-mr--xs').text"
   ]
  },
  {
   "cell_type": "code",
   "execution_count": 9,
   "metadata": {},
   "outputs": [
    {
     "data": {
      "text/plain": [
       "'SOFTEAM'"
      ]
     },
     "execution_count": 9,
     "metadata": {},
     "output_type": "execute_result"
    }
   ],
   "source": [
    "company_name"
   ]
  },
  {
   "cell_type": "code",
   "execution_count": 10,
   "metadata": {},
   "outputs": [
    {
     "data": {
      "text/plain": [
       "'Data Scientist Python/Spark/SQL / Freelance'"
      ]
     },
     "execution_count": 10,
     "metadata": {},
     "output_type": "execute_result"
    }
   ],
   "source": [
    "job_title = soup2.find(class_='icl-u-xs-mb--xs icl-u-xs-mt--none jobsearch-JobInfoHeader-title').text\n",
    "job_title"
   ]
  },
  {
   "cell_type": "code",
   "execution_count": 11,
   "metadata": {},
   "outputs": [],
   "source": [
    "city_tag = soup2.find(class_='icl-u-xs-mt--xs icl-u-textColor--secondary jobsearch-JobInfoHeader-subtitle jobsearch-DesktopStickyContainer-subtitle')"
   ]
  },
  {
   "cell_type": "code",
   "execution_count": 12,
   "metadata": {},
   "outputs": [
    {
     "data": {
      "text/plain": [
       "[<div class=\"jobsearch-InlineCompanyRating icl-u-xs-mt--xs jobsearch-DesktopStickyContainer-companyrating\"><div class=\"icl-u-lg-mr--sm icl-u-xs-mr--xs\"><a href=\"https://fr.indeed.com/cmp/Softeam?campaignid=mobvjcmp&amp;from=mobviewjob&amp;tk=1fg45ds9dtva5800&amp;fromjk=62f1fdd66efc2af1\" target=\"_blank\">SOFTEAM</a></div><div class=\"icl-u-lg-block icl-u-lg-mr--sm icl-u-xs-hide\"><div class=\"icl-Ratings icl-Ratings--sm icl-Ratings--gold\" itemscope=\"\" itemtype=\"http://schema.org/AggregateRating\"><meta content=\"4\" itemprop=\"ratingValue\"><meta content=\"10\" itemprop=\"ratingCount\"><a aria-label=\"4 étoile(s) sur 5 selon la note de 10 employés\" class=\"icl-Ratings-starsCountWrapper icl-Ratings-link\" href=\"https://fr.indeed.com/cmp/Softeam/reviews?campaignid=mobvjcmp&amp;cmpratingc=mobviewjob&amp;from=mobviewjob&amp;tk=1fg45ds9dtva5800&amp;fromjk=62f1fdd66efc2af1&amp;jt=Data+Scientist+Python%2FSpark%2FSQL+%2F+Freelance\"><div class=\"icl-Ratings-starsWrapper\"><div class=\"icl-Ratings-starsUnfilled\"><div class=\"icl-Ratings-starsFilled\" style=\"width:51px\"></div></div></div><div aria-hidden=\"true\" class=\"icl-Ratings-count\">10 avis</div></a></meta></meta></div></div></div>,\n",
       " <div>Paris (75)</div>]"
      ]
     },
     "execution_count": 12,
     "metadata": {},
     "output_type": "execute_result"
    }
   ],
   "source": [
    "city_tag.contents"
   ]
  },
  {
   "cell_type": "code",
   "execution_count": 100,
   "metadata": {},
   "outputs": [],
   "source": [
    "city = city_tag.contents[1].text"
   ]
  },
  {
   "cell_type": "code",
   "execution_count": 20,
   "metadata": {},
   "outputs": [],
   "source": [
    "description = soup2.find(class_='jobsearch-jobDescriptionText').text"
   ]
  },
  {
   "cell_type": "code",
   "execution_count": 25,
   "metadata": {},
   "outputs": [
    {
     "data": {
      "text/plain": [
       "'480 € par jour'"
      ]
     },
     "execution_count": 25,
     "metadata": {},
     "output_type": "execute_result"
    }
   ],
   "source": [
    "contract_type = soup2.find(class_='jobsearch-JobMetadataHeader-item').text\n",
    "contract_type"
   ]
  },
  {
   "cell_type": "markdown",
   "metadata": {},
   "source": [
    "### Go through all the jobs "
   ]
  },
  {
   "cell_type": "code",
   "execution_count": 260,
   "metadata": {},
   "outputs": [],
   "source": [
    "def scrap_page(page_links, df):\n",
    "    \n",
    "    for i in range(len(page_links)):\n",
    "        time.sleep(10)\n",
    "        link_job = page_links[i].get(\"href\")  # get url\n",
    "        job_url = 'https://fr.indeed.com' + link_job\n",
    "\n",
    "        html_text = requests.get(job_url).text\n",
    "        soup2 = BeautifulSoup(html_text, 'html.parser')  # get on the job page\n",
    "        \n",
    "        company_name = soup2.find(class_='icl-u-lg-mr--sm icl-u-xs-mr--xs').text\n",
    "\n",
    "        job_title = soup2.find(class_='icl-u-xs-mb--xs icl-u-xs-mt--none jobsearch-JobInfoHeader-title').text\n",
    "\n",
    "        city_tag = soup2.find(class_='icl-u-xs-mt--xs icl-u-textColor--secondary jobsearch-JobInfoHeader-subtitle jobsearch-DesktopStickyContainer-subtitle')\n",
    "        city = city_tag.contents[1].text\n",
    "\n",
    "        description = soup2.find(class_='jobsearch-jobDescriptionText').text\n",
    "        \n",
    "\n",
    "        contract_tag = soup2.find(class_='jobsearch-JobMetadataHeader-item')\n",
    "        if contract_tag is None:\n",
    "            salary = \"-\"\n",
    "            contract_type = \"-\"\n",
    "        else:\n",
    "            salary = contract_tag.find(class_='icl-u-xs-mr--xs')\n",
    "            contract_type = contract_tag.find(class_='icl-u-xs-mt--xs')\n",
    "            if salary is None:  # info may not be available\n",
    "                salary = \"-\"\n",
    "            else:\n",
    "                salary = salary.text\n",
    "            if contract_type is None:\n",
    "                contract_type = \"-\"\n",
    "            else:\n",
    "                contract_type = contract_type.text\n",
    "\n",
    "        df.loc[len(df)] = [job_title, company_name, city, contract_type, salary, description]\n",
    "    \n",
    "    return(df)\n",
    "    "
   ]
  },
  {
   "cell_type": "code",
   "execution_count": 272,
   "metadata": {},
   "outputs": [],
   "source": [
    "def scrap_all_pages():\n",
    "    \n",
    "    # go on first page\n",
    "    indeed_url = 'https://fr.indeed.com/jobs?q=data+scientist&l=France&fromage=14'\n",
    "    headers = {\n",
    "        'user-agent' : 'Mozilla/5.0 (Windows NT 10.0; Win64; x64) AppleWebKit/537.36 (KHTML, like Gecko) Chrome/93.0.4577.82 Safari/537.36',\n",
    "        'accept' : 'text/html,application/xhtml+xml,application/xml;q=0.9,image/avif,image/webp,image/apng,*/*;q=0.8,application/signed-exchange;v=b3;q=0.9',\n",
    "        'accept-encoding' : 'gzip, deflate, br',\n",
    "        'accept-language' : 'fr-FR,fr;q=0.9,en-US;q=0.8,en;q=0.7',\n",
    "        'cache-control' : 'max-age=0',\n",
    "        'cookie' : 'CTK=1f59f0p323jkt000; pjps=1; OptanonAlertBoxClosed=2021-05-09T21:03:01.503Z; _gcl_au=1.1.819141225.1620594182; _ga=GA1.2.1404358068.1620594182; indeed_rcc=\"PREF:LV:CTK:RQ:UD\"; g_state={\"i_p\":1632775812618,\"i_l\":4}; RJAS=v797f001ec0a6f6f7; RF=\"TFTzyBUJoNr6YttPP3kyivpZ6-9J49o-Uk3iY6QNQqKE2fh7FyVgteeA43dMpyfIJ7QI1CUHfOw=\"; CSRF=CmJhOcfGMYtkxY3FV5BfsCTudBPHLOZn; INDEED_CSRF_TOKEN=CyxRhcGnFpWt44jyrhfUUMVyUviJIRvN; SURF=jBxWOoo2rgNtlcFUOEt7wv8M1i2Ii1Ic; MICRO_CONTENT_CSRF_TOKEN=Ft90iwSmWG2yK67qQnbnUZ9hdOEkdBly; SHARED_INDEED_CSRF_TOKEN=CyxRhcGnFpWt44jyrhfUUMVyUviJIRvN; PREF=\"TM=1632216680744:L=France\"; LV=\"LA=1632216743:LV=1620595382:CV=1632216680:TS=1620594156\"; RSJC=e31331307e8db02f:62f1fdd66efc2af1:39a8db8feef38a53:b09666338588b2e9; LC=\"co=FR\"; ROJC=0bc709d278701cb6:57e7fe84f2ad7b25:6ad38d661119f411:7442c72cd4b2c883:8858eddf32a26d87:0d7806c4b9cb4d2e:771e613d9299f459:265ae96ee014e6d3:89ed413b4aff6e57:712e15282109c695; SAVED_JOB=; _gid=GA1.2.198995016.1632389561; s_seven=t7zhV2OhRGvhJLwOpFT4vioIa5YMKmkycg2RQUPR8xA; _gat=1; UD=\"LA=1632389660:LV=1632237101:CV=1632389560:TS=1632227501:SG=d7f77b179bf8769dd58fe2eef4e2ded5\"; RQ=\"q=data+scientist&l=France&ts=1632389660734&pts=1632239808408:q=Data&l=France&ts=1632216680757:q=Data&l=Rennes+(35)&radius=10&ts=1631697196484&pts=1630687057695:q=Data+Science&l=Biarritz+(64)&ts=1622020078219:q=data+scientist&l=&ts=1620595382201\"; jaSerpCount=36; OptanonConsent=isIABGlobal=false&datestamp=Thu+Sep+23+2021+11:34:20+GMT+0200+(heure+d’été+d’Europe+centrale)&version=6.13.0&hosts=&consentId=8bd2edf7-434d-428f-afd7-9b7e938f0ba1&interactionCount=1&landingPath=NotLandingPage&groups=C0001:1,C0002:1,C0003:1,C0004:1&geolocation=;&AwaitingReconsent=false; JSESSIONID=89B21C23B5F60A1FFF67687B91B56B28',\n",
    "        'sec-fetch-dest' : 'document',\n",
    "        'sec-fetch-mode' : 'navigate',\n",
    "        'sec-fetch-site' : 'none',\n",
    "        'sec-fetch-user' : '?1',\n",
    "        'upgrade-insecure-requests' : '1'\n",
    "    }\n",
    "    html_text = requests.get(indeed_url, headers).text\n",
    "    soup = BeautifulSoup(html_text, 'html.parser')\n",
    "    \n",
    "    txt_pages = soup.find(id='searchCountPages').text  # get info about nb of pages\n",
    "    nb_jobs = txt_pages[(len(txt_pages)-11):len(txt_pages)-8]  # nb of jobs (I know there are around 380)\n",
    "    \n",
    "    df = pd.DataFrame(columns=('title', 'company', 'city', 'contract_type', 'salary', 'description'))\n",
    "    \n",
    "    i=1\n",
    "    while(len(df) < int(nb_jobs)):\n",
    "        \n",
    "        if(i%10 == 0):  #print where we are at\n",
    "            print(i)\n",
    "        \n",
    "        page_links = soup.find_all(class_=re.compile('result job'))\n",
    "        if(page_links is None):  # can happen because of captcha\n",
    "            print(i)\n",
    "        \n",
    "        df = scrap_page(page_links, df)\n",
    "        \n",
    "        # prepare to go on next page\n",
    "        i=i+1\n",
    "        new_url = indeed_url + \"&start=\" + str(10*(i-1))\n",
    "        html_text = requests.get(hs_url).text\n",
    "        soup = BeautifulSoup(html_text, 'html.parser')  # update soup content\n",
    "    \n",
    "    return(df)"
   ]
  },
  {
   "cell_type": "code",
   "execution_count": 273,
   "metadata": {},
   "outputs": [
    {
     "name": "stdout",
     "output_type": "stream",
     "text": [
      "10\n",
      "20\n"
     ]
    }
   ],
   "source": [
    "foo = scrap_all_pages()"
   ]
  },
  {
   "cell_type": "code",
   "execution_count": 274,
   "metadata": {},
   "outputs": [
    {
     "data": {
      "text/html": [
       "<div>\n",
       "<style scoped>\n",
       "    .dataframe tbody tr th:only-of-type {\n",
       "        vertical-align: middle;\n",
       "    }\n",
       "\n",
       "    .dataframe tbody tr th {\n",
       "        vertical-align: top;\n",
       "    }\n",
       "\n",
       "    .dataframe thead th {\n",
       "        text-align: right;\n",
       "    }\n",
       "</style>\n",
       "<table border=\"1\" class=\"dataframe\">\n",
       "  <thead>\n",
       "    <tr style=\"text-align: right;\">\n",
       "      <th></th>\n",
       "      <th>title</th>\n",
       "      <th>company</th>\n",
       "      <th>city</th>\n",
       "      <th>contract_type</th>\n",
       "      <th>salary</th>\n",
       "      <th>description</th>\n",
       "    </tr>\n",
       "  </thead>\n",
       "  <tbody>\n",
       "    <tr>\n",
       "      <th>0</th>\n",
       "      <td>Expert Machine learning / Data Scientist H/F</td>\n",
       "      <td>OSO-AI</td>\n",
       "      <td>29280 Plouzané</td>\n",
       "      <td>-  CDI</td>\n",
       "      <td>30 000 € - 60 000 € par an</td>\n",
       "      <td>OSO-AI met en application l’Intelligence Artif...</td>\n",
       "    </tr>\n",
       "    <tr>\n",
       "      <th>1</th>\n",
       "      <td>Data Scientist</td>\n",
       "      <td>Euler Hermes Group</td>\n",
       "      <td>Paris (75)</td>\n",
       "      <td>-</td>\n",
       "      <td>-</td>\n",
       "      <td>The role's mission is to unlock valuable and p...</td>\n",
       "    </tr>\n",
       "    <tr>\n",
       "      <th>2</th>\n",
       "      <td>Data Scientist SmartCity / infrastructures (35...</td>\n",
       "      <td>Eiffage Énergie Systèmes</td>\n",
       "      <td>Cesson-Sévigné (35)</td>\n",
       "      <td>CDI</td>\n",
       "      <td>-</td>\n",
       "      <td>Dans un contexte d’accroissement d’activité, n...</td>\n",
       "    </tr>\n",
       "    <tr>\n",
       "      <th>3</th>\n",
       "      <td>Data Scientist junior (H/F)</td>\n",
       "      <td>Natixis</td>\n",
       "      <td>75013 Paris</td>\n",
       "      <td>CDI</td>\n",
       "      <td>-</td>\n",
       "      <td>Description de l’entreprise\\nNatixis Assurance...</td>\n",
       "    </tr>\n",
       "    <tr>\n",
       "      <th>4</th>\n",
       "      <td>Data Scientist H/F</td>\n",
       "      <td>PREDITIC</td>\n",
       "      <td>33000 Bordeaux</td>\n",
       "      <td>-  CDI</td>\n",
       "      <td>2 800 € - 3 800 € par mois</td>\n",
       "      <td>Notre société PREDITIC a initié un programme d...</td>\n",
       "    </tr>\n",
       "  </tbody>\n",
       "</table>\n",
       "</div>"
      ],
      "text/plain": [
       "                                               title  \\\n",
       "0       Expert Machine learning / Data Scientist H/F   \n",
       "1                                     Data Scientist   \n",
       "2  Data Scientist SmartCity / infrastructures (35...   \n",
       "3                        Data Scientist junior (H/F)   \n",
       "4                                 Data Scientist H/F   \n",
       "\n",
       "                    company                 city contract_type  \\\n",
       "0                    OSO-AI       29280 Plouzané        -  CDI   \n",
       "1        Euler Hermes Group           Paris (75)             -   \n",
       "2  Eiffage Énergie Systèmes  Cesson-Sévigné (35)           CDI   \n",
       "3                   Natixis          75013 Paris           CDI   \n",
       "4                  PREDITIC       33000 Bordeaux        -  CDI   \n",
       "\n",
       "                       salary  \\\n",
       "0  30 000 € - 60 000 € par an   \n",
       "1                           -   \n",
       "2                           -   \n",
       "3                           -   \n",
       "4  2 800 € - 3 800 € par mois   \n",
       "\n",
       "                                         description  \n",
       "0  OSO-AI met en application l’Intelligence Artif...  \n",
       "1  The role's mission is to unlock valuable and p...  \n",
       "2  Dans un contexte d’accroissement d’activité, n...  \n",
       "3  Description de l’entreprise\\nNatixis Assurance...  \n",
       "4  Notre société PREDITIC a initié un programme d...  "
      ]
     },
     "execution_count": 274,
     "metadata": {},
     "output_type": "execute_result"
    }
   ],
   "source": [
    "foo.head()"
   ]
  },
  {
   "cell_type": "code",
   "execution_count": 276,
   "metadata": {},
   "outputs": [
    {
     "data": {
      "text/plain": [
       "369"
      ]
     },
     "execution_count": 276,
     "metadata": {},
     "output_type": "execute_result"
    }
   ],
   "source": [
    "len(foo)"
   ]
  },
  {
   "cell_type": "code",
   "execution_count": 277,
   "metadata": {},
   "outputs": [],
   "source": [
    "foo.to_csv('data.csv', index=False)"
   ]
  },
  {
   "cell_type": "code",
   "execution_count": 278,
   "metadata": {},
   "outputs": [
    {
     "data": {
      "text/html": [
       "<div>\n",
       "<style scoped>\n",
       "    .dataframe tbody tr th:only-of-type {\n",
       "        vertical-align: middle;\n",
       "    }\n",
       "\n",
       "    .dataframe tbody tr th {\n",
       "        vertical-align: top;\n",
       "    }\n",
       "\n",
       "    .dataframe thead th {\n",
       "        text-align: right;\n",
       "    }\n",
       "</style>\n",
       "<table border=\"1\" class=\"dataframe\">\n",
       "  <thead>\n",
       "    <tr style=\"text-align: right;\">\n",
       "      <th></th>\n",
       "      <th>title</th>\n",
       "      <th>company</th>\n",
       "      <th>city</th>\n",
       "      <th>contract_type</th>\n",
       "      <th>salary</th>\n",
       "      <th>description</th>\n",
       "    </tr>\n",
       "  </thead>\n",
       "  <tbody>\n",
       "    <tr>\n",
       "      <th>364</th>\n",
       "      <td>Clinical Data Scientist</td>\n",
       "      <td>POPSI CUBE</td>\n",
       "      <td>Paris 13e (75)</td>\n",
       "      <td>-  Temps plein, CDI</td>\n",
       "      <td>2 500 € par mois</td>\n",
       "      <td>Le Groupe POPSI CUBE, est depuis 2004 reconnu ...</td>\n",
       "    </tr>\n",
       "    <tr>\n",
       "      <th>365</th>\n",
       "      <td>Data Scientist (all seniority levels) - Quantu...</td>\n",
       "      <td>McKinsey &amp; Company</td>\n",
       "      <td>75008 Paris</td>\n",
       "      <td>-</td>\n",
       "      <td>-</td>\n",
       "      <td>Qualifications\\nMaster’s degree in quantitativ...</td>\n",
       "    </tr>\n",
       "    <tr>\n",
       "      <th>366</th>\n",
       "      <td>Data Scientist Marketing Junior</td>\n",
       "      <td>Accenture</td>\n",
       "      <td>Paris (75)</td>\n",
       "      <td>-</td>\n",
       "      <td>-</td>\n",
       "      <td>Vos connaissances disent souvent que vous êtes...</td>\n",
       "    </tr>\n",
       "    <tr>\n",
       "      <th>367</th>\n",
       "      <td>Data Scientist H/F/NB</td>\n",
       "      <td>Ubisoft</td>\n",
       "      <td>Paris (75)</td>\n",
       "      <td>-</td>\n",
       "      <td>-</td>\n",
       "      <td>Description de l'entreprise\\nLes équipes d’Ubi...</td>\n",
       "    </tr>\n",
       "    <tr>\n",
       "      <th>368</th>\n",
       "      <td>Data scientist – jeune Docteur(e) en Deep lear...</td>\n",
       "      <td>Quantmetry</td>\n",
       "      <td>Paris (75)</td>\n",
       "      <td>CDI</td>\n",
       "      <td>-</td>\n",
       "      <td>Qui sommes-nous ?\\nQuantmetry - the State of t...</td>\n",
       "    </tr>\n",
       "  </tbody>\n",
       "</table>\n",
       "</div>"
      ],
      "text/plain": [
       "                                                 title             company  \\\n",
       "364                            Clinical Data Scientist          POPSI CUBE   \n",
       "365  Data Scientist (all seniority levels) - Quantu...  McKinsey & Company   \n",
       "366                    Data Scientist Marketing Junior           Accenture   \n",
       "367                              Data Scientist H/F/NB             Ubisoft   \n",
       "368  Data scientist – jeune Docteur(e) en Deep lear...          Quantmetry   \n",
       "\n",
       "               city         contract_type            salary  \\\n",
       "364  Paris 13e (75)   -  Temps plein, CDI  2 500 € par mois   \n",
       "365     75008 Paris                     -                 -   \n",
       "366      Paris (75)                     -                 -   \n",
       "367      Paris (75)                     -                 -   \n",
       "368      Paris (75)                   CDI                 -   \n",
       "\n",
       "                                           description  \n",
       "364  Le Groupe POPSI CUBE, est depuis 2004 reconnu ...  \n",
       "365  Qualifications\\nMaster’s degree in quantitativ...  \n",
       "366  Vos connaissances disent souvent que vous êtes...  \n",
       "367  Description de l'entreprise\\nLes équipes d’Ubi...  \n",
       "368  Qui sommes-nous ?\\nQuantmetry - the State of t...  "
      ]
     },
     "execution_count": 278,
     "metadata": {},
     "output_type": "execute_result"
    }
   ],
   "source": [
    "foo.tail()"
   ]
  },
  {
   "cell_type": "code",
   "execution_count": null,
   "metadata": {},
   "outputs": [],
   "source": []
  }
 ],
 "metadata": {
  "kernelspec": {
   "display_name": "Python 3",
   "language": "python",
   "name": "python3"
  },
  "language_info": {
   "codemirror_mode": {
    "name": "ipython",
    "version": 3
   },
   "file_extension": ".py",
   "mimetype": "text/x-python",
   "name": "python",
   "nbconvert_exporter": "python",
   "pygments_lexer": "ipython3",
   "version": "3.8.5"
  }
 },
 "nbformat": 4,
 "nbformat_minor": 4
}
