{
 "cells": [
  {
   "cell_type": "code",
   "execution_count": 521,
   "metadata": {},
   "outputs": [],
   "source": [
    "import pandas as pd\n",
    "import plotly.express as px\n",
    "import numpy as np\n",
    "import re"
   ]
  },
  {
   "cell_type": "code",
   "execution_count": 522,
   "metadata": {},
   "outputs": [],
   "source": [
    "df = pd.read_csv('../data/raw_data.csv')"
   ]
  },
  {
   "cell_type": "code",
   "execution_count": 523,
   "metadata": {},
   "outputs": [
    {
     "data": {
      "text/plain": [
       "370"
      ]
     },
     "execution_count": 523,
     "metadata": {},
     "output_type": "execute_result"
    }
   ],
   "source": [
    "len(df)  # 370 rows supposed to correspond to a job"
   ]
  },
  {
   "cell_type": "code",
   "execution_count": 524,
   "metadata": {},
   "outputs": [
    {
     "data": {
      "text/plain": [
       "236"
      ]
     },
     "execution_count": 524,
     "metadata": {},
     "output_type": "execute_result"
    }
   ],
   "source": [
    "len(pd.unique(df.description))  # only 236 unique job descriptions so there must be duplicates in the data"
   ]
  },
  {
   "cell_type": "markdown",
   "metadata": {},
   "source": [
    "### Deletion of duplicates "
   ]
  },
  {
   "cell_type": "code",
   "execution_count": 525,
   "metadata": {},
   "outputs": [
    {
     "data": {
      "text/plain": [
       "133"
      ]
     },
     "execution_count": 525,
     "metadata": {},
     "output_type": "execute_result"
    }
   ],
   "source": [
    "# Find a duplicate rows\n",
    "duplicateDFRow = df[df.duplicated()]\n",
    "len(duplicateDFRow)  # there are 133 duplicated in the data"
   ]
  },
  {
   "cell_type": "code",
   "execution_count": 526,
   "metadata": {},
   "outputs": [
    {
     "data": {
      "text/plain": [
       "237"
      ]
     },
     "execution_count": 526,
     "metadata": {},
     "output_type": "execute_result"
    }
   ],
   "source": [
    "df.drop(duplicateDFRow.index, inplace=True)\n",
    "len(df)"
   ]
  },
  {
   "cell_type": "code",
   "execution_count": 527,
   "metadata": {},
   "outputs": [
    {
     "data": {
      "text/html": [
       "<div>\n",
       "<style scoped>\n",
       "    .dataframe tbody tr th:only-of-type {\n",
       "        vertical-align: middle;\n",
       "    }\n",
       "\n",
       "    .dataframe tbody tr th {\n",
       "        vertical-align: top;\n",
       "    }\n",
       "\n",
       "    .dataframe thead th {\n",
       "        text-align: right;\n",
       "    }\n",
       "</style>\n",
       "<table border=\"1\" class=\"dataframe\">\n",
       "  <thead>\n",
       "    <tr style=\"text-align: right;\">\n",
       "      <th></th>\n",
       "      <th>title</th>\n",
       "      <th>company</th>\n",
       "      <th>city</th>\n",
       "      <th>contract_type</th>\n",
       "      <th>salary</th>\n",
       "      <th>description</th>\n",
       "    </tr>\n",
       "  </thead>\n",
       "  <tbody>\n",
       "    <tr>\n",
       "      <th>0</th>\n",
       "      <td>Data Scientist F/H</td>\n",
       "      <td>Malakoff Humanis</td>\n",
       "      <td>Paris (75)</td>\n",
       "      <td>CDI</td>\n",
       "      <td>-</td>\n",
       "      <td>Société\\n\\nASSOCIATION DE MOYENS ASSURANCE DE ...</td>\n",
       "    </tr>\n",
       "    <tr>\n",
       "      <th>1</th>\n",
       "      <td>Data Scientist H/F</td>\n",
       "      <td>Atos</td>\n",
       "      <td>Montpellier (34)</td>\n",
       "      <td>-</td>\n",
       "      <td>-</td>\n",
       "      <td>À propos d’Atos\\n\\nAtos est un leader internat...</td>\n",
       "    </tr>\n",
       "    <tr>\n",
       "      <th>2</th>\n",
       "      <td>Data Analyst Marketing</td>\n",
       "      <td>Talent Partners</td>\n",
       "      <td>34000 Montpellier</td>\n",
       "      <td>-  Temps plein, CDI</td>\n",
       "      <td>40 000 € par an</td>\n",
       "      <td>NOTRE CLIENT EN QUELQUES MOTS✲ Secteur de l'IT...</td>\n",
       "    </tr>\n",
       "    <tr>\n",
       "      <th>3</th>\n",
       "      <td>Data Scientist - COPERNEEC</td>\n",
       "      <td>Coperneec</td>\n",
       "      <td>Paris (75)</td>\n",
       "      <td>-</td>\n",
       "      <td>-</td>\n",
       "      <td>Data Scientist - COPERNEEC\\nA propos de Copern...</td>\n",
       "    </tr>\n",
       "    <tr>\n",
       "      <th>4</th>\n",
       "      <td>Data Scientist</td>\n",
       "      <td>Avisto</td>\n",
       "      <td>06220 Vallauris</td>\n",
       "      <td>Temps plein, CDI</td>\n",
       "      <td>-</td>\n",
       "      <td>Dans le cadre de nos activités, vous serez ame...</td>\n",
       "    </tr>\n",
       "  </tbody>\n",
       "</table>\n",
       "</div>"
      ],
      "text/plain": [
       "                        title           company               city  \\\n",
       "0          Data Scientist F/H  Malakoff Humanis         Paris (75)   \n",
       "1          Data Scientist H/F              Atos   Montpellier (34)   \n",
       "2      Data Analyst Marketing   Talent Partners  34000 Montpellier   \n",
       "3  Data Scientist - COPERNEEC         Coperneec         Paris (75)   \n",
       "4              Data Scientist            Avisto    06220 Vallauris   \n",
       "\n",
       "          contract_type           salary  \\\n",
       "0                   CDI                -   \n",
       "1                     -                -   \n",
       "2   -  Temps plein, CDI  40 000 € par an   \n",
       "3                     -                -   \n",
       "4      Temps plein, CDI                -   \n",
       "\n",
       "                                         description  \n",
       "0  Société\\n\\nASSOCIATION DE MOYENS ASSURANCE DE ...  \n",
       "1  À propos d’Atos\\n\\nAtos est un leader internat...  \n",
       "2  NOTRE CLIENT EN QUELQUES MOTS✲ Secteur de l'IT...  \n",
       "3  Data Scientist - COPERNEEC\\nA propos de Copern...  \n",
       "4  Dans le cadre de nos activités, vous serez ame...  "
      ]
     },
     "execution_count": 527,
     "metadata": {},
     "output_type": "execute_result"
    }
   ],
   "source": [
    "df.head()"
   ]
  },
  {
   "cell_type": "markdown",
   "metadata": {},
   "source": [
    "### City "
   ]
  },
  {
   "cell_type": "code",
   "execution_count": 528,
   "metadata": {},
   "outputs": [
    {
     "data": {
      "text/plain": [
       "array(['Paris (75)', 'Montpellier (34)', '34000 Montpellier',\n",
       "       '06220 Vallauris', 'Rennes (35)', '47000 Agen', '94300 Vincennes',\n",
       "       '13590 Meyreuil', 'Paris 15e (75)', 'Saint-Malo (35)',\n",
       "       'Villeurbanne (69)', 'La Défense (92)', '75116 Paris 16e',\n",
       "       'Clichy (92)', 'Rungis (94)', 'Guyancourt (78)',\n",
       "       'Neuilly-sur-Seine (92)', 'Eu (76)', '17000 La Rochelle',\n",
       "       '92400 Courbevoie', 'Amiens (80)', '92300 Levallois-Perret',\n",
       "       '75013 Paris 13e', 'Magny-les-Hameaux (78)', '91940 Les Ulis',\n",
       "       '44000 Nantes', 'Toulouse (31)', '06560 Valbonne',\n",
       "       'Courbevoie (92)', '87000 Limoges', 'Tourcoing (59)',\n",
       "       '92800 Puteaux', 'Lyon (69)', 'Télétravail', 'Gennevilliers (92)',\n",
       "       'Nantes (44)', 'Paris 14e (75)', 'Paris 13e (75)', 'Meudon (92)',\n",
       "       'Bordeaux (33)', '14000 Caen', '34095 Montpellier',\n",
       "       'Aix-en-Provence (13)', '92210 Saint-Cloud',\n",
       "       'Fontenay-sous-Bois (94)', '74650 Chavanod', 'Paris 2e (75)',\n",
       "       'Clermont-Ferrand (63)', 'Nanterre (92)', \"Marcy-l'Étoile (69)\",\n",
       "       'Paris 3e (75)', 'Saint-Maurice (94)', '31300 Toulouse',\n",
       "       'Issy-les-Moulineaux (92)', 'Paris 16e (75)', 'Bondoufle (91)',\n",
       "       'Caen (14)', '92360 Meudon', 'Lyon 1er (69)', 'Paris 8e (75)',\n",
       "       '94811 Villejuif', 'Châtellerault (86)', 'Lyon 3e (69)',\n",
       "       'Grenoble (38)', 'Brétigny-sur-Orge (91)', 'Maisons-Alfort (94)',\n",
       "       '75014 Paris 14e', 'Villeneuve-la-Garenne (92)', '75012 Paris 12e',\n",
       "       '94410 Saint-Maurice', 'Illkirch-Graffenstaden (67)', 'Tours (37)',\n",
       "       'Bayonne (64)', '74000 Annecy', '92220 Bagneux',\n",
       "       'Montbéliard (25)', 'Marseille 1er (13)', 'Strasbourg (67)',\n",
       "       '13090 Aix-en-Provence', '75010 Paris 10e', 'Lille (59)',\n",
       "       '75011 Paris', 'Paris 9e (75)', 'Boulogne-Billancourt (92)',\n",
       "       '92100 Boulogne-Billancourt', '59800 Lille', '78533 Buc',\n",
       "       'Saint-Sauveur (31)', '45140 Ormes', 'Viroflay (78)',\n",
       "       'Saclay (91)', 'Marseille (13)', '91300 Massy',\n",
       "       '92350 Le Plessis-Robinson', '59700 Marcq-en-Barœul',\n",
       "       '75007 Paris 7e', 'Chambéry (73)', 'Nogent-sur-Marne (94)',\n",
       "       'Saint-Denis (RE)', 'Marseille 2e (13)', 'Île-de-France',\n",
       "       '75008 Paris 8e', 'Lezennes (59)', 'Paris 1er (75)', 'Olivet (45)',\n",
       "       'Paris 12e (75)', 'Valenciennes (59)', 'Levallois-Perret (92)',\n",
       "       '75009 Paris 9e', '13100 Aix-en-Provence', '91191 Gif-sur-Yvette',\n",
       "       '31790 Saint-Sauveur', 'Troyes (10)', 'Roncq (59)', '17440 Aytré',\n",
       "       '75004 Paris 4e', '28320 Ymeray', '69007 Lyon 7e',\n",
       "       '92240 Malakoff', 'Bois-Colombes (92)', '75016 Paris 16e',\n",
       "       '75020 Paris 20e'], dtype=object)"
      ]
     },
     "execution_count": 528,
     "metadata": {},
     "output_type": "execute_result"
    }
   ],
   "source": [
    "pd.unique(df.city)"
   ]
  },
  {
   "cell_type": "markdown",
   "metadata": {},
   "source": [
    "We want to clean the city variable by removing the postal code data and keeping only the city name \\\n",
    "We do this by keeping only the characters that are letters or - sign"
   ]
  },
  {
   "cell_type": "code",
   "execution_count": 529,
   "metadata": {},
   "outputs": [],
   "source": [
    "# takes a string and returns the same strings but only with characters that are letters (or - sign)\n",
    "def get_letters(value):\n",
    "    return ''.join([i for i in value if (i.isalpha()) | (i=='-') | (i==' ') | (i==\"'\")])"
   ]
  },
  {
   "cell_type": "code",
   "execution_count": 530,
   "metadata": {},
   "outputs": [],
   "source": [
    "#clean the city variable, by removing the postal codes or parentheses\n",
    "df['city_letters'] = df.city.apply(get_letters)"
   ]
  },
  {
   "cell_type": "code",
   "execution_count": 531,
   "metadata": {},
   "outputs": [
    {
     "data": {
      "text/plain": [
       "array(['Paris ', 'Montpellier ', ' Montpellier', ' Vallauris', 'Rennes ',\n",
       "       ' Agen', ' Vincennes', ' Meyreuil', 'Paris e ', 'Saint-Malo ',\n",
       "       'Villeurbanne ', 'La Défense ', ' Paris e', 'Clichy ', 'Rungis ',\n",
       "       'Guyancourt ', 'Neuilly-sur-Seine ', 'Eu ', ' La Rochelle',\n",
       "       ' Courbevoie', 'Amiens ', ' Levallois-Perret',\n",
       "       'Magny-les-Hameaux ', ' Les Ulis', ' Nantes', 'Toulouse ',\n",
       "       ' Valbonne', 'Courbevoie ', ' Limoges', 'Tourcoing ', ' Puteaux',\n",
       "       'Lyon ', 'Télétravail', 'Gennevilliers ', 'Nantes ', 'Meudon ',\n",
       "       'Bordeaux ', ' Caen', 'Aix-en-Provence ', ' Saint-Cloud',\n",
       "       'Fontenay-sous-Bois ', ' Chavanod', 'Clermont-Ferrand ',\n",
       "       'Nanterre ', \"Marcy-l'Étoile \", 'Saint-Maurice ', ' Toulouse',\n",
       "       'Issy-les-Moulineaux ', 'Bondoufle ', 'Caen ', ' Meudon',\n",
       "       'Lyon er ', ' Villejuif', 'Châtellerault ', 'Lyon e ', 'Grenoble ',\n",
       "       'Brétigny-sur-Orge ', 'Maisons-Alfort ', 'Villeneuve-la-Garenne ',\n",
       "       ' Saint-Maurice', 'Illkirch-Graffenstaden ', 'Tours ', 'Bayonne ',\n",
       "       ' Annecy', ' Bagneux', 'Montbéliard ', 'Marseille er ',\n",
       "       'Strasbourg ', ' Aix-en-Provence', 'Lille ', ' Paris',\n",
       "       'Boulogne-Billancourt ', ' Boulogne-Billancourt', ' Lille', ' Buc',\n",
       "       'Saint-Sauveur ', ' Ormes', 'Viroflay ', 'Saclay ', 'Marseille ',\n",
       "       ' Massy', ' Le Plessis-Robinson', ' Marcq-en-Barœul', 'Chambéry ',\n",
       "       'Nogent-sur-Marne ', 'Saint-Denis RE', 'Marseille e ',\n",
       "       'Île-de-France', 'Lezennes ', 'Paris er ', 'Olivet ',\n",
       "       'Valenciennes ', 'Levallois-Perret ', ' Gif-sur-Yvette',\n",
       "       ' Saint-Sauveur', 'Troyes ', 'Roncq ', ' Aytré', ' Ymeray',\n",
       "       ' Lyon e', ' Malakoff', 'Bois-Colombes '], dtype=object)"
      ]
     },
     "execution_count": 531,
     "metadata": {},
     "output_type": "execute_result"
    }
   ],
   "source": [
    "pd.unique(df.city_letters)"
   ]
  },
  {
   "cell_type": "markdown",
   "metadata": {},
   "source": [
    "With cities with districts, we lost this information but letters can still be in the city name \\\n",
    "For these cities, we fix it by replacing by the name of the city when it's found in the variable"
   ]
  },
  {
   "cell_type": "code",
   "execution_count": 532,
   "metadata": {},
   "outputs": [],
   "source": [
    "# Paris\n",
    "paris_indices = df.loc[df.city_letters.str.contains('Paris', case=False)].index\n",
    "df.loc[paris_indices, \"city_letters\"] = [\"Paris\"]*len(paris_indices)\n",
    "\n",
    "# Marseille\n",
    "marseille_indices = df.loc[df.city_letters.str.contains('Marseille', case=False)].index\n",
    "df.loc[marseille_indices, \"city_letters\"] = [\"Marseille\"]*len(marseille_indices)\n",
    "\n",
    "# Lyon\n",
    "lyon_indices = df.loc[df.city_letters.str.contains('Lyon', case=False)].index\n",
    "df.loc[lyon_indices, 'city_letters'] = [\"Lyon\"]*len(lyon_indices)"
   ]
  },
  {
   "cell_type": "code",
   "execution_count": 533,
   "metadata": {},
   "outputs": [],
   "source": [
    "# city that starts or ends with a space --> we remove this space\n",
    "# ^\\s for start\n",
    "# \\s$ for end with a space\n",
    "df.city_letters.replace('^\\s','',regex=True, inplace = True)\n",
    "df.city_letters.replace('\\s$', '', regex=True, inplace=True)"
   ]
  },
  {
   "cell_type": "markdown",
   "metadata": {},
   "source": [
    "### Contract type "
   ]
  },
  {
   "cell_type": "code",
   "execution_count": 534,
   "metadata": {},
   "outputs": [
    {
     "data": {
      "text/plain": [
       "array(['CDI', '-', ' -  Temps plein, CDI', 'Temps plein, CDI',\n",
       "       'Apprentissage, Contrat pro', 'Stage', 'CDD', 'CDD, CDI',\n",
       "       'Temps plein, Stage', 'Temps partiel',\n",
       "       'Temps plein, Temps partiel', ' -  Temps plein, CDD',\n",
       "       'Freelance / Indépendant', 'Temps plein, CDD', ' -  CDI',\n",
       "       ' -  Intérim', 'Temps plein, Intérim', 'Intérim'], dtype=object)"
      ]
     },
     "execution_count": 534,
     "metadata": {},
     "output_type": "execute_result"
    }
   ],
   "source": [
    "pd.unique(df.contract_type)"
   ]
  },
  {
   "cell_type": "markdown",
   "metadata": {},
   "source": [
    "#### CDI "
   ]
  },
  {
   "cell_type": "code",
   "execution_count": 535,
   "metadata": {},
   "outputs": [],
   "source": [
    "cdi_indices = df.loc[df['contract_type'].str.contains(\"CDI\", case=False)].index\n",
    "df.loc[cdi_indices, \"contract_type\"] = [\"CDI\"]*len(cdi_indices)"
   ]
  },
  {
   "cell_type": "markdown",
   "metadata": {},
   "source": [
    "#### Apprentissage"
   ]
  },
  {
   "cell_type": "code",
   "execution_count": 536,
   "metadata": {},
   "outputs": [],
   "source": [
    "student_indices = df.loc[(df['contract_type'].str.contains(\"Apprentissage\", case=False)) | df.contract_type.str.contains(\"Stage\", case=False)].index\n",
    "df.drop(student_indices, inplace=True)  # we are not interested in this type of contract, 34 rowd"
   ]
  },
  {
   "cell_type": "markdown",
   "metadata": {},
   "source": [
    "#### Intérim"
   ]
  },
  {
   "cell_type": "code",
   "execution_count": 537,
   "metadata": {},
   "outputs": [],
   "source": [
    "interim_indices = df.loc[df['contract_type'].str.contains(\"Intérim\", case=False)].index\n",
    "df.loc[interim_indices, \"contract_type\"] = [\"Intérim\"]*len(interim_indices)"
   ]
  },
  {
   "cell_type": "code",
   "execution_count": 538,
   "metadata": {},
   "outputs": [
    {
     "data": {
      "text/plain": [
       "array(['CDI', '-', 'CDD', 'Temps partiel', 'Temps plein, Temps partiel',\n",
       "       ' -  Temps plein, CDD', 'Freelance / Indépendant',\n",
       "       'Temps plein, CDD', 'Intérim'], dtype=object)"
      ]
     },
     "execution_count": 538,
     "metadata": {},
     "output_type": "execute_result"
    }
   ],
   "source": [
    "pd.unique(df.contract_type)"
   ]
  },
  {
   "cell_type": "markdown",
   "metadata": {},
   "source": [
    "#### CDD"
   ]
  },
  {
   "cell_type": "code",
   "execution_count": 539,
   "metadata": {},
   "outputs": [],
   "source": [
    "cdd_indices = df.loc[df['contract_type'].str.contains(\"CDD\", case=False)].index\n",
    "df.loc[cdd_indices, 'contract_type'] = [\"CDD\"]*len(cdd_indices)"
   ]
  },
  {
   "cell_type": "code",
   "execution_count": 540,
   "metadata": {},
   "outputs": [],
   "source": [
    "# lines where it's not specified will be represented with '-'\n",
    "unspec_indices = df.loc[df.contract_type.str.contains(\"Temps partiel\", case=False)].index\n",
    "df.loc[unspec_indices, 'contract_type'] = [\"-\"]*len(unspec_indices)"
   ]
  },
  {
   "cell_type": "markdown",
   "metadata": {},
   "source": [
    "#### Freelance "
   ]
  },
  {
   "cell_type": "code",
   "execution_count": 541,
   "metadata": {},
   "outputs": [],
   "source": [
    "# as I'm searching for a first job, I am not looking at freelandce opportunities\n",
    "freelance_indices = df.loc[df.contract_type.str.contains(\"Freelance\", case=False)].index\n",
    "df.drop(freelance_indices, inplace=True)"
   ]
  },
  {
   "cell_type": "markdown",
   "metadata": {},
   "source": [
    "### Salary "
   ]
  },
  {
   "cell_type": "code",
   "execution_count": 542,
   "metadata": {},
   "outputs": [
    {
     "data": {
      "text/plain": [
       "array(['-', '40\\xa0000 € par an', '2\\xa0750 € par mois',\n",
       "       '3\\xa0000 € par mois', '38\\xa0000 € par an',\n",
       "       '50\\xa0000 € - 60\\xa0000 € par an',\n",
       "       '2\\xa0053 € - 4\\xa0211 € par mois',\n",
       "       '36\\xa0000 € - 38\\xa0000 € par an',\n",
       "       '40\\xa0000 € - 55\\xa0000 € par an',\n",
       "       '35\\xa0000 € - 40\\xa0000 € par an',\n",
       "       '35\\xa0000 € - 38\\xa0000 € par an',\n",
       "       '30\\xa0000 € - 40\\xa0000 € par an',\n",
       "       '50\\xa0000 € - 80\\xa0000 € par an',\n",
       "       '45\\xa0000 € - 55\\xa0000 € par an',\n",
       "       '35\\xa0000 € - 45\\xa0000 € par an', '550 € - 600 € par jour',\n",
       "       '40\\xa0000 € - 50\\xa0000 € par an', '3\\xa0624 € par mois',\n",
       "       '60\\xa0000 € - 70\\xa0000 € par an', '3\\xa0300 € par mois',\n",
       "       '38\\xa0000 € - 45\\xa0000 € par an', '36\\xa0731 € par an',\n",
       "       '55\\xa0000 € - 65\\xa0000 € par an', '200 € - 400 € par jour',\n",
       "       '200 € - 430 € par jour'], dtype=object)"
      ]
     },
     "execution_count": 542,
     "metadata": {},
     "output_type": "execute_result"
    }
   ],
   "source": [
    "pd.unique(df.salary)"
   ]
  },
  {
   "cell_type": "markdown",
   "metadata": {},
   "source": [
    "Most salaries are not fixed, but an interval is given \\\n",
    "To be able to compare salaries, we will replace it by the interval mean \\\n",
    "We will also convert monthly salaries to yearly"
   ]
  },
  {
   "cell_type": "markdown",
   "metadata": {},
   "source": [
    "#### From monthly to yearly "
   ]
  },
  {
   "cell_type": "code",
   "execution_count": 543,
   "metadata": {},
   "outputs": [],
   "source": [
    "# when salary is given per month, we want to calculate it by year\n",
    "month_salary_info = df.loc[df.salary.str.contains('par mois', case=False)].salary"
   ]
  },
  {
   "cell_type": "code",
   "execution_count": 544,
   "metadata": {},
   "outputs": [],
   "source": [
    "# takes a string and returns the same strings but only with characters that are numeric\n",
    "def get_numbers(value):\n",
    "    return ''.join([i for i in value if i.isnumeric()])"
   ]
  },
  {
   "cell_type": "code",
   "execution_count": 545,
   "metadata": {},
   "outputs": [],
   "source": [
    "def get_interval_mean(value):\n",
    "    # value is a string containing a salary interval, e.g. \"30 000 € - 40 000 €\"\n",
    "    \n",
    "    res = value.split('-')\n",
    "    first = int(get_numbers(res[0]))\n",
    "    last = int(get_numbers(res[1]))\n",
    "    return (first+last)/2"
   ]
  },
  {
   "cell_type": "code",
   "execution_count": 546,
   "metadata": {},
   "outputs": [],
   "source": [
    "def monthly_to_annual(value):\n",
    "    if '-' in value:\n",
    "        return str(get_interval_mean(value)*12)\n",
    "    else:  # salary is fixed\n",
    "        return str(int(get_numbers(value))*12)"
   ]
  },
  {
   "cell_type": "code",
   "execution_count": 547,
   "metadata": {},
   "outputs": [],
   "source": [
    "month_salary_info = month_salary_info.apply(monthly_to_annual)\n",
    "\n",
    "# replace in the dataframe\n",
    "df.loc[month_salary_info.index, \"salary\"] = month_salary_info"
   ]
  },
  {
   "cell_type": "code",
   "execution_count": 548,
   "metadata": {},
   "outputs": [
    {
     "name": "stdout",
     "output_type": "stream",
     "text": [
      "['-' '40\\xa0000 € par an' '33000' '36000' '38\\xa0000 € par an'\n",
      " '50\\xa0000 € - 60\\xa0000 € par an' '37584.0'\n",
      " '36\\xa0000 € - 38\\xa0000 € par an' '40\\xa0000 € - 55\\xa0000 € par an'\n",
      " '35\\xa0000 € - 40\\xa0000 € par an' '35\\xa0000 € - 38\\xa0000 € par an'\n",
      " '30\\xa0000 € - 40\\xa0000 € par an' '50\\xa0000 € - 80\\xa0000 € par an'\n",
      " '45\\xa0000 € - 55\\xa0000 € par an' '35\\xa0000 € - 45\\xa0000 € par an'\n",
      " '550 € - 600 € par jour' '40\\xa0000 € - 50\\xa0000 € par an' '43488'\n",
      " '60\\xa0000 € - 70\\xa0000 € par an' '39600'\n",
      " '38\\xa0000 € - 45\\xa0000 € par an' '36\\xa0731 € par an'\n",
      " '55\\xa0000 € - 65\\xa0000 € par an' '200 € - 400 € par jour'\n",
      " '200 € - 430 € par jour']\n"
     ]
    }
   ],
   "source": [
    "print(pd.unique(df.salary))"
   ]
  },
  {
   "cell_type": "markdown",
   "metadata": {},
   "source": [
    "#### Daily salary "
   ]
  },
  {
   "cell_type": "code",
   "execution_count": 549,
   "metadata": {},
   "outputs": [],
   "source": [
    "# when salary is daily, it is a freelance contract, that wasn't specified in the contract type variable\n",
    "# so we drop ir\n",
    "daily_indices = df.loc[df.salary.str.contains('par jour', case=False)].index\n",
    "df.drop(daily_indices, inplace=True)"
   ]
  },
  {
   "cell_type": "markdown",
   "metadata": {},
   "source": [
    "#### From interval to mean for the salaries that were given yearly"
   ]
  },
  {
   "cell_type": "code",
   "execution_count": 550,
   "metadata": {},
   "outputs": [],
   "source": [
    "# salaries that contain 'par an' have not been touched yet\n",
    "annual_to_clean = df.loc[df.salary.str.contains('par an', case=False)].salary"
   ]
  },
  {
   "cell_type": "code",
   "execution_count": 551,
   "metadata": {},
   "outputs": [],
   "source": [
    "def clean_annual_salary(value):\n",
    "\n",
    "    if '-' in value:  # salary is given as an interval\n",
    "        return str(get_interval_mean(value))\n",
    "    else:  # salary is fixed\n",
    "        return get_numbers(value)"
   ]
  },
  {
   "cell_type": "code",
   "execution_count": 552,
   "metadata": {},
   "outputs": [],
   "source": [
    "annual_to_clean = annual_to_clean.apply(clean_annual_salary)\n",
    "df.loc[annual_to_clean.index, 'salary'] = annual_to_clean"
   ]
  },
  {
   "cell_type": "markdown",
   "metadata": {},
   "source": [
    "### Job title "
   ]
  },
  {
   "cell_type": "code",
   "execution_count": 553,
   "metadata": {},
   "outputs": [
    {
     "data": {
      "text/plain": [
       "array(['Data Scientist F/H', 'Data Scientist H/F',\n",
       "       'Data Analyst Marketing', 'Data Scientist - COPERNEEC',\n",
       "       'Data Scientist', 'CDI - Data Scientist - Yves Rocher F/H',\n",
       "       'Data scientist Junior F/H',\n",
       "       'Consultante - Consultant data scientist Sofrecom',\n",
       "       'Ingénieur(e) modélisation data scientist', 'Data scientist F/H',\n",
       "       'Junior Data Scientist - 1 year apprenticeship - January 2022',\n",
       "       'Data Scientist Junior (h/f)', 'Data Scientist (H/F)',\n",
       "       'DATA SCIENTIST', 'Jeune docteur Data scientist',\n",
       "       'Data scientist H/F',\n",
       "       'Data Scientist - Demande de dérogation recrutement externe H/F',\n",
       "       'Consultant(e) Data Science - Bureau de Nantes',\n",
       "       'DATA ANALYST (H/F)', 'Data scientist (H/F)',\n",
       "       'Ingénieur en science des données / Data Scientist H/F',\n",
       "       'Data analyste bac+4/5- SODA Montpellier - specialist -CDD - H/F',\n",
       "       'Data Scientist Cyber Security (h/f)', 'Data Scientist F/H - CDI',\n",
       "       'Data Scientist (H/F) | POEI', 'Data scientist-(H/F)',\n",
       "       'H/F Data scientist', 'Data Scientist, YouTube',\n",
       "       'Data Analyst F/H', 'Data scientist - statisticien F/H',\n",
       "       'Data Scientist/Data Analyst F/H', 'Ingénieur DATA SCIENTIST F/H',\n",
       "       'Data scientist - Python / Linux (H/F)',\n",
       "       'SENIOR HR DATA SCIENTIST H/F', 'Data Scientist in Pl@ntNet team',\n",
       "       'Analyste data visualisation et BI-(H/F)',\n",
       "       'Data Scientist Computer vision F/H',\n",
       "       'Consultant en Data Science - Connaissance client - (H/F)',\n",
       "       'SENIOR DATA SCIENTIST (H/F)',\n",
       "       'VACCINES - Data Scientist, Process Development M/F',\n",
       "       'Chargé(e) d’analyse et d’expertise / Data Engineer / Data Scientist (2 postes)',\n",
       "       'CIFRE PhD - Airframe Data Analyst (m/f)',\n",
       "       \"Chargé(e) d'études statistiques - Data Analyst F / H\",\n",
       "       'Data analyst / Data Scientist F/H',\n",
       "       'Actuaire - Data Scientist Pricing IARD (F/H)', 'Data Analyst H/F',\n",
       "       'Data Scientist - BDO BIPE - F/H',\n",
       "       'DATA MINER / DATA ANALYSTE H/F',\n",
       "       'Docteur R&D – Data Scientist NLP - ACC2 F/H',\n",
       "       'DATA SCIENTIST F/H', 'Ingénieur Data Science/ Statistiques F/H',\n",
       "       'Data Scientist Risques - - Paris F/H',\n",
       "       'Chargé(e) d’analyse et d’expertise / Data Engineer / Data Scientist F/H',\n",
       "       'Data Analyst (H/F)',\n",
       "       'Data Scientist/Data Engineer - Join our R&D team!',\n",
       "       'DATA SCIENTIST CONSULTANT F/H', 'Data Analyst',\n",
       "       'Analyste Data & Performances H/F', 'Data Scientist Demand',\n",
       "       'Nuclear Data Scientist', 'Lead Data Scientist H/F',\n",
       "       'Validation des modèles - Data Scientist F/H',\n",
       "       'Data Analyst - Analyste Data H/F', 'Analyste Data F/H',\n",
       "       'DATA Analyst F/H - PARIS - 5746',\n",
       "       'Chargé.e d’analyse et d’expertise/ Data Engineer / Data Scientist -réf. 02',\n",
       "       'Consultant Data Scientist – Région EST H/F',\n",
       "       'Data et reporting Analyst H/F',\n",
       "       'Data Analyst Marketing/Acquisition (H/F)',\n",
       "       'Data Scientist (H/F) - Analyse de données / aéronautique',\n",
       "       'DATA ANALYST F/H', 'DATA ANALYST H/F',\n",
       "       'Un Chargé de Mission Veille Economique Data Analyste F/H',\n",
       "       'Data Analyst - SQL (H/F)',\n",
       "       'Ingénieur Data Science - Région Occitanie F/H',\n",
       "       'CONSULTANT DATA ANALYST H-F', 'Data scientist (F/M/D) - Paris',\n",
       "       'Data Analyste F/H', 'Data Analytics Engineer',\n",
       "       'DATA SCIENTIST H/F', 'Data Analyste SQL F/H',\n",
       "       'Data Analyst - H/F', 'CDI Data Analyst Opérationnel H/F',\n",
       "       'Lead Data Scientist', 'Junior Game Data Analyst',\n",
       "       'Principal Data Scientist', 'Senior Data Scientist NLP',\n",
       "       'Data analyst expert F/H',\n",
       "       'Docteur R&D – Data Scientist – Finance de Marché – MEL F/H',\n",
       "       'Consultant(e) Senior Data Scientist spécialisé(e) en risques financiers - C',\n",
       "       'Docteur R&D – Data Scientist – FCN F/H', 'H/F Data analyst',\n",
       "       'CONSULTANT DATA ANALYST H-F F/H', 'Data Analyst M/F',\n",
       "       'CDI - Machine Learning Engineer & Data Scientist Senior H/F',\n",
       "       'Data Business Analyst H/F', 'Data analyst Vie Série RER',\n",
       "       'Responsable Technique Data Science - Issy-les-Moulineaux H/F',\n",
       "       'Actuaire - Data Scientist Pricing IARD F/H',\n",
       "       'Data Analyst Developpeur F/H', 'Game Data Analyst (M/F)',\n",
       "       'Business Analyst / Data Analyst Finance F/H',\n",
       "       'Spécialiste gestion de données - Data Scientist (H/F)',\n",
       "       'PHD Data scientist (Healthcare industry)',\n",
       "       'Senior Data Scientist (F/M/D)', 'Data analyst/Data scientist F/H',\n",
       "       'Docteur R&D – Data Scientist Analyses Financières – SCI F/H',\n",
       "       'Contrôleur de Gestion - Dataminer (F/H)', 'Dataminer',\n",
       "       'INGENIEUR PRODUCTION, CALIBRATION & DATA ANALYTICS H/F IP020921-045-IND',\n",
       "       'Business Controlling Data Analyst (H/F)',\n",
       "       'Consultant Data / IBM Cognos Analytics - H/F',\n",
       "       'V.I.E. HR Data Analyst & Reporting (F/H) - Roumanie',\n",
       "       'DATA ANALYST RESPONSABLE OUTILS ET DATA MEDIA H/F',\n",
       "       'Analyse BIG DATA appliquée à un Système de Contre-Mesures H/F',\n",
       "       'HR Data Analytics Manager - H/F',\n",
       "       'Data Translator / Senior Data Analyst (H/F)',\n",
       "       'Data analyst Insights grande distribution F/H',\n",
       "       'Team Lead Data Analyst', 'Data analyst (F/H/NB) - Ubisoft Mobile',\n",
       "       'Product Data Analyst',\n",
       "       'Docteur R&D – Optimisation de flottes véhicules / Data Science - NOU F/H',\n",
       "       'WEB DATA ANALYST F/H', 'Senior Data Analyst',\n",
       "       'Ingénieur DevOps Projets Data Analytics H/F',\n",
       "       'Business Analyst h/f - Data management - Lutte contre la fraude / Freelance',\n",
       "       'Data analyste R2615925 (H/F)', 'Manager Data Analyst F/H',\n",
       "       'RESPONSABLE POLE DATA & ANALYTICS F/H',\n",
       "       \"Chargé d'études Trafic-Recettes / Data Analyst F/H\",\n",
       "       'Data Analyst - Marketing (H/F) - Valenciennes (59)',\n",
       "       'Data Analyst - Payment Performance',\n",
       "       'Insights & Data Marketing Analyst', 'Head of Data Science',\n",
       "       'Data Analyst Power BI (H/F) / Freelance',\n",
       "       'Consultant Lead Data Scientist H/F - Première société de services informatiques indépendant',\n",
       "       'Postdoctoral researcher H/F in Data science',\n",
       "       'Lab Manager & Influenceur Tech - « (Big) Data Storage et Data science » - F/H',\n",
       "       'SENIOR DATA SCIENTIST NLP (H/F)', 'CRM Data Analyst',\n",
       "       'SENIOR DATA SCIENTIST H/F', 'Lead Data Scientist Senior (H/F)',\n",
       "       'Capgemini Invent Consultant Expérimenté Intelligent Industry Data & Analytics H/F',\n",
       "       'Chef de projet data analyste en Agronomie (h/f)',\n",
       "       'Lead Data Scientist Senior F/H', 'DATA ANALYST (F/H)',\n",
       "       'Responsable R&D IA / Data Science F/H',\n",
       "       'Senior Data Science Analyst', 'DATA ANALYST',\n",
       "       'Analyste développeur N2 Java Data (F/H)',\n",
       "       'Principal Data Scientist (H/F)',\n",
       "       'Architecte Solution Data & Analytics (H/F)',\n",
       "       'Responsable contrôle de gestion RH / Data Analytics F/H',\n",
       "       'ARCHITECTE Solution Data & Analytics F/H',\n",
       "       'Data analyst Senior F/H',\n",
       "       'Researcher (PhD required) in Data Science - BI - NLP',\n",
       "       'CONSULTANT DATA ANALYST',\n",
       "       'CDI - Consultant.e Data Analyst Senior',\n",
       "       'CDD - Supply & Demand B2B Data Analyst H/F - YVES ROCHER',\n",
       "       'Senior Data Analyst F/H', 'Data Analyst - Pièces de rechange F/H',\n",
       "       'Data Marketing Analyst Senior F/H', 'ANALYSTE DE DONNÉES (H/F)',\n",
       "       'Marketing Data Analyst (H/F)', 'data quality analyst / Freelance',\n",
       "       'Senior data science analyst H/F', 'Data Marketing Analyst Senior',\n",
       "       'Directeur IT Digital Products & Data analytics h/f',\n",
       "       'RESPONSABLE CONTRÔLE DE GESTION RH / DATA ANALYTICS',\n",
       "       'Data analyste / Audit interne', 'Développeur UX Data Science H/F',\n",
       "       'Data Analyst / Freelance', 'Data scientist (H/F) / Freelance',\n",
       "       'Data Analyst Pricing / Freelance'], dtype=object)"
      ]
     },
     "execution_count": 553,
     "metadata": {},
     "output_type": "execute_result"
    }
   ],
   "source": [
    "pd.unique(df.title)\n",
    "# offers to drop : \n",
    "# Senior\n",
    "# Principal\n",
    "# Docteur\n",
    "# PhD\n",
    "# Lead\n",
    "# freelance\n",
    "# apprenticeship\n",
    "# responsable\n",
    "# postdoctoral, chef de projet, directeur"
   ]
  },
  {
   "cell_type": "code",
   "execution_count": 554,
   "metadata": {},
   "outputs": [],
   "source": [
    "drop_titles =['senior', 'principal', 'docteur', 'phd', 'lead', 'freelance', 'apprenticeship',\n",
    "             'responsable', 'postdoctoral', 'chef de projet', 'directeur']\n",
    "\n",
    "pattern = '|'.join(drop_titles)\n",
    "\n",
    "drop_titles_indices = df.loc[df['title'].str.contains(pattern, case=False)].index\n",
    "df.drop(drop_titles_indices, inplace=True)"
   ]
  },
  {
   "cell_type": "markdown",
   "metadata": {},
   "source": [
    "### Clean the description "
   ]
  },
  {
   "cell_type": "code",
   "execution_count": 555,
   "metadata": {},
   "outputs": [],
   "source": [
    "def clean_description(value):\n",
    "    # value is a string containing description\n",
    "    \n",
    "    res = ' '.join(value.split('\\n'))\n",
    "    return res"
   ]
  },
  {
   "cell_type": "code",
   "execution_count": 556,
   "metadata": {},
   "outputs": [],
   "source": [
    "df['description_clean'] = df.description.apply(clean_description)"
   ]
  },
  {
   "cell_type": "markdown",
   "metadata": {},
   "source": [
    "### Skills"
   ]
  },
  {
   "cell_type": "markdown",
   "metadata": {},
   "source": [
    "Using the job description, we will build binary variables that will indicate for each skill if it is required for the job"
   ]
  },
  {
   "cell_type": "code",
   "execution_count": 557,
   "metadata": {},
   "outputs": [],
   "source": [
    "skills = ['bi', 'datavisualisation', 'statistique', 'machine learning', 'reporting', 'big data', 'cnn', 'knn',\n",
    "         'dashboard', 'anglais', 'apprentissage par renforcement', 'reinforcment learning', 'IA', 'deep learning',\n",
    "         \"traitement d'images\", 'agile', 'time series', 'séries temporelles', 'graph', 'supervisé', 'non supervisé',\n",
    "          \"reconnaissance d'images\", 'nlp', 'natural language processing', 'classification', 'optimisation',\n",
    "          'prédiction', 'elasticsearch', 'kibana', 'xgboost', 'données géographiques', 'ocr', 'bayesian', 'bayes',\n",
    "          'random forest', 'neural network', 'réseau de neurones', 'computer vision', 'a/b', 'data mining'\n",
    "         ]\n",
    "\n",
    "tools = ['r', 'python', 'julia', 'power bi', 'sql', 'tableau software', 'qlik', 'pack office', 'pandas',\n",
    "        'sas', 'scikit-learn', 'sklearn', 'tensorflow', 'keras', 'C++', 'git', 'airflow', 'mongodb', 'VBA', 'java',\n",
    "         'linux', 'scala', 'pytorch', 'keras', 'numpy', 'gensim', 'cloud', 'hadoop', 'pyspark', 'docker', 'aws',\n",
    "         'nosql', 'matlab', 'matplotlib', 'jupyter', 'shiny', 'knitr', 'caret', 'plotly', 'mlr', 'dplyr', 'dash'\n",
    "        ]"
   ]
  },
  {
   "cell_type": "code",
   "execution_count": 558,
   "metadata": {},
   "outputs": [],
   "source": [
    "# add a binary column per skill\n",
    "for i in range(len(skills)):\n",
    "    newvar = df.description_clean.str.contains(skills[i], case=False)\n",
    "    df[f'{skills[i]}'] = newvar"
   ]
  },
  {
   "cell_type": "code",
   "execution_count": 559,
   "metadata": {},
   "outputs": [],
   "source": [
    "# add a binary column per tool\n",
    "for i in range(len(tools)):\n",
    "    if tools[i]==\"C++\":\n",
    "        newvar = df.description_clean.str.contains(re.escape(tools[i]), case=False)\n",
    "    else:\n",
    "        newvar = df.description_clean.str.contains(tools[i], case=False)\n",
    "    df[f'{tools[i]}'] = newvar"
   ]
  },
  {
   "cell_type": "markdown",
   "metadata": {},
   "source": [
    "### Find sub groups of jobs (DS, DA...) "
   ]
  },
  {
   "cell_type": "code",
   "execution_count": 560,
   "metadata": {},
   "outputs": [],
   "source": [
    "job_cat = ['data scientist', 'data analyst', 'data engineer']\n",
    "# add a binary column per category\n",
    "for i in range(len(job_cat)):\n",
    "    newvar = df.title.str.contains(job_cat[i], case=False)\n",
    "    df[f'{job_cat[i]}'] = newvar"
   ]
  },
  {
   "cell_type": "markdown",
   "metadata": {},
   "source": [
    "### Degree level "
   ]
  },
  {
   "cell_type": "code",
   "execution_count": 573,
   "metadata": {},
   "outputs": [],
   "source": [
    "# we use regex to deal with accents etc\n",
    "degree_dict = {'master':2, '[ée]cole.*ing[ée]nieur':2, 'licence':1, 'DUT':1, 'bac[ ]*\\+4':2,\n",
    "              'bac[ ]*\\+5':2, 'bac[ ]*\\+3':1}"
   ]
  },
  {
   "cell_type": "code",
   "execution_count": 574,
   "metadata": {},
   "outputs": [],
   "source": [
    "# add the new column with entry 3 for each row, which will correspond to the value if no degree is specified\n",
    "df['degree_level'] = [3]*len(df)"
   ]
  },
  {
   "cell_type": "code",
   "execution_count": 575,
   "metadata": {},
   "outputs": [],
   "source": [
    "for key, value in degree_dict.items():\n",
    "    level_indices = df.loc[df.description_clean.str.contains(key, case=False)]  # description contains master for ex.\n",
    "    to_change = level_indices.loc[level_indices.degree_level > value].index  # we keep the lowest degree required\n",
    "    df.loc[to_change, 'degree_level'] = [value]*len(to_change)"
   ]
  },
  {
   "cell_type": "markdown",
   "metadata": {},
   "source": [
    "### Xp level "
   ]
  },
  {
   "cell_type": "code",
   "execution_count": null,
   "metadata": {},
   "outputs": [],
   "source": [
    "# penser à quand l'xp est en lettres"
   ]
  },
  {
   "cell_type": "code",
   "execution_count": 606,
   "metadata": {},
   "outputs": [],
   "source": [
    "xp_re = r'([0-9])[ ]*(ans|années)'"
   ]
  },
  {
   "cell_type": "code",
   "execution_count": 612,
   "metadata": {},
   "outputs": [],
   "source": [
    "df['xp_level'] = df.description_clean.str.extract(xp_re, flags=re.I | re.M).iloc[:, 0]"
   ]
  },
  {
   "cell_type": "code",
   "execution_count": 613,
   "metadata": {},
   "outputs": [
    {
     "data": {
      "text/html": [
       "<div>\n",
       "<style scoped>\n",
       "    .dataframe tbody tr th:only-of-type {\n",
       "        vertical-align: middle;\n",
       "    }\n",
       "\n",
       "    .dataframe tbody tr th {\n",
       "        vertical-align: top;\n",
       "    }\n",
       "\n",
       "    .dataframe thead th {\n",
       "        text-align: right;\n",
       "    }\n",
       "</style>\n",
       "<table border=\"1\" class=\"dataframe\">\n",
       "  <thead>\n",
       "    <tr style=\"text-align: right;\">\n",
       "      <th></th>\n",
       "      <th>title</th>\n",
       "      <th>company</th>\n",
       "      <th>city</th>\n",
       "      <th>contract_type</th>\n",
       "      <th>salary</th>\n",
       "      <th>description</th>\n",
       "      <th>city_letters</th>\n",
       "      <th>description_clean</th>\n",
       "      <th>bi</th>\n",
       "      <th>datavisualisation</th>\n",
       "      <th>...</th>\n",
       "      <th>caret</th>\n",
       "      <th>plotly</th>\n",
       "      <th>mlr</th>\n",
       "      <th>dplyr</th>\n",
       "      <th>dash</th>\n",
       "      <th>data scientist</th>\n",
       "      <th>data analyst</th>\n",
       "      <th>data engineer</th>\n",
       "      <th>degree_level</th>\n",
       "      <th>xp_level</th>\n",
       "    </tr>\n",
       "  </thead>\n",
       "  <tbody>\n",
       "    <tr>\n",
       "      <th>0</th>\n",
       "      <td>Data Scientist F/H</td>\n",
       "      <td>Malakoff Humanis</td>\n",
       "      <td>Paris (75)</td>\n",
       "      <td>CDI</td>\n",
       "      <td>-</td>\n",
       "      <td>Société\\n\\nASSOCIATION DE MOYENS ASSURANCE DE ...</td>\n",
       "      <td>Paris</td>\n",
       "      <td>Société  ASSOCIATION DE MOYENS ASSURANCE DE PE...</td>\n",
       "      <td>False</td>\n",
       "      <td>False</td>\n",
       "      <td>...</td>\n",
       "      <td>False</td>\n",
       "      <td>False</td>\n",
       "      <td>False</td>\n",
       "      <td>False</td>\n",
       "      <td>False</td>\n",
       "      <td>True</td>\n",
       "      <td>False</td>\n",
       "      <td>False</td>\n",
       "      <td>2</td>\n",
       "      <td>NaN</td>\n",
       "    </tr>\n",
       "    <tr>\n",
       "      <th>1</th>\n",
       "      <td>Data Scientist H/F</td>\n",
       "      <td>Atos</td>\n",
       "      <td>Montpellier (34)</td>\n",
       "      <td>-</td>\n",
       "      <td>-</td>\n",
       "      <td>À propos d’Atos\\n\\nAtos est un leader internat...</td>\n",
       "      <td>Montpellier</td>\n",
       "      <td>À propos d’Atos  Atos est un leader internatio...</td>\n",
       "      <td>True</td>\n",
       "      <td>False</td>\n",
       "      <td>...</td>\n",
       "      <td>False</td>\n",
       "      <td>False</td>\n",
       "      <td>False</td>\n",
       "      <td>False</td>\n",
       "      <td>False</td>\n",
       "      <td>True</td>\n",
       "      <td>False</td>\n",
       "      <td>False</td>\n",
       "      <td>2</td>\n",
       "      <td>NaN</td>\n",
       "    </tr>\n",
       "    <tr>\n",
       "      <th>2</th>\n",
       "      <td>Data Analyst Marketing</td>\n",
       "      <td>Talent Partners</td>\n",
       "      <td>34000 Montpellier</td>\n",
       "      <td>CDI</td>\n",
       "      <td>40000</td>\n",
       "      <td>NOTRE CLIENT EN QUELQUES MOTS✲ Secteur de l'IT...</td>\n",
       "      <td>Montpellier</td>\n",
       "      <td>NOTRE CLIENT EN QUELQUES MOTS✲ Secteur de l'IT...</td>\n",
       "      <td>True</td>\n",
       "      <td>False</td>\n",
       "      <td>...</td>\n",
       "      <td>False</td>\n",
       "      <td>False</td>\n",
       "      <td>False</td>\n",
       "      <td>False</td>\n",
       "      <td>False</td>\n",
       "      <td>False</td>\n",
       "      <td>True</td>\n",
       "      <td>False</td>\n",
       "      <td>2</td>\n",
       "      <td>NaN</td>\n",
       "    </tr>\n",
       "    <tr>\n",
       "      <th>3</th>\n",
       "      <td>Data Scientist - COPERNEEC</td>\n",
       "      <td>Coperneec</td>\n",
       "      <td>Paris (75)</td>\n",
       "      <td>-</td>\n",
       "      <td>-</td>\n",
       "      <td>Data Scientist - COPERNEEC\\nA propos de Copern...</td>\n",
       "      <td>Paris</td>\n",
       "      <td>Data Scientist - COPERNEEC A propos de Coperne...</td>\n",
       "      <td>True</td>\n",
       "      <td>False</td>\n",
       "      <td>...</td>\n",
       "      <td>False</td>\n",
       "      <td>False</td>\n",
       "      <td>False</td>\n",
       "      <td>False</td>\n",
       "      <td>False</td>\n",
       "      <td>True</td>\n",
       "      <td>False</td>\n",
       "      <td>False</td>\n",
       "      <td>2</td>\n",
       "      <td>NaN</td>\n",
       "    </tr>\n",
       "    <tr>\n",
       "      <th>4</th>\n",
       "      <td>Data Scientist</td>\n",
       "      <td>Avisto</td>\n",
       "      <td>06220 Vallauris</td>\n",
       "      <td>CDI</td>\n",
       "      <td>-</td>\n",
       "      <td>Dans le cadre de nos activités, vous serez ame...</td>\n",
       "      <td>Vallauris</td>\n",
       "      <td>Dans le cadre de nos activités, vous serez ame...</td>\n",
       "      <td>True</td>\n",
       "      <td>False</td>\n",
       "      <td>...</td>\n",
       "      <td>False</td>\n",
       "      <td>False</td>\n",
       "      <td>False</td>\n",
       "      <td>False</td>\n",
       "      <td>False</td>\n",
       "      <td>True</td>\n",
       "      <td>False</td>\n",
       "      <td>False</td>\n",
       "      <td>3</td>\n",
       "      <td>NaN</td>\n",
       "    </tr>\n",
       "  </tbody>\n",
       "</table>\n",
       "<p>5 rows × 94 columns</p>\n",
       "</div>"
      ],
      "text/plain": [
       "                        title           company               city  \\\n",
       "0          Data Scientist F/H  Malakoff Humanis         Paris (75)   \n",
       "1          Data Scientist H/F              Atos   Montpellier (34)   \n",
       "2      Data Analyst Marketing   Talent Partners  34000 Montpellier   \n",
       "3  Data Scientist - COPERNEEC         Coperneec         Paris (75)   \n",
       "4              Data Scientist            Avisto    06220 Vallauris   \n",
       "\n",
       "  contract_type salary                                        description  \\\n",
       "0           CDI      -  Société\\n\\nASSOCIATION DE MOYENS ASSURANCE DE ...   \n",
       "1             -      -  À propos d’Atos\\n\\nAtos est un leader internat...   \n",
       "2           CDI  40000  NOTRE CLIENT EN QUELQUES MOTS✲ Secteur de l'IT...   \n",
       "3             -      -  Data Scientist - COPERNEEC\\nA propos de Copern...   \n",
       "4           CDI      -  Dans le cadre de nos activités, vous serez ame...   \n",
       "\n",
       "  city_letters                                  description_clean     bi  \\\n",
       "0        Paris  Société  ASSOCIATION DE MOYENS ASSURANCE DE PE...  False   \n",
       "1  Montpellier  À propos d’Atos  Atos est un leader internatio...   True   \n",
       "2  Montpellier  NOTRE CLIENT EN QUELQUES MOTS✲ Secteur de l'IT...   True   \n",
       "3        Paris  Data Scientist - COPERNEEC A propos de Coperne...   True   \n",
       "4    Vallauris  Dans le cadre de nos activités, vous serez ame...   True   \n",
       "\n",
       "   datavisualisation  ...  caret  plotly    mlr  dplyr   dash  data scientist  \\\n",
       "0              False  ...  False   False  False  False  False            True   \n",
       "1              False  ...  False   False  False  False  False            True   \n",
       "2              False  ...  False   False  False  False  False           False   \n",
       "3              False  ...  False   False  False  False  False            True   \n",
       "4              False  ...  False   False  False  False  False            True   \n",
       "\n",
       "   data analyst  data engineer  degree_level  xp_level  \n",
       "0         False          False             2       NaN  \n",
       "1         False          False             2       NaN  \n",
       "2          True          False             2       NaN  \n",
       "3         False          False             2       NaN  \n",
       "4         False          False             3       NaN  \n",
       "\n",
       "[5 rows x 94 columns]"
      ]
     },
     "execution_count": 613,
     "metadata": {},
     "output_type": "execute_result"
    }
   ],
   "source": [
    "df.head()"
   ]
  },
  {
   "cell_type": "markdown",
   "metadata": {},
   "source": [
    "### Save the file "
   ]
  },
  {
   "cell_type": "code",
   "execution_count": 614,
   "metadata": {},
   "outputs": [],
   "source": [
    "df.to_csv('../data/clean_data.csv', index=False)"
   ]
  },
  {
   "cell_type": "code",
   "execution_count": 516,
   "metadata": {},
   "outputs": [
    {
     "data": {
      "application/vnd.plotly.v1+json": {
       "config": {
        "plotlyServerURL": "https://plot.ly"
       },
       "data": [
        {
         "alignmentgroup": "True",
         "hovertemplate": "degree_level=%{x}<br>title=%{y}<extra></extra>",
         "legendgroup": "",
         "marker": {
          "color": "#636efa",
          "pattern": {
           "shape": ""
          }
         },
         "name": "",
         "offsetgroup": "",
         "orientation": "v",
         "showlegend": false,
         "textposition": "auto",
         "type": "bar",
         "x": [
          1,
          2,
          3
         ],
         "xaxis": "x",
         "y": [
          5,
          97,
          72
         ],
         "yaxis": "y"
        }
       ],
       "layout": {
        "autosize": true,
        "barmode": "stack",
        "legend": {
         "tracegroupgap": 0
        },
        "margin": {
         "t": 60
        },
        "template": {
         "data": {
          "bar": [
           {
            "error_x": {
             "color": "#2a3f5f"
            },
            "error_y": {
             "color": "#2a3f5f"
            },
            "marker": {
             "line": {
              "color": "#E5ECF6",
              "width": 0.5
             },
             "pattern": {
              "fillmode": "overlay",
              "size": 10,
              "solidity": 0.2
             }
            },
            "type": "bar"
           }
          ],
          "barpolar": [
           {
            "marker": {
             "line": {
              "color": "#E5ECF6",
              "width": 0.5
             },
             "pattern": {
              "fillmode": "overlay",
              "size": 10,
              "solidity": 0.2
             }
            },
            "type": "barpolar"
           }
          ],
          "carpet": [
           {
            "aaxis": {
             "endlinecolor": "#2a3f5f",
             "gridcolor": "white",
             "linecolor": "white",
             "minorgridcolor": "white",
             "startlinecolor": "#2a3f5f"
            },
            "baxis": {
             "endlinecolor": "#2a3f5f",
             "gridcolor": "white",
             "linecolor": "white",
             "minorgridcolor": "white",
             "startlinecolor": "#2a3f5f"
            },
            "type": "carpet"
           }
          ],
          "choropleth": [
           {
            "colorbar": {
             "outlinewidth": 0,
             "ticks": ""
            },
            "type": "choropleth"
           }
          ],
          "contour": [
           {
            "colorbar": {
             "outlinewidth": 0,
             "ticks": ""
            },
            "colorscale": [
             [
              0,
              "#0d0887"
             ],
             [
              0.1111111111111111,
              "#46039f"
             ],
             [
              0.2222222222222222,
              "#7201a8"
             ],
             [
              0.3333333333333333,
              "#9c179e"
             ],
             [
              0.4444444444444444,
              "#bd3786"
             ],
             [
              0.5555555555555556,
              "#d8576b"
             ],
             [
              0.6666666666666666,
              "#ed7953"
             ],
             [
              0.7777777777777778,
              "#fb9f3a"
             ],
             [
              0.8888888888888888,
              "#fdca26"
             ],
             [
              1,
              "#f0f921"
             ]
            ],
            "type": "contour"
           }
          ],
          "contourcarpet": [
           {
            "colorbar": {
             "outlinewidth": 0,
             "ticks": ""
            },
            "type": "contourcarpet"
           }
          ],
          "heatmap": [
           {
            "colorbar": {
             "outlinewidth": 0,
             "ticks": ""
            },
            "colorscale": [
             [
              0,
              "#0d0887"
             ],
             [
              0.1111111111111111,
              "#46039f"
             ],
             [
              0.2222222222222222,
              "#7201a8"
             ],
             [
              0.3333333333333333,
              "#9c179e"
             ],
             [
              0.4444444444444444,
              "#bd3786"
             ],
             [
              0.5555555555555556,
              "#d8576b"
             ],
             [
              0.6666666666666666,
              "#ed7953"
             ],
             [
              0.7777777777777778,
              "#fb9f3a"
             ],
             [
              0.8888888888888888,
              "#fdca26"
             ],
             [
              1,
              "#f0f921"
             ]
            ],
            "type": "heatmap"
           }
          ],
          "heatmapgl": [
           {
            "colorbar": {
             "outlinewidth": 0,
             "ticks": ""
            },
            "colorscale": [
             [
              0,
              "#0d0887"
             ],
             [
              0.1111111111111111,
              "#46039f"
             ],
             [
              0.2222222222222222,
              "#7201a8"
             ],
             [
              0.3333333333333333,
              "#9c179e"
             ],
             [
              0.4444444444444444,
              "#bd3786"
             ],
             [
              0.5555555555555556,
              "#d8576b"
             ],
             [
              0.6666666666666666,
              "#ed7953"
             ],
             [
              0.7777777777777778,
              "#fb9f3a"
             ],
             [
              0.8888888888888888,
              "#fdca26"
             ],
             [
              1,
              "#f0f921"
             ]
            ],
            "type": "heatmapgl"
           }
          ],
          "histogram": [
           {
            "marker": {
             "pattern": {
              "fillmode": "overlay",
              "size": 10,
              "solidity": 0.2
             }
            },
            "type": "histogram"
           }
          ],
          "histogram2d": [
           {
            "colorbar": {
             "outlinewidth": 0,
             "ticks": ""
            },
            "colorscale": [
             [
              0,
              "#0d0887"
             ],
             [
              0.1111111111111111,
              "#46039f"
             ],
             [
              0.2222222222222222,
              "#7201a8"
             ],
             [
              0.3333333333333333,
              "#9c179e"
             ],
             [
              0.4444444444444444,
              "#bd3786"
             ],
             [
              0.5555555555555556,
              "#d8576b"
             ],
             [
              0.6666666666666666,
              "#ed7953"
             ],
             [
              0.7777777777777778,
              "#fb9f3a"
             ],
             [
              0.8888888888888888,
              "#fdca26"
             ],
             [
              1,
              "#f0f921"
             ]
            ],
            "type": "histogram2d"
           }
          ],
          "histogram2dcontour": [
           {
            "colorbar": {
             "outlinewidth": 0,
             "ticks": ""
            },
            "colorscale": [
             [
              0,
              "#0d0887"
             ],
             [
              0.1111111111111111,
              "#46039f"
             ],
             [
              0.2222222222222222,
              "#7201a8"
             ],
             [
              0.3333333333333333,
              "#9c179e"
             ],
             [
              0.4444444444444444,
              "#bd3786"
             ],
             [
              0.5555555555555556,
              "#d8576b"
             ],
             [
              0.6666666666666666,
              "#ed7953"
             ],
             [
              0.7777777777777778,
              "#fb9f3a"
             ],
             [
              0.8888888888888888,
              "#fdca26"
             ],
             [
              1,
              "#f0f921"
             ]
            ],
            "type": "histogram2dcontour"
           }
          ],
          "mesh3d": [
           {
            "colorbar": {
             "outlinewidth": 0,
             "ticks": ""
            },
            "type": "mesh3d"
           }
          ],
          "parcoords": [
           {
            "line": {
             "colorbar": {
              "outlinewidth": 0,
              "ticks": ""
             }
            },
            "type": "parcoords"
           }
          ],
          "pie": [
           {
            "automargin": true,
            "type": "pie"
           }
          ],
          "scatter": [
           {
            "marker": {
             "colorbar": {
              "outlinewidth": 0,
              "ticks": ""
             }
            },
            "type": "scatter"
           }
          ],
          "scatter3d": [
           {
            "line": {
             "colorbar": {
              "outlinewidth": 0,
              "ticks": ""
             }
            },
            "marker": {
             "colorbar": {
              "outlinewidth": 0,
              "ticks": ""
             }
            },
            "type": "scatter3d"
           }
          ],
          "scattercarpet": [
           {
            "marker": {
             "colorbar": {
              "outlinewidth": 0,
              "ticks": ""
             }
            },
            "type": "scattercarpet"
           }
          ],
          "scattergeo": [
           {
            "marker": {
             "colorbar": {
              "outlinewidth": 0,
              "ticks": ""
             }
            },
            "type": "scattergeo"
           }
          ],
          "scattergl": [
           {
            "marker": {
             "colorbar": {
              "outlinewidth": 0,
              "ticks": ""
             }
            },
            "type": "scattergl"
           }
          ],
          "scattermapbox": [
           {
            "marker": {
             "colorbar": {
              "outlinewidth": 0,
              "ticks": ""
             }
            },
            "type": "scattermapbox"
           }
          ],
          "scatterpolar": [
           {
            "marker": {
             "colorbar": {
              "outlinewidth": 0,
              "ticks": ""
             }
            },
            "type": "scatterpolar"
           }
          ],
          "scatterpolargl": [
           {
            "marker": {
             "colorbar": {
              "outlinewidth": 0,
              "ticks": ""
             }
            },
            "type": "scatterpolargl"
           }
          ],
          "scatterternary": [
           {
            "marker": {
             "colorbar": {
              "outlinewidth": 0,
              "ticks": ""
             }
            },
            "type": "scatterternary"
           }
          ],
          "surface": [
           {
            "colorbar": {
             "outlinewidth": 0,
             "ticks": ""
            },
            "colorscale": [
             [
              0,
              "#0d0887"
             ],
             [
              0.1111111111111111,
              "#46039f"
             ],
             [
              0.2222222222222222,
              "#7201a8"
             ],
             [
              0.3333333333333333,
              "#9c179e"
             ],
             [
              0.4444444444444444,
              "#bd3786"
             ],
             [
              0.5555555555555556,
              "#d8576b"
             ],
             [
              0.6666666666666666,
              "#ed7953"
             ],
             [
              0.7777777777777778,
              "#fb9f3a"
             ],
             [
              0.8888888888888888,
              "#fdca26"
             ],
             [
              1,
              "#f0f921"
             ]
            ],
            "type": "surface"
           }
          ],
          "table": [
           {
            "cells": {
             "fill": {
              "color": "#EBF0F8"
             },
             "line": {
              "color": "white"
             }
            },
            "header": {
             "fill": {
              "color": "#C8D4E3"
             },
             "line": {
              "color": "white"
             }
            },
            "type": "table"
           }
          ]
         },
         "layout": {
          "annotationdefaults": {
           "arrowcolor": "#2a3f5f",
           "arrowhead": 0,
           "arrowwidth": 1
          },
          "autotypenumbers": "strict",
          "coloraxis": {
           "colorbar": {
            "outlinewidth": 0,
            "ticks": ""
           }
          },
          "colorscale": {
           "diverging": [
            [
             0,
             "#8e0152"
            ],
            [
             0.1,
             "#c51b7d"
            ],
            [
             0.2,
             "#de77ae"
            ],
            [
             0.3,
             "#f1b6da"
            ],
            [
             0.4,
             "#fde0ef"
            ],
            [
             0.5,
             "#f7f7f7"
            ],
            [
             0.6,
             "#e6f5d0"
            ],
            [
             0.7,
             "#b8e186"
            ],
            [
             0.8,
             "#7fbc41"
            ],
            [
             0.9,
             "#4d9221"
            ],
            [
             1,
             "#276419"
            ]
           ],
           "sequential": [
            [
             0,
             "#0d0887"
            ],
            [
             0.1111111111111111,
             "#46039f"
            ],
            [
             0.2222222222222222,
             "#7201a8"
            ],
            [
             0.3333333333333333,
             "#9c179e"
            ],
            [
             0.4444444444444444,
             "#bd3786"
            ],
            [
             0.5555555555555556,
             "#d8576b"
            ],
            [
             0.6666666666666666,
             "#ed7953"
            ],
            [
             0.7777777777777778,
             "#fb9f3a"
            ],
            [
             0.8888888888888888,
             "#fdca26"
            ],
            [
             1,
             "#f0f921"
            ]
           ],
           "sequentialminus": [
            [
             0,
             "#0d0887"
            ],
            [
             0.1111111111111111,
             "#46039f"
            ],
            [
             0.2222222222222222,
             "#7201a8"
            ],
            [
             0.3333333333333333,
             "#9c179e"
            ],
            [
             0.4444444444444444,
             "#bd3786"
            ],
            [
             0.5555555555555556,
             "#d8576b"
            ],
            [
             0.6666666666666666,
             "#ed7953"
            ],
            [
             0.7777777777777778,
             "#fb9f3a"
            ],
            [
             0.8888888888888888,
             "#fdca26"
            ],
            [
             1,
             "#f0f921"
            ]
           ]
          },
          "colorway": [
           "#636efa",
           "#EF553B",
           "#00cc96",
           "#ab63fa",
           "#FFA15A",
           "#19d3f3",
           "#FF6692",
           "#B6E880",
           "#FF97FF",
           "#FECB52"
          ],
          "font": {
           "color": "#2a3f5f"
          },
          "geo": {
           "bgcolor": "white",
           "lakecolor": "white",
           "landcolor": "#E5ECF6",
           "showlakes": true,
           "showland": true,
           "subunitcolor": "white"
          },
          "hoverlabel": {
           "align": "left"
          },
          "hovermode": "closest",
          "mapbox": {
           "style": "light"
          },
          "paper_bgcolor": "white",
          "plot_bgcolor": "#E5ECF6",
          "polar": {
           "angularaxis": {
            "gridcolor": "white",
            "linecolor": "white",
            "ticks": ""
           },
           "bgcolor": "#E5ECF6",
           "radialaxis": {
            "gridcolor": "white",
            "linecolor": "white",
            "ticks": ""
           }
          },
          "scene": {
           "xaxis": {
            "backgroundcolor": "#E5ECF6",
            "gridcolor": "white",
            "gridwidth": 2,
            "linecolor": "white",
            "showbackground": true,
            "ticks": "",
            "zerolinecolor": "white"
           },
           "yaxis": {
            "backgroundcolor": "#E5ECF6",
            "gridcolor": "white",
            "gridwidth": 2,
            "linecolor": "white",
            "showbackground": true,
            "ticks": "",
            "zerolinecolor": "white"
           },
           "zaxis": {
            "backgroundcolor": "#E5ECF6",
            "gridcolor": "white",
            "gridwidth": 2,
            "linecolor": "white",
            "showbackground": true,
            "ticks": "",
            "zerolinecolor": "white"
           }
          },
          "shapedefaults": {
           "line": {
            "color": "#2a3f5f"
           }
          },
          "ternary": {
           "aaxis": {
            "gridcolor": "white",
            "linecolor": "white",
            "ticks": ""
           },
           "baxis": {
            "gridcolor": "white",
            "linecolor": "white",
            "ticks": ""
           },
           "bgcolor": "#E5ECF6",
           "caxis": {
            "gridcolor": "white",
            "linecolor": "white",
            "ticks": ""
           }
          },
          "title": {
           "x": 0.05
          },
          "xaxis": {
           "automargin": true,
           "gridcolor": "white",
           "linecolor": "white",
           "ticks": "",
           "title": {
            "standoff": 15
           },
           "zerolinecolor": "white",
           "zerolinewidth": 2
          },
          "yaxis": {
           "automargin": true,
           "gridcolor": "white",
           "linecolor": "white",
           "ticks": "",
           "title": {
            "standoff": 15
           },
           "zerolinecolor": "white",
           "zerolinewidth": 2
          }
         }
        },
        "xaxis": {
         "anchor": "y",
         "autorange": true,
         "domain": [
          0,
          1
         ],
         "range": [
          0.5,
          3.5
         ],
         "title": {
          "text": "degree_level"
         },
         "type": "linear"
        },
        "yaxis": {
         "anchor": "x",
         "autorange": true,
         "domain": [
          0,
          1
         ],
         "range": [
          0,
          102.10526315789474
         ],
         "title": {
          "text": "title"
         },
         "type": "linear"
        }
       }
      },
      "image/png": "[encoded data removed]",
      "text/html": [
       "<div>                            <div id=\"269c8aea-1ede-47dd-81f5-58f14dbdf542\" class=\"plotly-graph-div\" style=\"height:525px; width:100%;\"></div>            <script type=\"text/javascript\">                require([\"plotly\"], function(Plotly) {                    window.PLOTLYENV=window.PLOTLYENV || {};                                    if (document.getElementById(\"269c8aea-1ede-47dd-81f5-58f14dbdf542\")) {                    Plotly.newPlot(                        \"269c8aea-1ede-47dd-81f5-58f14dbdf542\",                        [{\"alignmentgroup\":\"True\",\"hovertemplate\":\"degree_level=%{x}<br>title=%{y}<extra></extra>\",\"legendgroup\":\"\",\"marker\":{\"color\":\"#636efa\",\"pattern\":{\"shape\":\"\"}},\"name\":\"\",\"offsetgroup\":\"\",\"orientation\":\"v\",\"showlegend\":false,\"textposition\":\"auto\",\"type\":\"bar\",\"x\":[1,2,3],\"xaxis\":\"x\",\"y\":[5,97,72],\"yaxis\":\"y\"}],                        {\"barmode\":\"stack\",\"legend\":{\"tracegroupgap\":0},\"margin\":{\"t\":60},\"template\":{\"data\":{\"bar\":[{\"error_x\":{\"color\":\"#2a3f5f\"},\"error_y\":{\"color\":\"#2a3f5f\"},\"marker\":{\"line\":{\"color\":\"#E5ECF6\",\"width\":0.5},\"pattern\":{\"fillmode\":\"overlay\",\"size\":10,\"solidity\":0.2}},\"type\":\"bar\"}],\"barpolar\":[{\"marker\":{\"line\":{\"color\":\"#E5ECF6\",\"width\":0.5},\"pattern\":{\"fillmode\":\"overlay\",\"size\":10,\"solidity\":0.2}},\"type\":\"barpolar\"}],\"carpet\":[{\"aaxis\":{\"endlinecolor\":\"#2a3f5f\",\"gridcolor\":\"white\",\"linecolor\":\"white\",\"minorgridcolor\":\"white\",\"startlinecolor\":\"#2a3f5f\"},\"baxis\":{\"endlinecolor\":\"#2a3f5f\",\"gridcolor\":\"white\",\"linecolor\":\"white\",\"minorgridcolor\":\"white\",\"startlinecolor\":\"#2a3f5f\"},\"type\":\"carpet\"}],\"choropleth\":[{\"colorbar\":{\"outlinewidth\":0,\"ticks\":\"\"},\"type\":\"choropleth\"}],\"contour\":[{\"colorbar\":{\"outlinewidth\":0,\"ticks\":\"\"},\"colorscale\":[[0.0,\"#0d0887\"],[0.1111111111111111,\"#46039f\"],[0.2222222222222222,\"#7201a8\"],[0.3333333333333333,\"#9c179e\"],[0.4444444444444444,\"#bd3786\"],[0.5555555555555556,\"#d8576b\"],[0.6666666666666666,\"#ed7953\"],[0.7777777777777778,\"#fb9f3a\"],[0.8888888888888888,\"#fdca26\"],[1.0,\"#f0f921\"]],\"type\":\"contour\"}],\"contourcarpet\":[{\"colorbar\":{\"outlinewidth\":0,\"ticks\":\"\"},\"type\":\"contourcarpet\"}],\"heatmap\":[{\"colorbar\":{\"outlinewidth\":0,\"ticks\":\"\"},\"colorscale\":[[0.0,\"#0d0887\"],[0.1111111111111111,\"#46039f\"],[0.2222222222222222,\"#7201a8\"],[0.3333333333333333,\"#9c179e\"],[0.4444444444444444,\"#bd3786\"],[0.5555555555555556,\"#d8576b\"],[0.6666666666666666,\"#ed7953\"],[0.7777777777777778,\"#fb9f3a\"],[0.8888888888888888,\"#fdca26\"],[1.0,\"#f0f921\"]],\"type\":\"heatmap\"}],\"heatmapgl\":[{\"colorbar\":{\"outlinewidth\":0,\"ticks\":\"\"},\"colorscale\":[[0.0,\"#0d0887\"],[0.1111111111111111,\"#46039f\"],[0.2222222222222222,\"#7201a8\"],[0.3333333333333333,\"#9c179e\"],[0.4444444444444444,\"#bd3786\"],[0.5555555555555556,\"#d8576b\"],[0.6666666666666666,\"#ed7953\"],[0.7777777777777778,\"#fb9f3a\"],[0.8888888888888888,\"#fdca26\"],[1.0,\"#f0f921\"]],\"type\":\"heatmapgl\"}],\"histogram\":[{\"marker\":{\"pattern\":{\"fillmode\":\"overlay\",\"size\":10,\"solidity\":0.2}},\"type\":\"histogram\"}],\"histogram2d\":[{\"colorbar\":{\"outlinewidth\":0,\"ticks\":\"\"},\"colorscale\":[[0.0,\"#0d0887\"],[0.1111111111111111,\"#46039f\"],[0.2222222222222222,\"#7201a8\"],[0.3333333333333333,\"#9c179e\"],[0.4444444444444444,\"#bd3786\"],[0.5555555555555556,\"#d8576b\"],[0.6666666666666666,\"#ed7953\"],[0.7777777777777778,\"#fb9f3a\"],[0.8888888888888888,\"#fdca26\"],[1.0,\"#f0f921\"]],\"type\":\"histogram2d\"}],\"histogram2dcontour\":[{\"colorbar\":{\"outlinewidth\":0,\"ticks\":\"\"},\"colorscale\":[[0.0,\"#0d0887\"],[0.1111111111111111,\"#46039f\"],[0.2222222222222222,\"#7201a8\"],[0.3333333333333333,\"#9c179e\"],[0.4444444444444444,\"#bd3786\"],[0.5555555555555556,\"#d8576b\"],[0.6666666666666666,\"#ed7953\"],[0.7777777777777778,\"#fb9f3a\"],[0.8888888888888888,\"#fdca26\"],[1.0,\"#f0f921\"]],\"type\":\"histogram2dcontour\"}],\"mesh3d\":[{\"colorbar\":{\"outlinewidth\":0,\"ticks\":\"\"},\"type\":\"mesh3d\"}],\"parcoords\":[{\"line\":{\"colorbar\":{\"outlinewidth\":0,\"ticks\":\"\"}},\"type\":\"parcoords\"}],\"pie\":[{\"automargin\":true,\"type\":\"pie\"}],\"scatter\":[{\"marker\":{\"colorbar\":{\"outlinewidth\":0,\"ticks\":\"\"}},\"type\":\"scatter\"}],\"scatter3d\":[{\"line\":{\"colorbar\":{\"outlinewidth\":0,\"ticks\":\"\"}},\"marker\":{\"colorbar\":{\"outlinewidth\":0,\"ticks\":\"\"}},\"type\":\"scatter3d\"}],\"scattercarpet\":[{\"marker\":{\"colorbar\":{\"outlinewidth\":0,\"ticks\":\"\"}},\"type\":\"scattercarpet\"}],\"scattergeo\":[{\"marker\":{\"colorbar\":{\"outlinewidth\":0,\"ticks\":\"\"}},\"type\":\"scattergeo\"}],\"scattergl\":[{\"marker\":{\"colorbar\":{\"outlinewidth\":0,\"ticks\":\"\"}},\"type\":\"scattergl\"}],\"scattermapbox\":[{\"marker\":{\"colorbar\":{\"outlinewidth\":0,\"ticks\":\"\"}},\"type\":\"scattermapbox\"}],\"scatterpolar\":[{\"marker\":{\"colorbar\":{\"outlinewidth\":0,\"ticks\":\"\"}},\"type\":\"scatterpolar\"}],\"scatterpolargl\":[{\"marker\":{\"colorbar\":{\"outlinewidth\":0,\"ticks\":\"\"}},\"type\":\"scatterpolargl\"}],\"scatterternary\":[{\"marker\":{\"colorbar\":{\"outlinewidth\":0,\"ticks\":\"\"}},\"type\":\"scatterternary\"}],\"surface\":[{\"colorbar\":{\"outlinewidth\":0,\"ticks\":\"\"},\"colorscale\":[[0.0,\"#0d0887\"],[0.1111111111111111,\"#46039f\"],[0.2222222222222222,\"#7201a8\"],[0.3333333333333333,\"#9c179e\"],[0.4444444444444444,\"#bd3786\"],[0.5555555555555556,\"#d8576b\"],[0.6666666666666666,\"#ed7953\"],[0.7777777777777778,\"#fb9f3a\"],[0.8888888888888888,\"#fdca26\"],[1.0,\"#f0f921\"]],\"type\":\"surface\"}],\"table\":[{\"cells\":{\"fill\":{\"color\":\"#EBF0F8\"},\"line\":{\"color\":\"white\"}},\"header\":{\"fill\":{\"color\":\"#C8D4E3\"},\"line\":{\"color\":\"white\"}},\"type\":\"table\"}]},\"layout\":{\"annotationdefaults\":{\"arrowcolor\":\"#2a3f5f\",\"arrowhead\":0,\"arrowwidth\":1},\"autotypenumbers\":\"strict\",\"coloraxis\":{\"colorbar\":{\"outlinewidth\":0,\"ticks\":\"\"}},\"colorscale\":{\"diverging\":[[0,\"#8e0152\"],[0.1,\"#c51b7d\"],[0.2,\"#de77ae\"],[0.3,\"#f1b6da\"],[0.4,\"#fde0ef\"],[0.5,\"#f7f7f7\"],[0.6,\"#e6f5d0\"],[0.7,\"#b8e186\"],[0.8,\"#7fbc41\"],[0.9,\"#4d9221\"],[1,\"#276419\"]],\"sequential\":[[0.0,\"#0d0887\"],[0.1111111111111111,\"#46039f\"],[0.2222222222222222,\"#7201a8\"],[0.3333333333333333,\"#9c179e\"],[0.4444444444444444,\"#bd3786\"],[0.5555555555555556,\"#d8576b\"],[0.6666666666666666,\"#ed7953\"],[0.7777777777777778,\"#fb9f3a\"],[0.8888888888888888,\"#fdca26\"],[1.0,\"#f0f921\"]],\"sequentialminus\":[[0.0,\"#0d0887\"],[0.1111111111111111,\"#46039f\"],[0.2222222222222222,\"#7201a8\"],[0.3333333333333333,\"#9c179e\"],[0.4444444444444444,\"#bd3786\"],[0.5555555555555556,\"#d8576b\"],[0.6666666666666666,\"#ed7953\"],[0.7777777777777778,\"#fb9f3a\"],[0.8888888888888888,\"#fdca26\"],[1.0,\"#f0f921\"]]},\"colorway\":[\"#636efa\",\"#EF553B\",\"#00cc96\",\"#ab63fa\",\"#FFA15A\",\"#19d3f3\",\"#FF6692\",\"#B6E880\",\"#FF97FF\",\"#FECB52\"],\"font\":{\"color\":\"#2a3f5f\"},\"geo\":{\"bgcolor\":\"white\",\"lakecolor\":\"white\",\"landcolor\":\"#E5ECF6\",\"showlakes\":true,\"showland\":true,\"subunitcolor\":\"white\"},\"hoverlabel\":{\"align\":\"left\"},\"hovermode\":\"closest\",\"mapbox\":{\"style\":\"light\"},\"paper_bgcolor\":\"white\",\"plot_bgcolor\":\"#E5ECF6\",\"polar\":{\"angularaxis\":{\"gridcolor\":\"white\",\"linecolor\":\"white\",\"ticks\":\"\"},\"bgcolor\":\"#E5ECF6\",\"radialaxis\":{\"gridcolor\":\"white\",\"linecolor\":\"white\",\"ticks\":\"\"}},\"scene\":{\"xaxis\":{\"backgroundcolor\":\"#E5ECF6\",\"gridcolor\":\"white\",\"gridwidth\":2,\"linecolor\":\"white\",\"showbackground\":true,\"ticks\":\"\",\"zerolinecolor\":\"white\"},\"yaxis\":{\"backgroundcolor\":\"#E5ECF6\",\"gridcolor\":\"white\",\"gridwidth\":2,\"linecolor\":\"white\",\"showbackground\":true,\"ticks\":\"\",\"zerolinecolor\":\"white\"},\"zaxis\":{\"backgroundcolor\":\"#E5ECF6\",\"gridcolor\":\"white\",\"gridwidth\":2,\"linecolor\":\"white\",\"showbackground\":true,\"ticks\":\"\",\"zerolinecolor\":\"white\"}},\"shapedefaults\":{\"line\":{\"color\":\"#2a3f5f\"}},\"ternary\":{\"aaxis\":{\"gridcolor\":\"white\",\"linecolor\":\"white\",\"ticks\":\"\"},\"baxis\":{\"gridcolor\":\"white\",\"linecolor\":\"white\",\"ticks\":\"\"},\"bgcolor\":\"#E5ECF6\",\"caxis\":{\"gridcolor\":\"white\",\"linecolor\":\"white\",\"ticks\":\"\"}},\"title\":{\"x\":0.05},\"xaxis\":{\"automargin\":true,\"gridcolor\":\"white\",\"linecolor\":\"white\",\"ticks\":\"\",\"title\":{\"standoff\":15},\"zerolinecolor\":\"white\",\"zerolinewidth\":2},\"yaxis\":{\"automargin\":true,\"gridcolor\":\"white\",\"linecolor\":\"white\",\"ticks\":\"\",\"title\":{\"standoff\":15},\"zerolinecolor\":\"white\",\"zerolinewidth\":2}}},\"xaxis\":{\"anchor\":\"y\",\"domain\":[0.0,1.0],\"title\":{\"text\":\"degree_level\"}},\"yaxis\":{\"anchor\":\"x\",\"domain\":[0.0,1.0],\"title\":{\"text\":\"title\"}}},                        {\"responsive\": true}                    ).then(function(){\n",
       "                            \n",
       "var gd = document.getElementById('269c8aea-1ede-47dd-81f5-58f14dbdf542');\n",
       "var x = new MutationObserver(function (mutations, observer) {{\n",
       "        var display = window.getComputedStyle(gd).display;\n",
       "        if (!display || display === 'none') {{\n",
       "            console.log([gd, 'removed!']);\n",
       "            Plotly.purge(gd);\n",
       "            observer.disconnect();\n",
       "        }}\n",
       "}});\n",
       "\n",
       "// Listen for the removal of the full notebook cells\n",
       "var notebookContainer = gd.closest('#notebook-container');\n",
       "if (notebookContainer) {{\n",
       "    x.observe(notebookContainer, {childList: true});\n",
       "}}\n",
       "\n",
       "// Listen for the clearing of the current output cell\n",
       "var outputEl = gd.closest('.output');\n",
       "if (outputEl) {{\n",
       "    x.observe(outputEl, {childList: true});\n",
       "}}\n",
       "\n",
       "                        })                };                });            </script>        </div>"
      ]
     },
     "metadata": {},
     "output_type": "display_data"
    }
   ],
   "source": [
    "dfg = df.groupby('degree_level').count().reset_index()\n",
    "# plot structure\n",
    "fig = px.bar(dfg,\n",
    "             x='degree_level',\n",
    "             y='title',\n",
    "             title='',\n",
    "             barmode='stack')\n",
    "\n",
    "# plot\n",
    "fig.show()"
   ]
  },
  {
   "cell_type": "code",
   "execution_count": null,
   "metadata": {},
   "outputs": [],
   "source": []
  }
 ],
 "metadata": {
  "kernelspec": {
   "display_name": "Python 3",
   "language": "python",
   "name": "python3"
  },
  "language_info": {
   "codemirror_mode": {
    "name": "ipython",
    "version": 3
   },
   "file_extension": ".py",
   "mimetype": "text/x-python",
   "name": "python",
   "nbconvert_exporter": "python",
   "pygments_lexer": "ipython3",
   "version": "3.8.5"
  }
 },
 "nbformat": 4,
 "nbformat_minor": 4
}
