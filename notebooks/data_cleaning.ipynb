{
 "cells": [
  {
   "cell_type": "code",
   "execution_count": 1,
   "metadata": {},
   "outputs": [],
   "source": [
    "import pandas as pd\n",
    "import plotly.express as px\n",
    "import numpy as np\n",
    "import re"
   ]
  },
  {
   "cell_type": "code",
   "execution_count": 2,
   "metadata": {},
   "outputs": [],
   "source": [
    "df = pd.read_csv('../data/raw_data_20_10_21.csv')"
   ]
  },
  {
   "cell_type": "code",
   "execution_count": 3,
   "metadata": {},
   "outputs": [
    {
     "data": {
      "text/plain": [
       "322"
      ]
     },
     "execution_count": 3,
     "metadata": {},
     "output_type": "execute_result"
    }
   ],
   "source": [
    "len(df)  # 370 rows supposed to correspond to a job"
   ]
  },
  {
   "cell_type": "code",
   "execution_count": 4,
   "metadata": {},
   "outputs": [
    {
     "data": {
      "text/plain": [
       "241"
      ]
     },
     "execution_count": 4,
     "metadata": {},
     "output_type": "execute_result"
    }
   ],
   "source": [
    "len(pd.unique(df.description))  # only 236 unique job descriptions so there must be duplicates in the data"
   ]
  },
  {
   "cell_type": "markdown",
   "metadata": {},
   "source": [
    "### Deletion of duplicates "
   ]
  },
  {
   "cell_type": "code",
   "execution_count": 5,
   "metadata": {},
   "outputs": [
    {
     "data": {
      "text/plain": [
       "78"
      ]
     },
     "execution_count": 5,
     "metadata": {},
     "output_type": "execute_result"
    }
   ],
   "source": [
    "# Find a duplicate rows\n",
    "duplicateDFRow = df[df.duplicated()]\n",
    "len(duplicateDFRow)  # there are 133 duplicated in the data"
   ]
  },
  {
   "cell_type": "code",
   "execution_count": 6,
   "metadata": {},
   "outputs": [
    {
     "data": {
      "text/plain": [
       "244"
      ]
     },
     "execution_count": 6,
     "metadata": {},
     "output_type": "execute_result"
    }
   ],
   "source": [
    "df.drop(duplicateDFRow.index, inplace=True)\n",
    "len(df)"
   ]
  },
  {
   "cell_type": "code",
   "execution_count": 7,
   "metadata": {},
   "outputs": [
    {
     "data": {
      "text/html": [
       "<div>\n",
       "<style scoped>\n",
       "    .dataframe tbody tr th:only-of-type {\n",
       "        vertical-align: middle;\n",
       "    }\n",
       "\n",
       "    .dataframe tbody tr th {\n",
       "        vertical-align: top;\n",
       "    }\n",
       "\n",
       "    .dataframe thead th {\n",
       "        text-align: right;\n",
       "    }\n",
       "</style>\n",
       "<table border=\"1\" class=\"dataframe\">\n",
       "  <thead>\n",
       "    <tr style=\"text-align: right;\">\n",
       "      <th></th>\n",
       "      <th>title</th>\n",
       "      <th>company</th>\n",
       "      <th>city</th>\n",
       "      <th>contract_type</th>\n",
       "      <th>salary</th>\n",
       "      <th>description</th>\n",
       "      <th>link</th>\n",
       "    </tr>\n",
       "  </thead>\n",
       "  <tbody>\n",
       "    <tr>\n",
       "      <th>0</th>\n",
       "      <td>Data Scientist</td>\n",
       "      <td>Avisto</td>\n",
       "      <td>06220 Vallauris</td>\n",
       "      <td>Temps plein, CDI</td>\n",
       "      <td>-</td>\n",
       "      <td>Dans le cadre de nos activités, vous serez ame...</td>\n",
       "      <td>https://fr.indeed.com/rc/clk?jk=a633bad2a5d6f5...</td>\n",
       "    </tr>\n",
       "    <tr>\n",
       "      <th>1</th>\n",
       "      <td>Data scientist F/H</td>\n",
       "      <td>Opteven</td>\n",
       "      <td>Villeurbanne (69)</td>\n",
       "      <td>CDI</td>\n",
       "      <td>-</td>\n",
       "      <td>Pour accompagner sa croissance et son évolutio...</td>\n",
       "      <td>https://fr.indeed.com/company/Opteven/jobs/Dat...</td>\n",
       "    </tr>\n",
       "    <tr>\n",
       "      <th>2</th>\n",
       "      <td>CDI - Data Scientist - Yves Rocher F/H</td>\n",
       "      <td>Groupe Yves Rocher</td>\n",
       "      <td>Rennes (35)</td>\n",
       "      <td>CDI</td>\n",
       "      <td>-</td>\n",
       "      <td>Réf: 95202\\n\\nLieu:\\nFR - Rennes, FR\\n\\nType d...</td>\n",
       "      <td>https://fr.indeed.com/rc/clk?jk=5c886be0ff3794...</td>\n",
       "    </tr>\n",
       "    <tr>\n",
       "      <th>3</th>\n",
       "      <td>Data Scientist - Demande de dérogation recrute...</td>\n",
       "      <td>Safran</td>\n",
       "      <td>Magny-les-Hameaux (78)</td>\n",
       "      <td>-</td>\n",
       "      <td>-</td>\n",
       "      <td>Safran est un groupe international de haute te...</td>\n",
       "      <td>https://fr.indeed.com/rc/clk?jk=471597dc13ddc2...</td>\n",
       "    </tr>\n",
       "    <tr>\n",
       "      <th>4</th>\n",
       "      <td>INGENIEUR DATA SCIENTIST F/H</td>\n",
       "      <td>PROBAYES</td>\n",
       "      <td>Paris 15e (75)</td>\n",
       "      <td>Apprentissage, Contrat pro</td>\n",
       "      <td>-</td>\n",
       "      <td>Descriptif du poste:\\nIngénieur Machine Learni...</td>\n",
       "      <td>https://fr.indeed.com/rc/clk?jk=778d77eabbab03...</td>\n",
       "    </tr>\n",
       "  </tbody>\n",
       "</table>\n",
       "</div>"
      ],
      "text/plain": [
       "                                               title             company  \\\n",
       "0                                     Data Scientist              Avisto   \n",
       "1                                 Data scientist F/H             Opteven   \n",
       "2             CDI - Data Scientist - Yves Rocher F/H  Groupe Yves Rocher   \n",
       "3  Data Scientist - Demande de dérogation recrute...              Safran   \n",
       "4                       INGENIEUR DATA SCIENTIST F/H            PROBAYES   \n",
       "\n",
       "                     city               contract_type salary  \\\n",
       "0         06220 Vallauris            Temps plein, CDI      -   \n",
       "1       Villeurbanne (69)                         CDI      -   \n",
       "2             Rennes (35)                         CDI      -   \n",
       "3  Magny-les-Hameaux (78)                           -      -   \n",
       "4          Paris 15e (75)  Apprentissage, Contrat pro      -   \n",
       "\n",
       "                                         description  \\\n",
       "0  Dans le cadre de nos activités, vous serez ame...   \n",
       "1  Pour accompagner sa croissance et son évolutio...   \n",
       "2  Réf: 95202\\n\\nLieu:\\nFR - Rennes, FR\\n\\nType d...   \n",
       "3  Safran est un groupe international de haute te...   \n",
       "4  Descriptif du poste:\\nIngénieur Machine Learni...   \n",
       "\n",
       "                                                link  \n",
       "0  https://fr.indeed.com/rc/clk?jk=a633bad2a5d6f5...  \n",
       "1  https://fr.indeed.com/company/Opteven/jobs/Dat...  \n",
       "2  https://fr.indeed.com/rc/clk?jk=5c886be0ff3794...  \n",
       "3  https://fr.indeed.com/rc/clk?jk=471597dc13ddc2...  \n",
       "4  https://fr.indeed.com/rc/clk?jk=778d77eabbab03...  "
      ]
     },
     "execution_count": 7,
     "metadata": {},
     "output_type": "execute_result"
    }
   ],
   "source": [
    "df.head()"
   ]
  },
  {
   "cell_type": "markdown",
   "metadata": {},
   "source": [
    "### City "
   ]
  },
  {
   "cell_type": "code",
   "execution_count": 8,
   "metadata": {},
   "outputs": [
    {
     "data": {
      "text/plain": [
       "array(['06220 Vallauris', 'Villeurbanne (69)', 'Rennes (35)',\n",
       "       'Magny-les-Hameaux (78)', 'Paris 15e (75)', 'Paris (75)',\n",
       "       '92400 Courbevoie', '06560 Valbonne', '94300 Vincennes',\n",
       "       'La Défense (92)', '92100 Boulogne-Billancourt', 'Toulouse (31)',\n",
       "       'Paris 8e (75)', '92700 Colombes', 'Neuilly-sur-Seine (92)',\n",
       "       '47000 Agen', 'Montpellier (34)', 'Lille (59)', 'Nice (06)',\n",
       "       'Télétravail', '34095 Montpellier', 'Lyon (69)',\n",
       "       '17000 La Rochelle', 'Vitry-sur-Seine (94)', '92037 La Défense',\n",
       "       'Paris 20e (75)', '75001 Paris', 'Tours (37)', '92800 Puteaux',\n",
       "       '92300 Levallois-Perret', '75009 Paris 9e', '91940 Les Ulis',\n",
       "       '37000 Tours', 'Meudon (92)', 'Eu (76)', 'Gif-sur-Yvette (91)',\n",
       "       'Amiens (80)', 'Gennevilliers (92)', 'Paris 2e (75)', '14000 Caen',\n",
       "       '31300 Toulouse', 'Aix-en-Provence (13)', '34000 Montpellier',\n",
       "       'Clichy (92)', '78533 Buc', 'Brétigny-sur-Orge (91)',\n",
       "       'Nanterre (92)', 'Illkirch-Graffenstaden (67)', 'Wissous (91)',\n",
       "       '75008 Paris', '74000 Annecy', 'La Roche-sur-Yon (85)',\n",
       "       'Bordes (64)', '75001 Paris 1er', 'Strasbourg (67)',\n",
       "       'Paris 14e (75)', 'Châtellerault (86)', 'Bondoufle (91)',\n",
       "       'Lezennes (59)', 'Bordeaux (33)', '35000 Rennes', 'Montrouge (92)',\n",
       "       '69003 Lyon', '75012 Paris 12e', '92220 Bagneux',\n",
       "       '13005 Marseille', '75007 Paris 7e', 'Don (59)', '59510 Hem',\n",
       "       'Le Bar-sur-Loup (06)', 'Courbevoie (92)', '75020 Paris 20e',\n",
       "       'Puteaux (92)', 'Paris 1er (75)', 'Montreuil (93)', '44000 Nantes',\n",
       "       '31000 Toulouse', 'Lyon 3e (69)', 'Paris 4e (75)', 'Nantes (44)',\n",
       "       'Charenton-le-Pont (94)', '59000 Lille', 'Nogent-sur-Marne (94)',\n",
       "       '92200 Neuilly-sur-Seine', '13000 Marseille', '75011 Paris',\n",
       "       '45140 Ormes', '75002 Paris 2e', 'Issy-les-Moulineaux (92)',\n",
       "       'Paris 9e (75)', 'Valenciennes (59)', 'Marseille 2e (13)',\n",
       "       'Vanves (92)', 'Boulogne-Billancourt (92)',\n",
       "       'Levallois-Perret (92)', '13100 Aix-en-Provence',\n",
       "       'Steinbourg (67)', 'Paris 16e (75)', 'Saclay (91)', 'Roanne (42)',\n",
       "       '31790 Saint-Sauveur', '81500 Lavaur', '17440 Aytré',\n",
       "       'Marseille (13)', 'Marseille 1er (13)',\n",
       "       '60330 Le Plessis-Belleville', 'Roncq (59)',\n",
       "       '91191 Gif-sur-Yvette', '75011 Paris 11e', 'Grenoble (38)'],\n",
       "      dtype=object)"
      ]
     },
     "execution_count": 8,
     "metadata": {},
     "output_type": "execute_result"
    }
   ],
   "source": [
    "pd.unique(df.city)"
   ]
  },
  {
   "cell_type": "markdown",
   "metadata": {},
   "source": [
    "If postal code is given, we want to keep it in another variable"
   ]
  },
  {
   "cell_type": "code",
   "execution_count": 11,
   "metadata": {},
   "outputs": [],
   "source": [
    "postal_codes_re = r\"([0-9]{5})\"  # matching and capturing a group of 5 figures\n",
    "df['postal_code'] = df.city.str.extract(postal_codes_re, flags = re.M)  # in the city variable, extract postal code if present"
   ]
  },
  {
   "cell_type": "markdown",
   "metadata": {},
   "source": [
    "#### Cities with districts "
   ]
  },
  {
   "cell_type": "markdown",
   "metadata": {},
   "source": [
    "For cities with districts (Paris, Lyon, Marseille), we want to grab it if it's given after the name of the city, for example 'Paris 2e'"
   ]
  },
  {
   "cell_type": "code",
   "execution_count": 54,
   "metadata": {},
   "outputs": [],
   "source": [
    "districts_re = r\"(?P<city>paris|marseille|lyon) (?P<district>[0-9]+)e\"  # ?P<> enables to name capturing groups\n",
    "district_df = df.city.str.extract(districts_re, flags=re.I | re.M)  # 1st column : city name if matched, 2nd : district"
   ]
  },
  {
   "cell_type": "code",
   "execution_count": 56,
   "metadata": {},
   "outputs": [],
   "source": [
    "df['district'] = district_df.district  # add the district information in the dataframe"
   ]
  },
  {
   "cell_type": "code",
   "execution_count": 59,
   "metadata": {},
   "outputs": [],
   "source": [
    "def postal_codes_w_districts(df):\n",
    "    # Updates the postal code column with information from the district, for Paris, Lyon, Marseille\n",
    "    # params:\n",
    "    # - df is the dataframe containing at least the columns district, city, and postal code\n",
    "    # return :\n",
    "    # the same df with updated postal codes\n",
    "    \n",
    "    nb_char_district = df['district'].str.len()  # compute length of the district, to create postal code\n",
    "    \n",
    "    # Paris\n",
    "    paris_data = df.loc[df.city.str.contains('Paris', case=False)]\n",
    "    one_figure_district = paris_data.loc[nb_char_district==1]\n",
    "    df.loc[one_figure_district.index, 'postal_code'] = '7500' + one_figure_district.district\n",
    "    \n",
    "    two_figure_district = paris_data.loc[nb_char_district==2]\n",
    "    df.loc[two_figure_district.index, 'postal_code'] = '750' + two_figure_district.district\n",
    "    \n",
    "    # Marseille\n",
    "    marseille_data = df.loc[df.city.str.contains('Marseille', case=False)]\n",
    "    one_figure_district = marseille_data.loc[nb_char_district==1]\n",
    "    df.loc[one_figure_district.index, 'postal_code'] = '1300' + one_figure_district.district\n",
    "    \n",
    "    two_figure_district = marseille_data.loc[nb_char_district==2]\n",
    "    df.loc[two_figure_district.index, 'postal_code'] = '130' + two_figure_district.district\n",
    "    \n",
    "    # Lyon - only 9 districts in this city\n",
    "    lyon_data = df.loc[df.city.str.contains('Lyon', case=False)]\n",
    "    one_figure_district = lyon_data.loc[nb_char_district==1]\n",
    "    df.loc[one_figure_district.index, 'postal_code'] = '6900' + one_figure_district.district\n",
    "    \n",
    "    return(df)"
   ]
  },
  {
   "cell_type": "code",
   "execution_count": 61,
   "metadata": {},
   "outputs": [],
   "source": [
    "df = postal_codes_w_districts(df)"
   ]
  },
  {
   "cell_type": "markdown",
   "metadata": {},
   "source": [
    "#### Clean the city variable"
   ]
  },
  {
   "cell_type": "markdown",
   "metadata": {},
   "source": [
    "We want to clean the city variable by removing the postal code data and keeping only the city name \\\n",
    "We do this by keeping only the characters that are \n",
    " - letters\n",
    " - '-' sign\n",
    " - apostrophe"
   ]
  },
  {
   "cell_type": "code",
   "execution_count": 759,
   "metadata": {},
   "outputs": [],
   "source": [
    "# takes a string and returns the same strings but only with characters that are letters (or - sign)\n",
    "def get_letters(value):\n",
    "    return ''.join([i for i in value if (i.isalpha()) | (i=='-') | (i==' ') | (i==\"'\")])"
   ]
  },
  {
   "cell_type": "code",
   "execution_count": 760,
   "metadata": {},
   "outputs": [],
   "source": [
    "#clean the city variable, by removing the postal codes or parentheses\n",
    "df['city_letters'] = df.city.apply(get_letters)"
   ]
  },
  {
   "cell_type": "code",
   "execution_count": 764,
   "metadata": {},
   "outputs": [
    {
     "data": {
      "text/plain": [
       "array(['Vallauris', 'Villeurbanne', 'Rennes', 'Magny-les-Hameaux',\n",
       "       'Paris', 'Courbevoie', 'Valbonne', 'Vincennes', 'La Défense',\n",
       "       'Boulogne-Billancourt', 'Toulouse', 'Colombes',\n",
       "       'Neuilly-sur-Seine', 'Agen', 'Montpellier', 'Lille', 'Nice',\n",
       "       'Télétravail', 'Lyon', 'La Rochelle', 'Vitry-sur-Seine', 'Tours',\n",
       "       'Puteaux', 'Levallois-Perret', 'Les Ulis', 'Meudon', 'Eu',\n",
       "       'Gif-sur-Yvette', 'Amiens', 'Gennevilliers', 'Caen',\n",
       "       'Aix-en-Provence', 'Clichy', 'Buc', 'Brétigny-sur-Orge',\n",
       "       'Nanterre', 'Illkirch-Graffenstaden', 'Wissous', 'Annecy',\n",
       "       'La Roche-sur-Yon', 'Bordes', 'Strasbourg', 'Châtellerault',\n",
       "       'Bondoufle', 'Lezennes', 'Bordeaux', 'Montrouge', 'Bagneux',\n",
       "       'Marseille', 'Don', 'Hem', 'Le Bar-sur-Loup', 'Montreuil',\n",
       "       'Nantes', 'Charenton-le-Pont', 'Nogent-sur-Marne', 'Ormes',\n",
       "       'Issy-les-Moulineaux', 'Valenciennes', 'Vanves', 'Steinbourg',\n",
       "       'Saclay', 'Roanne', 'Saint-Sauveur', 'Lavaur', 'Aytré',\n",
       "       'Le Plessis-Belleville', 'Roncq', 'Grenoble'], dtype=object)"
      ]
     },
     "execution_count": 764,
     "metadata": {},
     "output_type": "execute_result"
    }
   ],
   "source": [
    "pd.unique(df.city_letters)"
   ]
  },
  {
   "cell_type": "markdown",
   "metadata": {},
   "source": [
    "With cities with districts, we lost this information but letters can still be in the city name \\\n",
    "For these cities, we fix it by replacing by the name of the city when it's found in the variable"
   ]
  },
  {
   "cell_type": "code",
   "execution_count": 762,
   "metadata": {},
   "outputs": [],
   "source": [
    "# Paris\n",
    "paris_indices = df.loc[df.city_letters.str.contains('Paris', case=False)].index\n",
    "df.loc[paris_indices, \"city_letters\"] = [\"Paris\"]*len(paris_indices)\n",
    "\n",
    "# Marseille\n",
    "marseille_indices = df.loc[df.city_letters.str.contains('Marseille', case=False)].index\n",
    "df.loc[marseille_indices, \"city_letters\"] = [\"Marseille\"]*len(marseille_indices)\n",
    "\n",
    "# Lyon\n",
    "lyon_indices = df.loc[df.city_letters.str.contains('Lyon', case=False)].index\n",
    "df.loc[lyon_indices, 'city_letters'] = [\"Lyon\"]*len(lyon_indices)"
   ]
  },
  {
   "cell_type": "code",
   "execution_count": 763,
   "metadata": {},
   "outputs": [],
   "source": [
    "# city that starts or ends with a space --> we remove this space\n",
    "# ^\\s for start\n",
    "# \\s$ for end with a space\n",
    "df.city_letters.replace('^\\s','',regex=True, inplace = True)\n",
    "df.city_letters.replace('\\s$', '', regex=True, inplace=True)"
   ]
  },
  {
   "cell_type": "markdown",
   "metadata": {},
   "source": [
    "### Contract type "
   ]
  },
  {
   "cell_type": "code",
   "execution_count": 534,
   "metadata": {},
   "outputs": [
    {
     "data": {
      "text/plain": [
       "array(['CDI', '-', ' -  Temps plein, CDI', 'Temps plein, CDI',\n",
       "       'Apprentissage, Contrat pro', 'Stage', 'CDD', 'CDD, CDI',\n",
       "       'Temps plein, Stage', 'Temps partiel',\n",
       "       'Temps plein, Temps partiel', ' -  Temps plein, CDD',\n",
       "       'Freelance / Indépendant', 'Temps plein, CDD', ' -  CDI',\n",
       "       ' -  Intérim', 'Temps plein, Intérim', 'Intérim'], dtype=object)"
      ]
     },
     "execution_count": 534,
     "metadata": {},
     "output_type": "execute_result"
    }
   ],
   "source": [
    "pd.unique(df.contract_type)"
   ]
  },
  {
   "cell_type": "markdown",
   "metadata": {},
   "source": [
    "#### CDI "
   ]
  },
  {
   "cell_type": "code",
   "execution_count": 535,
   "metadata": {},
   "outputs": [],
   "source": [
    "cdi_indices = df.loc[df['contract_type'].str.contains(\"CDI\", case=False)].index\n",
    "df.loc[cdi_indices, \"contract_type\"] = [\"CDI\"]*len(cdi_indices)"
   ]
  },
  {
   "cell_type": "markdown",
   "metadata": {},
   "source": [
    "#### Apprentissage"
   ]
  },
  {
   "cell_type": "code",
   "execution_count": 536,
   "metadata": {},
   "outputs": [],
   "source": [
    "student_indices = df.loc[(df['contract_type'].str.contains(\"Apprentissage\", case=False)) | df.contract_type.str.contains(\"Stage\", case=False)].index\n",
    "df.drop(student_indices, inplace=True)  # we are not interested in this type of contract, 34 rowd"
   ]
  },
  {
   "cell_type": "markdown",
   "metadata": {},
   "source": [
    "#### Intérim"
   ]
  },
  {
   "cell_type": "code",
   "execution_count": 537,
   "metadata": {},
   "outputs": [],
   "source": [
    "interim_indices = df.loc[df['contract_type'].str.contains(\"Intérim\", case=False)].index\n",
    "df.loc[interim_indices, \"contract_type\"] = [\"Intérim\"]*len(interim_indices)"
   ]
  },
  {
   "cell_type": "code",
   "execution_count": 538,
   "metadata": {},
   "outputs": [
    {
     "data": {
      "text/plain": [
       "array(['CDI', '-', 'CDD', 'Temps partiel', 'Temps plein, Temps partiel',\n",
       "       ' -  Temps plein, CDD', 'Freelance / Indépendant',\n",
       "       'Temps plein, CDD', 'Intérim'], dtype=object)"
      ]
     },
     "execution_count": 538,
     "metadata": {},
     "output_type": "execute_result"
    }
   ],
   "source": [
    "pd.unique(df.contract_type)"
   ]
  },
  {
   "cell_type": "markdown",
   "metadata": {},
   "source": [
    "#### CDD"
   ]
  },
  {
   "cell_type": "code",
   "execution_count": 539,
   "metadata": {},
   "outputs": [],
   "source": [
    "cdd_indices = df.loc[df['contract_type'].str.contains(\"CDD\", case=False)].index\n",
    "df.loc[cdd_indices, 'contract_type'] = [\"CDD\"]*len(cdd_indices)"
   ]
  },
  {
   "cell_type": "code",
   "execution_count": 540,
   "metadata": {},
   "outputs": [],
   "source": [
    "# lines where it's not specified will be represented with '-'\n",
    "unspec_indices = df.loc[df.contract_type.str.contains(\"Temps partiel\", case=False)].index\n",
    "df.loc[unspec_indices, 'contract_type'] = [\"-\"]*len(unspec_indices)"
   ]
  },
  {
   "cell_type": "markdown",
   "metadata": {},
   "source": [
    "#### Freelance "
   ]
  },
  {
   "cell_type": "code",
   "execution_count": 541,
   "metadata": {},
   "outputs": [],
   "source": [
    "# as I'm searching for a first job, I am not looking at freelandce opportunities\n",
    "freelance_indices = df.loc[df.contract_type.str.contains(\"Freelance\", case=False)].index\n",
    "df.drop(freelance_indices, inplace=True)"
   ]
  },
  {
   "cell_type": "markdown",
   "metadata": {},
   "source": [
    "### Salary "
   ]
  },
  {
   "cell_type": "code",
   "execution_count": 542,
   "metadata": {},
   "outputs": [
    {
     "data": {
      "text/plain": [
       "array(['-', '40\\xa0000 € par an', '2\\xa0750 € par mois',\n",
       "       '3\\xa0000 € par mois', '38\\xa0000 € par an',\n",
       "       '50\\xa0000 € - 60\\xa0000 € par an',\n",
       "       '2\\xa0053 € - 4\\xa0211 € par mois',\n",
       "       '36\\xa0000 € - 38\\xa0000 € par an',\n",
       "       '40\\xa0000 € - 55\\xa0000 € par an',\n",
       "       '35\\xa0000 € - 40\\xa0000 € par an',\n",
       "       '35\\xa0000 € - 38\\xa0000 € par an',\n",
       "       '30\\xa0000 € - 40\\xa0000 € par an',\n",
       "       '50\\xa0000 € - 80\\xa0000 € par an',\n",
       "       '45\\xa0000 € - 55\\xa0000 € par an',\n",
       "       '35\\xa0000 € - 45\\xa0000 € par an', '550 € - 600 € par jour',\n",
       "       '40\\xa0000 € - 50\\xa0000 € par an', '3\\xa0624 € par mois',\n",
       "       '60\\xa0000 € - 70\\xa0000 € par an', '3\\xa0300 € par mois',\n",
       "       '38\\xa0000 € - 45\\xa0000 € par an', '36\\xa0731 € par an',\n",
       "       '55\\xa0000 € - 65\\xa0000 € par an', '200 € - 400 € par jour',\n",
       "       '200 € - 430 € par jour'], dtype=object)"
      ]
     },
     "execution_count": 542,
     "metadata": {},
     "output_type": "execute_result"
    }
   ],
   "source": [
    "pd.unique(df.salary)"
   ]
  },
  {
   "cell_type": "markdown",
   "metadata": {},
   "source": [
    "Most salaries are not fixed, but an interval is given \\\n",
    "To be able to compare salaries, we will replace it by the interval mean \\\n",
    "We will also convert monthly salaries to yearly"
   ]
  },
  {
   "cell_type": "markdown",
   "metadata": {},
   "source": [
    "#### From monthly to yearly "
   ]
  },
  {
   "cell_type": "code",
   "execution_count": 543,
   "metadata": {},
   "outputs": [],
   "source": [
    "# when salary is given per month, we want to calculate it by year\n",
    "month_salary_info = df.loc[df.salary.str.contains('par mois', case=False)].salary"
   ]
  },
  {
   "cell_type": "code",
   "execution_count": 544,
   "metadata": {},
   "outputs": [],
   "source": [
    "# takes a string and returns the same strings but only with characters that are numeric\n",
    "def get_numbers(value):\n",
    "    return ''.join([i for i in value if i.isnumeric()])"
   ]
  },
  {
   "cell_type": "code",
   "execution_count": 545,
   "metadata": {},
   "outputs": [],
   "source": [
    "def get_interval_mean(value):\n",
    "    # value is a string containing a salary interval, e.g. \"30 000 € - 40 000 €\"\n",
    "    \n",
    "    res = value.split('-')\n",
    "    first = int(get_numbers(res[0]))\n",
    "    last = int(get_numbers(res[1]))\n",
    "    return (first+last)/2"
   ]
  },
  {
   "cell_type": "code",
   "execution_count": 546,
   "metadata": {},
   "outputs": [],
   "source": [
    "def monthly_to_annual(value):\n",
    "    if '-' in value:\n",
    "        return str(get_interval_mean(value)*12)\n",
    "    else:  # salary is fixed\n",
    "        return str(int(get_numbers(value))*12)"
   ]
  },
  {
   "cell_type": "code",
   "execution_count": 547,
   "metadata": {},
   "outputs": [],
   "source": [
    "month_salary_info = month_salary_info.apply(monthly_to_annual)\n",
    "\n",
    "# replace in the dataframe\n",
    "df.loc[month_salary_info.index, \"salary\"] = month_salary_info"
   ]
  },
  {
   "cell_type": "code",
   "execution_count": 548,
   "metadata": {},
   "outputs": [
    {
     "name": "stdout",
     "output_type": "stream",
     "text": [
      "['-' '40\\xa0000 € par an' '33000' '36000' '38\\xa0000 € par an'\n",
      " '50\\xa0000 € - 60\\xa0000 € par an' '37584.0'\n",
      " '36\\xa0000 € - 38\\xa0000 € par an' '40\\xa0000 € - 55\\xa0000 € par an'\n",
      " '35\\xa0000 € - 40\\xa0000 € par an' '35\\xa0000 € - 38\\xa0000 € par an'\n",
      " '30\\xa0000 € - 40\\xa0000 € par an' '50\\xa0000 € - 80\\xa0000 € par an'\n",
      " '45\\xa0000 € - 55\\xa0000 € par an' '35\\xa0000 € - 45\\xa0000 € par an'\n",
      " '550 € - 600 € par jour' '40\\xa0000 € - 50\\xa0000 € par an' '43488'\n",
      " '60\\xa0000 € - 70\\xa0000 € par an' '39600'\n",
      " '38\\xa0000 € - 45\\xa0000 € par an' '36\\xa0731 € par an'\n",
      " '55\\xa0000 € - 65\\xa0000 € par an' '200 € - 400 € par jour'\n",
      " '200 € - 430 € par jour']\n"
     ]
    }
   ],
   "source": [
    "print(pd.unique(df.salary))"
   ]
  },
  {
   "cell_type": "markdown",
   "metadata": {},
   "source": [
    "#### Daily salary "
   ]
  },
  {
   "cell_type": "code",
   "execution_count": 549,
   "metadata": {},
   "outputs": [],
   "source": [
    "# when salary is daily, it is a freelance contract, that wasn't specified in the contract type variable\n",
    "# so we drop ir\n",
    "daily_indices = df.loc[df.salary.str.contains('par jour', case=False)].index\n",
    "df.drop(daily_indices, inplace=True)"
   ]
  },
  {
   "cell_type": "markdown",
   "metadata": {},
   "source": [
    "#### From interval to mean for the salaries that were given yearly"
   ]
  },
  {
   "cell_type": "code",
   "execution_count": 550,
   "metadata": {},
   "outputs": [],
   "source": [
    "# salaries that contain 'par an' have not been touched yet\n",
    "annual_to_clean = df.loc[df.salary.str.contains('par an', case=False)].salary"
   ]
  },
  {
   "cell_type": "code",
   "execution_count": 551,
   "metadata": {},
   "outputs": [],
   "source": [
    "def clean_annual_salary(value):\n",
    "\n",
    "    if '-' in value:  # salary is given as an interval\n",
    "        return str(get_interval_mean(value))\n",
    "    else:  # salary is fixed\n",
    "        return get_numbers(value)"
   ]
  },
  {
   "cell_type": "code",
   "execution_count": 552,
   "metadata": {},
   "outputs": [],
   "source": [
    "annual_to_clean = annual_to_clean.apply(clean_annual_salary)\n",
    "df.loc[annual_to_clean.index, 'salary'] = annual_to_clean"
   ]
  },
  {
   "cell_type": "markdown",
   "metadata": {},
   "source": [
    "### Job title "
   ]
  },
  {
   "cell_type": "code",
   "execution_count": null,
   "metadata": {},
   "outputs": [],
   "source": [
    "pd.unique(df.title)\n",
    "# offers to drop : \n",
    "# Senior\n",
    "# Principal\n",
    "# Docteur\n",
    "# PhD\n",
    "# Lead\n",
    "# freelance\n",
    "# apprenticeship\n",
    "# responsable\n",
    "# postdoctoral, chef de projet, directeur"
   ]
  },
  {
   "cell_type": "code",
   "execution_count": 554,
   "metadata": {},
   "outputs": [],
   "source": [
    "drop_titles =['senior', 'principal', 'docteur', 'phd', 'lead', 'freelance', 'apprenticeship',\n",
    "             'responsable', 'postdoctoral', 'chef de projet', 'directeur']\n",
    "\n",
    "pattern = '|'.join(drop_titles)\n",
    "\n",
    "drop_titles_indices = df.loc[df['title'].str.contains(pattern, case=False)].index\n",
    "df.drop(drop_titles_indices, inplace=True)"
   ]
  },
  {
   "cell_type": "markdown",
   "metadata": {},
   "source": [
    "### Clean the description "
   ]
  },
  {
   "cell_type": "code",
   "execution_count": 555,
   "metadata": {},
   "outputs": [],
   "source": [
    "def clean_description(value):\n",
    "    # value is a string containing description\n",
    "    \n",
    "    res = ' '.join(value.split('\\n'))\n",
    "    return res"
   ]
  },
  {
   "cell_type": "code",
   "execution_count": 556,
   "metadata": {},
   "outputs": [],
   "source": [
    "df['description_clean'] = df.description.apply(clean_description)"
   ]
  },
  {
   "cell_type": "markdown",
   "metadata": {},
   "source": [
    "### Skills"
   ]
  },
  {
   "cell_type": "markdown",
   "metadata": {},
   "source": [
    "Using the job description, we will build binary variables that will indicate for each skill if it is required for the job"
   ]
  },
  {
   "cell_type": "code",
   "execution_count": 557,
   "metadata": {},
   "outputs": [],
   "source": [
    "skills = ['bi', 'datavisualisation', 'statistique', 'machine learning', 'reporting', 'big data', 'cnn', 'knn',\n",
    "         'dashboard', 'anglais', 'apprentissage par renforcement', 'reinforcment learning', 'IA', 'deep learning',\n",
    "         \"traitement d'images\", 'agile', 'time series', 'séries temporelles', 'graph', 'supervisé', 'non supervisé',\n",
    "          \"reconnaissance d'images\", 'nlp', 'natural language processing', 'classification', 'optimisation',\n",
    "          'prédiction', 'elasticsearch', 'kibana', 'xgboost', 'données géographiques', 'ocr', 'bayesian', 'bayes',\n",
    "          'random forest', 'neural network', 'réseau de neurones', 'computer vision', 'a/b', 'data mining'\n",
    "         ]\n",
    "\n",
    "tools = ['r', 'python', 'julia', 'power bi', 'sql', 'tableau software', 'qlik', 'pack office', 'pandas',\n",
    "        'sas', 'scikit-learn', 'sklearn', 'tensorflow', 'keras', 'C++', 'git', 'airflow', 'mongodb', 'VBA', 'java',\n",
    "         'linux', 'scala', 'pytorch', 'keras', 'numpy', 'gensim', 'cloud', 'hadoop', 'pyspark', 'docker', 'aws',\n",
    "         'nosql', 'matlab', 'matplotlib', 'jupyter', 'shiny', 'knitr', 'caret', 'plotly', 'mlr', 'dplyr', 'dash'\n",
    "        ]"
   ]
  },
  {
   "cell_type": "code",
   "execution_count": 558,
   "metadata": {},
   "outputs": [],
   "source": [
    "# add a binary column per skill\n",
    "for i in range(len(skills)):\n",
    "    newvar = df.description_clean.str.contains(skills[i], case=False)\n",
    "    df[f'{skills[i]}'] = newvar"
   ]
  },
  {
   "cell_type": "code",
   "execution_count": 559,
   "metadata": {},
   "outputs": [],
   "source": [
    "# add a binary column per tool\n",
    "for i in range(len(tools)):\n",
    "    if tools[i]==\"C++\":\n",
    "        newvar = df.description_clean.str.contains(re.escape(tools[i]), case=False)\n",
    "    else:\n",
    "        newvar = df.description_clean.str.contains(tools[i], case=False)\n",
    "    df[f'{tools[i]}'] = newvar"
   ]
  },
  {
   "cell_type": "markdown",
   "metadata": {},
   "source": [
    "### Find sub groups of jobs (DS, DA...) "
   ]
  },
  {
   "cell_type": "code",
   "execution_count": 560,
   "metadata": {},
   "outputs": [],
   "source": [
    "job_cat = ['data scientist', 'data analyst', 'data engineer']\n",
    "# add a binary column per category\n",
    "for i in range(len(job_cat)):\n",
    "    newvar = df.title.str.contains(job_cat[i], case=False)\n",
    "    df[f'{job_cat[i]}'] = newvar"
   ]
  },
  {
   "cell_type": "markdown",
   "metadata": {},
   "source": [
    "### Degree level "
   ]
  },
  {
   "cell_type": "code",
   "execution_count": 573,
   "metadata": {},
   "outputs": [],
   "source": [
    "# we use regex to deal with accents etc\n",
    "degree_dict = {'master':2, '[ée]cole.*ing[ée]nieur':2, 'licence':1, 'DUT':1, 'bac[ ]*\\+4':2,\n",
    "              'bac[ ]*\\+5':2, 'bac[ ]*\\+3':1}"
   ]
  },
  {
   "cell_type": "code",
   "execution_count": 574,
   "metadata": {},
   "outputs": [],
   "source": [
    "# add the new column with entry 3 for each row, which will correspond to the value if no degree is specified\n",
    "df['degree_level'] = [3]*len(df)"
   ]
  },
  {
   "cell_type": "code",
   "execution_count": 575,
   "metadata": {},
   "outputs": [],
   "source": [
    "for key, value in degree_dict.items():\n",
    "    level_indices = df.loc[df.description_clean.str.contains(key, case=False)]  # description contains master for ex.\n",
    "    to_change = level_indices.loc[level_indices.degree_level > value].index  # we keep the lowest degree required\n",
    "    df.loc[to_change, 'degree_level'] = [value]*len(to_change)"
   ]
  },
  {
   "cell_type": "markdown",
   "metadata": {},
   "source": [
    "### Xp level "
   ]
  },
  {
   "cell_type": "code",
   "execution_count": 694,
   "metadata": {},
   "outputs": [],
   "source": [
    "xp_re = r\"\\b(un|une|deux|trois|quatre|cinq|six|sept|huit|neuf|dix|one|two|three|four|five|six|seven|eight|nine|ten|[0-9])[ ]*(ans|années|an|years|year)\\b\""
   ]
  },
  {
   "cell_type": "code",
   "execution_count": 695,
   "metadata": {},
   "outputs": [],
   "source": [
    "# flags : re.I make it case insensitive, re.M handles multiline\n",
    "# we select only the first column bc the second refers to the second capture group (ans, année)\n",
    "df['xp_level'] = df.description_clean.str.extract(xp_re, flags=re.I | re.M).iloc[:, 0]"
   ]
  },
  {
   "cell_type": "markdown",
   "metadata": {},
   "source": [
    "When experience is in letters we replace it by the corresponding figure"
   ]
  },
  {
   "cell_type": "code",
   "execution_count": 698,
   "metadata": {},
   "outputs": [],
   "source": [
    "nb_dict = {'un':1, 'deux':2, 'trois':3, 'quatre':4, 'cinq':5, 'six':6, 'sept':7, 'huit':8, 'neuf':9, 'dix':10,\n",
    "          'une':1, 'one':1, 'two':2, 'three':3, 'four':4, 'five':5, 'six':6, 'seven':7, 'eight':8, 'nine':9,\n",
    "          'ten':10}"
   ]
  },
  {
   "cell_type": "code",
   "execution_count": 703,
   "metadata": {},
   "outputs": [],
   "source": [
    "for key, value in nb_dict.items():\n",
    "    to_change = df.loc[df.xp_level == key].index\n",
    "    df.loc[to_change, 'xp_level'] = [value]*len(to_change)"
   ]
  },
  {
   "cell_type": "markdown",
   "metadata": {},
   "source": [
    "### English skills "
   ]
  },
  {
   "cell_type": "code",
   "execution_count": 664,
   "metadata": {},
   "outputs": [],
   "source": [
    "english_re = r'anglais|english'"
   ]
  },
  {
   "cell_type": "code",
   "execution_count": 665,
   "metadata": {},
   "outputs": [],
   "source": [
    "english_indices = df.loc[df.description_clean.str.contains(english_re, case=False)].index\n",
    "df['english_level'] = [0]*len(df)\n",
    "df.loc[english_indices, 'english_level'] = [1]*len(english_indices)"
   ]
  },
  {
   "cell_type": "markdown",
   "metadata": {},
   "source": [
    "### Add GPS coordinates"
   ]
  },
  {
   "cell_type": "code",
   "execution_count": 713,
   "metadata": {},
   "outputs": [],
   "source": [
    "# data from la poste\n",
    "cities = pd.read_csv('../data/villes_france.csv', sep=\";\")"
   ]
  },
  {
   "cell_type": "code",
   "execution_count": 741,
   "metadata": {},
   "outputs": [
    {
     "data": {
      "text/html": [
       "<div>\n",
       "<style scoped>\n",
       "    .dataframe tbody tr th:only-of-type {\n",
       "        vertical-align: middle;\n",
       "    }\n",
       "\n",
       "    .dataframe tbody tr th {\n",
       "        vertical-align: top;\n",
       "    }\n",
       "\n",
       "    .dataframe thead th {\n",
       "        text-align: right;\n",
       "    }\n",
       "</style>\n",
       "<table border=\"1\" class=\"dataframe\">\n",
       "  <thead>\n",
       "    <tr style=\"text-align: right;\">\n",
       "      <th></th>\n",
       "      <th>Code_commune_INSEE</th>\n",
       "      <th>Nom_commune</th>\n",
       "      <th>Code_postal</th>\n",
       "      <th>Libelle_acheminement</th>\n",
       "      <th>Ligne_5</th>\n",
       "      <th>coordonnees_gps</th>\n",
       "      <th>coord_split</th>\n",
       "      <th>long</th>\n",
       "      <th>lat</th>\n",
       "    </tr>\n",
       "  </thead>\n",
       "  <tbody>\n",
       "    <tr>\n",
       "      <th>0</th>\n",
       "      <td>38075</td>\n",
       "      <td>CHAPAREILLAN</td>\n",
       "      <td>38530</td>\n",
       "      <td>CHAPAREILLAN</td>\n",
       "      <td>NaN</td>\n",
       "      <td>45.461591172, 5.95800759236</td>\n",
       "      <td>[45.461591172, 5.95800759236]</td>\n",
       "      <td>45.461591172</td>\n",
       "      <td>5.95800759236</td>\n",
       "    </tr>\n",
       "    <tr>\n",
       "      <th>1</th>\n",
       "      <td>38081</td>\n",
       "      <td>CHARANTONNAY</td>\n",
       "      <td>38790</td>\n",
       "      <td>CHARANTONNAY</td>\n",
       "      <td>NaN</td>\n",
       "      <td>45.5380647102, 5.11609065065</td>\n",
       "      <td>[45.5380647102, 5.11609065065]</td>\n",
       "      <td>45.5380647102</td>\n",
       "      <td>5.11609065065</td>\n",
       "    </tr>\n",
       "    <tr>\n",
       "      <th>2</th>\n",
       "      <td>38085</td>\n",
       "      <td>CHARVIEU CHAVAGNEUX</td>\n",
       "      <td>38230</td>\n",
       "      <td>CHARVIEU CHAVAGNEUX</td>\n",
       "      <td>NaN</td>\n",
       "      <td>45.7398511068, 5.15111694568</td>\n",
       "      <td>[45.7398511068, 5.15111694568]</td>\n",
       "      <td>45.7398511068</td>\n",
       "      <td>5.15111694568</td>\n",
       "    </tr>\n",
       "    <tr>\n",
       "      <th>3</th>\n",
       "      <td>38089</td>\n",
       "      <td>CHASSIGNIEU</td>\n",
       "      <td>38730</td>\n",
       "      <td>CHASSIGNIEU</td>\n",
       "      <td>NaN</td>\n",
       "      <td>45.501095883, 5.51287218858</td>\n",
       "      <td>[45.501095883, 5.51287218858]</td>\n",
       "      <td>45.501095883</td>\n",
       "      <td>5.51287218858</td>\n",
       "    </tr>\n",
       "    <tr>\n",
       "      <th>4</th>\n",
       "      <td>38092</td>\n",
       "      <td>CHATELUS</td>\n",
       "      <td>38680</td>\n",
       "      <td>CHATELUS</td>\n",
       "      <td>NaN</td>\n",
       "      <td>45.0542328632, 5.38957416574</td>\n",
       "      <td>[45.0542328632, 5.38957416574]</td>\n",
       "      <td>45.0542328632</td>\n",
       "      <td>5.38957416574</td>\n",
       "    </tr>\n",
       "  </tbody>\n",
       "</table>\n",
       "</div>"
      ],
      "text/plain": [
       "  Code_commune_INSEE          Nom_commune  Code_postal Libelle_acheminement  \\\n",
       "0              38075         CHAPAREILLAN        38530         CHAPAREILLAN   \n",
       "1              38081         CHARANTONNAY        38790         CHARANTONNAY   \n",
       "2              38085  CHARVIEU CHAVAGNEUX        38230  CHARVIEU CHAVAGNEUX   \n",
       "3              38089          CHASSIGNIEU        38730          CHASSIGNIEU   \n",
       "4              38092             CHATELUS        38680             CHATELUS   \n",
       "\n",
       "  Ligne_5               coordonnees_gps                     coord_split  \\\n",
       "0     NaN   45.461591172, 5.95800759236   [45.461591172, 5.95800759236]   \n",
       "1     NaN  45.5380647102, 5.11609065065  [45.5380647102, 5.11609065065]   \n",
       "2     NaN  45.7398511068, 5.15111694568  [45.7398511068, 5.15111694568]   \n",
       "3     NaN   45.501095883, 5.51287218858   [45.501095883, 5.51287218858]   \n",
       "4     NaN  45.0542328632, 5.38957416574  [45.0542328632, 5.38957416574]   \n",
       "\n",
       "            long            lat  \n",
       "0   45.461591172  5.95800759236  \n",
       "1  45.5380647102  5.11609065065  \n",
       "2  45.7398511068  5.15111694568  \n",
       "3   45.501095883  5.51287218858  \n",
       "4  45.0542328632  5.38957416574  "
      ]
     },
     "execution_count": 741,
     "metadata": {},
     "output_type": "execute_result"
    }
   ],
   "source": [
    "cities.head()"
   ]
  },
  {
   "cell_type": "code",
   "execution_count": 739,
   "metadata": {},
   "outputs": [],
   "source": [
    "# coordinates are in the form '45.46, 5.95'\n",
    "# this line transform it to ['45,46', '5.95']\n",
    "cities['coord_split'] = cities.coordonnees_gps.str.split(', ')"
   ]
  },
  {
   "cell_type": "code",
   "execution_count": 747,
   "metadata": {},
   "outputs": [],
   "source": [
    "# this bloc creates one variable for longitude and another for latitude coordinate\n",
    "coord_df = cities[\"coord_split\"].apply(pd.Series)\n",
    "cities['long'] = coord_df.iloc[:,0].astype(float)\n",
    "cities['lat'] = coord_df.iloc[:,1].astype(float)"
   ]
  },
  {
   "cell_type": "code",
   "execution_count": 748,
   "metadata": {},
   "outputs": [],
   "source": [
    "cities.to_csv('../data/villes_france_clean.csv', index=False)"
   ]
  },
  {
   "cell_type": "code",
   "execution_count": 738,
   "metadata": {},
   "outputs": [
    {
     "data": {
      "text/html": [
       "<div>\n",
       "<style scoped>\n",
       "    .dataframe tbody tr th:only-of-type {\n",
       "        vertical-align: middle;\n",
       "    }\n",
       "\n",
       "    .dataframe tbody tr th {\n",
       "        vertical-align: top;\n",
       "    }\n",
       "\n",
       "    .dataframe thead th {\n",
       "        text-align: right;\n",
       "    }\n",
       "</style>\n",
       "<table border=\"1\" class=\"dataframe\">\n",
       "  <thead>\n",
       "    <tr style=\"text-align: right;\">\n",
       "      <th></th>\n",
       "      <th>title</th>\n",
       "      <th>company</th>\n",
       "      <th>city</th>\n",
       "      <th>contract_type</th>\n",
       "      <th>salary</th>\n",
       "      <th>description</th>\n",
       "      <th>city_letters</th>\n",
       "      <th>description_clean</th>\n",
       "      <th>bi</th>\n",
       "      <th>datavisualisation</th>\n",
       "      <th>...</th>\n",
       "      <th>plotly</th>\n",
       "      <th>mlr</th>\n",
       "      <th>dplyr</th>\n",
       "      <th>dash</th>\n",
       "      <th>data scientist</th>\n",
       "      <th>data analyst</th>\n",
       "      <th>data engineer</th>\n",
       "      <th>degree_level</th>\n",
       "      <th>english_level</th>\n",
       "      <th>xp_level</th>\n",
       "    </tr>\n",
       "  </thead>\n",
       "  <tbody>\n",
       "    <tr>\n",
       "      <th>272</th>\n",
       "      <td>Data Analyst - Pièces de rechange F/H</td>\n",
       "      <td>CLAAS France</td>\n",
       "      <td>28320 Ymeray</td>\n",
       "      <td>CDD</td>\n",
       "      <td>-</td>\n",
       "      <td>CLAAS est l’un des leaders mondiaux de la cons...</td>\n",
       "      <td>Ymeray</td>\n",
       "      <td>CLAAS est l’un des leaders mondiaux de la cons...</td>\n",
       "      <td>False</td>\n",
       "      <td>False</td>\n",
       "      <td>...</td>\n",
       "      <td>False</td>\n",
       "      <td>False</td>\n",
       "      <td>False</td>\n",
       "      <td>False</td>\n",
       "      <td>False</td>\n",
       "      <td>True</td>\n",
       "      <td>False</td>\n",
       "      <td>2</td>\n",
       "      <td>1</td>\n",
       "      <td>1</td>\n",
       "    </tr>\n",
       "    <tr>\n",
       "      <th>274</th>\n",
       "      <td>ANALYSTE DE DONNÉES (H/F)</td>\n",
       "      <td>Randstad Lyon</td>\n",
       "      <td>69007 Lyon 7e</td>\n",
       "      <td>Intérim</td>\n",
       "      <td>36731</td>\n",
       "      <td>Randstad vous ouvre toutes les portes de l'emp...</td>\n",
       "      <td>Lyon</td>\n",
       "      <td>Randstad vous ouvre toutes les portes de l'emp...</td>\n",
       "      <td>True</td>\n",
       "      <td>False</td>\n",
       "      <td>...</td>\n",
       "      <td>False</td>\n",
       "      <td>False</td>\n",
       "      <td>False</td>\n",
       "      <td>False</td>\n",
       "      <td>False</td>\n",
       "      <td>False</td>\n",
       "      <td>False</td>\n",
       "      <td>1</td>\n",
       "      <td>0</td>\n",
       "      <td>2</td>\n",
       "    </tr>\n",
       "    <tr>\n",
       "      <th>275</th>\n",
       "      <td>Marketing Data Analyst (H/F)</td>\n",
       "      <td>Human Solutions</td>\n",
       "      <td>92240 Malakoff</td>\n",
       "      <td>CDI</td>\n",
       "      <td>-</td>\n",
       "      <td>Notre client est le leader mondial de son sect...</td>\n",
       "      <td>Malakoff</td>\n",
       "      <td>Notre client est le leader mondial de son sect...</td>\n",
       "      <td>True</td>\n",
       "      <td>False</td>\n",
       "      <td>...</td>\n",
       "      <td>False</td>\n",
       "      <td>False</td>\n",
       "      <td>False</td>\n",
       "      <td>False</td>\n",
       "      <td>False</td>\n",
       "      <td>True</td>\n",
       "      <td>False</td>\n",
       "      <td>3</td>\n",
       "      <td>0</td>\n",
       "      <td>3</td>\n",
       "    </tr>\n",
       "    <tr>\n",
       "      <th>283</th>\n",
       "      <td>Data analyste / Audit interne</td>\n",
       "      <td>Radio France</td>\n",
       "      <td>75016 Paris 16e</td>\n",
       "      <td>CDI</td>\n",
       "      <td>-</td>\n",
       "      <td>La Direction Audit, Contrôle Internes et Ethiq...</td>\n",
       "      <td>Paris</td>\n",
       "      <td>La Direction Audit, Contrôle Internes et Ethiq...</td>\n",
       "      <td>True</td>\n",
       "      <td>False</td>\n",
       "      <td>...</td>\n",
       "      <td>False</td>\n",
       "      <td>False</td>\n",
       "      <td>False</td>\n",
       "      <td>False</td>\n",
       "      <td>False</td>\n",
       "      <td>True</td>\n",
       "      <td>False</td>\n",
       "      <td>3</td>\n",
       "      <td>0</td>\n",
       "      <td>NaN</td>\n",
       "    </tr>\n",
       "    <tr>\n",
       "      <th>284</th>\n",
       "      <td>Développeur UX Data Science H/F</td>\n",
       "      <td>DASSAULT SYSTEMES</td>\n",
       "      <td>75020 Paris 20e</td>\n",
       "      <td>CDI</td>\n",
       "      <td>-</td>\n",
       "      <td>Imaginez demain…\\n\\nAu sein de l'organisation ...</td>\n",
       "      <td>Paris</td>\n",
       "      <td>Imaginez demain…  Au sein de l'organisation NE...</td>\n",
       "      <td>False</td>\n",
       "      <td>False</td>\n",
       "      <td>...</td>\n",
       "      <td>False</td>\n",
       "      <td>False</td>\n",
       "      <td>False</td>\n",
       "      <td>False</td>\n",
       "      <td>False</td>\n",
       "      <td>False</td>\n",
       "      <td>False</td>\n",
       "      <td>3</td>\n",
       "      <td>0</td>\n",
       "      <td>NaN</td>\n",
       "    </tr>\n",
       "  </tbody>\n",
       "</table>\n",
       "<p>5 rows × 95 columns</p>\n",
       "</div>"
      ],
      "text/plain": [
       "                                     title            company  \\\n",
       "272  Data Analyst - Pièces de rechange F/H       CLAAS France   \n",
       "274              ANALYSTE DE DONNÉES (H/F)      Randstad Lyon   \n",
       "275           Marketing Data Analyst (H/F)    Human Solutions   \n",
       "283          Data analyste / Audit interne       Radio France   \n",
       "284        Développeur UX Data Science H/F  DASSAULT SYSTEMES   \n",
       "\n",
       "                city contract_type salary  \\\n",
       "272     28320 Ymeray           CDD      -   \n",
       "274    69007 Lyon 7e       Intérim  36731   \n",
       "275   92240 Malakoff           CDI      -   \n",
       "283  75016 Paris 16e           CDI      -   \n",
       "284  75020 Paris 20e           CDI      -   \n",
       "\n",
       "                                           description city_letters  \\\n",
       "272  CLAAS est l’un des leaders mondiaux de la cons...       Ymeray   \n",
       "274  Randstad vous ouvre toutes les portes de l'emp...         Lyon   \n",
       "275  Notre client est le leader mondial de son sect...     Malakoff   \n",
       "283  La Direction Audit, Contrôle Internes et Ethiq...        Paris   \n",
       "284  Imaginez demain…\\n\\nAu sein de l'organisation ...        Paris   \n",
       "\n",
       "                                     description_clean     bi  \\\n",
       "272  CLAAS est l’un des leaders mondiaux de la cons...  False   \n",
       "274  Randstad vous ouvre toutes les portes de l'emp...   True   \n",
       "275  Notre client est le leader mondial de son sect...   True   \n",
       "283  La Direction Audit, Contrôle Internes et Ethiq...   True   \n",
       "284  Imaginez demain…  Au sein de l'organisation NE...  False   \n",
       "\n",
       "     datavisualisation  ...  plotly    mlr  dplyr   dash  data scientist  \\\n",
       "272              False  ...   False  False  False  False           False   \n",
       "274              False  ...   False  False  False  False           False   \n",
       "275              False  ...   False  False  False  False           False   \n",
       "283              False  ...   False  False  False  False           False   \n",
       "284              False  ...   False  False  False  False           False   \n",
       "\n",
       "     data analyst  data engineer  degree_level  english_level  xp_level  \n",
       "272          True          False             2              1         1  \n",
       "274         False          False             1              0         2  \n",
       "275          True          False             3              0         3  \n",
       "283          True          False             3              0       NaN  \n",
       "284         False          False             3              0       NaN  \n",
       "\n",
       "[5 rows x 95 columns]"
      ]
     },
     "execution_count": 738,
     "metadata": {},
     "output_type": "execute_result"
    }
   ],
   "source": [
    "df.tail()"
   ]
  },
  {
   "cell_type": "code",
   "execution_count": 705,
   "metadata": {},
   "outputs": [],
   "source": [
    "df.to_csv('../data/clean_data.csv', index=False)"
   ]
  },
  {
   "cell_type": "code",
   "execution_count": 704,
   "metadata": {},
   "outputs": [
    {
     "data": {
      "application/vnd.plotly.v1+json": {
       "config": {
        "plotlyServerURL": "https://plot.ly"
       },
       "data": [
        {
         "alignmentgroup": "True",
         "hovertemplate": "xp_level=%{x}<br>title=%{y}<extra></extra>",
         "legendgroup": "",
         "marker": {
          "color": "#636efa",
          "pattern": {
           "shape": ""
          }
         },
         "name": "",
         "offsetgroup": "",
         "orientation": "v",
         "showlegend": false,
         "textposition": "auto",
         "type": "bar",
         "x": [
          2,
          3,
          5,
          "1",
          "2",
          "3",
          "4",
          "5",
          "7",
          "8"
         ],
         "xaxis": "x",
         "y": [
          2,
          2,
          1,
          6,
          18,
          36,
          4,
          17,
          1,
          1
         ],
         "yaxis": "y"
        }
       ],
       "layout": {
        "autosize": true,
        "barmode": "stack",
        "legend": {
         "tracegroupgap": 0
        },
        "margin": {
         "t": 60
        },
        "template": {
         "data": {
          "bar": [
           {
            "error_x": {
             "color": "#2a3f5f"
            },
            "error_y": {
             "color": "#2a3f5f"
            },
            "marker": {
             "line": {
              "color": "#E5ECF6",
              "width": 0.5
             },
             "pattern": {
              "fillmode": "overlay",
              "size": 10,
              "solidity": 0.2
             }
            },
            "type": "bar"
           }
          ],
          "barpolar": [
           {
            "marker": {
             "line": {
              "color": "#E5ECF6",
              "width": 0.5
             },
             "pattern": {
              "fillmode": "overlay",
              "size": 10,
              "solidity": 0.2
             }
            },
            "type": "barpolar"
           }
          ],
          "carpet": [
           {
            "aaxis": {
             "endlinecolor": "#2a3f5f",
             "gridcolor": "white",
             "linecolor": "white",
             "minorgridcolor": "white",
             "startlinecolor": "#2a3f5f"
            },
            "baxis": {
             "endlinecolor": "#2a3f5f",
             "gridcolor": "white",
             "linecolor": "white",
             "minorgridcolor": "white",
             "startlinecolor": "#2a3f5f"
            },
            "type": "carpet"
           }
          ],
          "choropleth": [
           {
            "colorbar": {
             "outlinewidth": 0,
             "ticks": ""
            },
            "type": "choropleth"
           }
          ],
          "contour": [
           {
            "colorbar": {
             "outlinewidth": 0,
             "ticks": ""
            },
            "colorscale": [
             [
              0,
              "#0d0887"
             ],
             [
              0.1111111111111111,
              "#46039f"
             ],
             [
              0.2222222222222222,
              "#7201a8"
             ],
             [
              0.3333333333333333,
              "#9c179e"
             ],
             [
              0.4444444444444444,
              "#bd3786"
             ],
             [
              0.5555555555555556,
              "#d8576b"
             ],
             [
              0.6666666666666666,
              "#ed7953"
             ],
             [
              0.7777777777777778,
              "#fb9f3a"
             ],
             [
              0.8888888888888888,
              "#fdca26"
             ],
             [
              1,
              "#f0f921"
             ]
            ],
            "type": "contour"
           }
          ],
          "contourcarpet": [
           {
            "colorbar": {
             "outlinewidth": 0,
             "ticks": ""
            },
            "type": "contourcarpet"
           }
          ],
          "heatmap": [
           {
            "colorbar": {
             "outlinewidth": 0,
             "ticks": ""
            },
            "colorscale": [
             [
              0,
              "#0d0887"
             ],
             [
              0.1111111111111111,
              "#46039f"
             ],
             [
              0.2222222222222222,
              "#7201a8"
             ],
             [
              0.3333333333333333,
              "#9c179e"
             ],
             [
              0.4444444444444444,
              "#bd3786"
             ],
             [
              0.5555555555555556,
              "#d8576b"
             ],
             [
              0.6666666666666666,
              "#ed7953"
             ],
             [
              0.7777777777777778,
              "#fb9f3a"
             ],
             [
              0.8888888888888888,
              "#fdca26"
             ],
             [
              1,
              "#f0f921"
             ]
            ],
            "type": "heatmap"
           }
          ],
          "heatmapgl": [
           {
            "colorbar": {
             "outlinewidth": 0,
             "ticks": ""
            },
            "colorscale": [
             [
              0,
              "#0d0887"
             ],
             [
              0.1111111111111111,
              "#46039f"
             ],
             [
              0.2222222222222222,
              "#7201a8"
             ],
             [
              0.3333333333333333,
              "#9c179e"
             ],
             [
              0.4444444444444444,
              "#bd3786"
             ],
             [
              0.5555555555555556,
              "#d8576b"
             ],
             [
              0.6666666666666666,
              "#ed7953"
             ],
             [
              0.7777777777777778,
              "#fb9f3a"
             ],
             [
              0.8888888888888888,
              "#fdca26"
             ],
             [
              1,
              "#f0f921"
             ]
            ],
            "type": "heatmapgl"
           }
          ],
          "histogram": [
           {
            "marker": {
             "pattern": {
              "fillmode": "overlay",
              "size": 10,
              "solidity": 0.2
             }
            },
            "type": "histogram"
           }
          ],
          "histogram2d": [
           {
            "colorbar": {
             "outlinewidth": 0,
             "ticks": ""
            },
            "colorscale": [
             [
              0,
              "#0d0887"
             ],
             [
              0.1111111111111111,
              "#46039f"
             ],
             [
              0.2222222222222222,
              "#7201a8"
             ],
             [
              0.3333333333333333,
              "#9c179e"
             ],
             [
              0.4444444444444444,
              "#bd3786"
             ],
             [
              0.5555555555555556,
              "#d8576b"
             ],
             [
              0.6666666666666666,
              "#ed7953"
             ],
             [
              0.7777777777777778,
              "#fb9f3a"
             ],
             [
              0.8888888888888888,
              "#fdca26"
             ],
             [
              1,
              "#f0f921"
             ]
            ],
            "type": "histogram2d"
           }
          ],
          "histogram2dcontour": [
           {
            "colorbar": {
             "outlinewidth": 0,
             "ticks": ""
            },
            "colorscale": [
             [
              0,
              "#0d0887"
             ],
             [
              0.1111111111111111,
              "#46039f"
             ],
             [
              0.2222222222222222,
              "#7201a8"
             ],
             [
              0.3333333333333333,
              "#9c179e"
             ],
             [
              0.4444444444444444,
              "#bd3786"
             ],
             [
              0.5555555555555556,
              "#d8576b"
             ],
             [
              0.6666666666666666,
              "#ed7953"
             ],
             [
              0.7777777777777778,
              "#fb9f3a"
             ],
             [
              0.8888888888888888,
              "#fdca26"
             ],
             [
              1,
              "#f0f921"
             ]
            ],
            "type": "histogram2dcontour"
           }
          ],
          "mesh3d": [
           {
            "colorbar": {
             "outlinewidth": 0,
             "ticks": ""
            },
            "type": "mesh3d"
           }
          ],
          "parcoords": [
           {
            "line": {
             "colorbar": {
              "outlinewidth": 0,
              "ticks": ""
             }
            },
            "type": "parcoords"
           }
          ],
          "pie": [
           {
            "automargin": true,
            "type": "pie"
           }
          ],
          "scatter": [
           {
            "marker": {
             "colorbar": {
              "outlinewidth": 0,
              "ticks": ""
             }
            },
            "type": "scatter"
           }
          ],
          "scatter3d": [
           {
            "line": {
             "colorbar": {
              "outlinewidth": 0,
              "ticks": ""
             }
            },
            "marker": {
             "colorbar": {
              "outlinewidth": 0,
              "ticks": ""
             }
            },
            "type": "scatter3d"
           }
          ],
          "scattercarpet": [
           {
            "marker": {
             "colorbar": {
              "outlinewidth": 0,
              "ticks": ""
             }
            },
            "type": "scattercarpet"
           }
          ],
          "scattergeo": [
           {
            "marker": {
             "colorbar": {
              "outlinewidth": 0,
              "ticks": ""
             }
            },
            "type": "scattergeo"
           }
          ],
          "scattergl": [
           {
            "marker": {
             "colorbar": {
              "outlinewidth": 0,
              "ticks": ""
             }
            },
            "type": "scattergl"
           }
          ],
          "scattermapbox": [
           {
            "marker": {
             "colorbar": {
              "outlinewidth": 0,
              "ticks": ""
             }
            },
            "type": "scattermapbox"
           }
          ],
          "scatterpolar": [
           {
            "marker": {
             "colorbar": {
              "outlinewidth": 0,
              "ticks": ""
             }
            },
            "type": "scatterpolar"
           }
          ],
          "scatterpolargl": [
           {
            "marker": {
             "colorbar": {
              "outlinewidth": 0,
              "ticks": ""
             }
            },
            "type": "scatterpolargl"
           }
          ],
          "scatterternary": [
           {
            "marker": {
             "colorbar": {
              "outlinewidth": 0,
              "ticks": ""
             }
            },
            "type": "scatterternary"
           }
          ],
          "surface": [
           {
            "colorbar": {
             "outlinewidth": 0,
             "ticks": ""
            },
            "colorscale": [
             [
              0,
              "#0d0887"
             ],
             [
              0.1111111111111111,
              "#46039f"
             ],
             [
              0.2222222222222222,
              "#7201a8"
             ],
             [
              0.3333333333333333,
              "#9c179e"
             ],
             [
              0.4444444444444444,
              "#bd3786"
             ],
             [
              0.5555555555555556,
              "#d8576b"
             ],
             [
              0.6666666666666666,
              "#ed7953"
             ],
             [
              0.7777777777777778,
              "#fb9f3a"
             ],
             [
              0.8888888888888888,
              "#fdca26"
             ],
             [
              1,
              "#f0f921"
             ]
            ],
            "type": "surface"
           }
          ],
          "table": [
           {
            "cells": {
             "fill": {
              "color": "#EBF0F8"
             },
             "line": {
              "color": "white"
             }
            },
            "header": {
             "fill": {
              "color": "#C8D4E3"
             },
             "line": {
              "color": "white"
             }
            },
            "type": "table"
           }
          ]
         },
         "layout": {
          "annotationdefaults": {
           "arrowcolor": "#2a3f5f",
           "arrowhead": 0,
           "arrowwidth": 1
          },
          "autotypenumbers": "strict",
          "coloraxis": {
           "colorbar": {
            "outlinewidth": 0,
            "ticks": ""
           }
          },
          "colorscale": {
           "diverging": [
            [
             0,
             "#8e0152"
            ],
            [
             0.1,
             "#c51b7d"
            ],
            [
             0.2,
             "#de77ae"
            ],
            [
             0.3,
             "#f1b6da"
            ],
            [
             0.4,
             "#fde0ef"
            ],
            [
             0.5,
             "#f7f7f7"
            ],
            [
             0.6,
             "#e6f5d0"
            ],
            [
             0.7,
             "#b8e186"
            ],
            [
             0.8,
             "#7fbc41"
            ],
            [
             0.9,
             "#4d9221"
            ],
            [
             1,
             "#276419"
            ]
           ],
           "sequential": [
            [
             0,
             "#0d0887"
            ],
            [
             0.1111111111111111,
             "#46039f"
            ],
            [
             0.2222222222222222,
             "#7201a8"
            ],
            [
             0.3333333333333333,
             "#9c179e"
            ],
            [
             0.4444444444444444,
             "#bd3786"
            ],
            [
             0.5555555555555556,
             "#d8576b"
            ],
            [
             0.6666666666666666,
             "#ed7953"
            ],
            [
             0.7777777777777778,
             "#fb9f3a"
            ],
            [
             0.8888888888888888,
             "#fdca26"
            ],
            [
             1,
             "#f0f921"
            ]
           ],
           "sequentialminus": [
            [
             0,
             "#0d0887"
            ],
            [
             0.1111111111111111,
             "#46039f"
            ],
            [
             0.2222222222222222,
             "#7201a8"
            ],
            [
             0.3333333333333333,
             "#9c179e"
            ],
            [
             0.4444444444444444,
             "#bd3786"
            ],
            [
             0.5555555555555556,
             "#d8576b"
            ],
            [
             0.6666666666666666,
             "#ed7953"
            ],
            [
             0.7777777777777778,
             "#fb9f3a"
            ],
            [
             0.8888888888888888,
             "#fdca26"
            ],
            [
             1,
             "#f0f921"
            ]
           ]
          },
          "colorway": [
           "#636efa",
           "#EF553B",
           "#00cc96",
           "#ab63fa",
           "#FFA15A",
           "#19d3f3",
           "#FF6692",
           "#B6E880",
           "#FF97FF",
           "#FECB52"
          ],
          "font": {
           "color": "#2a3f5f"
          },
          "geo": {
           "bgcolor": "white",
           "lakecolor": "white",
           "landcolor": "#E5ECF6",
           "showlakes": true,
           "showland": true,
           "subunitcolor": "white"
          },
          "hoverlabel": {
           "align": "left"
          },
          "hovermode": "closest",
          "mapbox": {
           "style": "light"
          },
          "paper_bgcolor": "white",
          "plot_bgcolor": "#E5ECF6",
          "polar": {
           "angularaxis": {
            "gridcolor": "white",
            "linecolor": "white",
            "ticks": ""
           },
           "bgcolor": "#E5ECF6",
           "radialaxis": {
            "gridcolor": "white",
            "linecolor": "white",
            "ticks": ""
           }
          },
          "scene": {
           "xaxis": {
            "backgroundcolor": "#E5ECF6",
            "gridcolor": "white",
            "gridwidth": 2,
            "linecolor": "white",
            "showbackground": true,
            "ticks": "",
            "zerolinecolor": "white"
           },
           "yaxis": {
            "backgroundcolor": "#E5ECF6",
            "gridcolor": "white",
            "gridwidth": 2,
            "linecolor": "white",
            "showbackground": true,
            "ticks": "",
            "zerolinecolor": "white"
           },
           "zaxis": {
            "backgroundcolor": "#E5ECF6",
            "gridcolor": "white",
            "gridwidth": 2,
            "linecolor": "white",
            "showbackground": true,
            "ticks": "",
            "zerolinecolor": "white"
           }
          },
          "shapedefaults": {
           "line": {
            "color": "#2a3f5f"
           }
          },
          "ternary": {
           "aaxis": {
            "gridcolor": "white",
            "linecolor": "white",
            "ticks": ""
           },
           "baxis": {
            "gridcolor": "white",
            "linecolor": "white",
            "ticks": ""
           },
           "bgcolor": "#E5ECF6",
           "caxis": {
            "gridcolor": "white",
            "linecolor": "white",
            "ticks": ""
           }
          },
          "title": {
           "x": 0.05
          },
          "xaxis": {
           "automargin": true,
           "gridcolor": "white",
           "linecolor": "white",
           "ticks": "",
           "title": {
            "standoff": 15
           },
           "zerolinecolor": "white",
           "zerolinewidth": 2
          },
          "yaxis": {
           "automargin": true,
           "gridcolor": "white",
           "linecolor": "white",
           "ticks": "",
           "title": {
            "standoff": 15
           },
           "zerolinecolor": "white",
           "zerolinewidth": 2
          }
         }
        },
        "xaxis": {
         "anchor": "y",
         "autorange": true,
         "domain": [
          0,
          1
         ],
         "range": [
          0.5,
          8.5
         ],
         "title": {
          "text": "xp_level"
         },
         "type": "linear"
        },
        "yaxis": {
         "anchor": "x",
         "autorange": true,
         "domain": [
          0,
          1
         ],
         "range": [
          0,
          40
         ],
         "title": {
          "text": "title"
         },
         "type": "linear"
        }
       }
      },
      "image/png": "[encoded data removed]",
      "text/html": [
       "<div>                            <div id=\"3f1bf389-3b38-44a0-93c1-1956466249cb\" class=\"plotly-graph-div\" style=\"height:525px; width:100%;\"></div>            <script type=\"text/javascript\">                require([\"plotly\"], function(Plotly) {                    window.PLOTLYENV=window.PLOTLYENV || {};                                    if (document.getElementById(\"3f1bf389-3b38-44a0-93c1-1956466249cb\")) {                    Plotly.newPlot(                        \"3f1bf389-3b38-44a0-93c1-1956466249cb\",                        [{\"alignmentgroup\":\"True\",\"hovertemplate\":\"xp_level=%{x}<br>title=%{y}<extra></extra>\",\"legendgroup\":\"\",\"marker\":{\"color\":\"#636efa\",\"pattern\":{\"shape\":\"\"}},\"name\":\"\",\"offsetgroup\":\"\",\"orientation\":\"v\",\"showlegend\":false,\"textposition\":\"auto\",\"type\":\"bar\",\"x\":[2,3,5,\"1\",\"2\",\"3\",\"4\",\"5\",\"7\",\"8\"],\"xaxis\":\"x\",\"y\":[2,2,1,6,18,36,4,17,1,1],\"yaxis\":\"y\"}],                        {\"barmode\":\"stack\",\"legend\":{\"tracegroupgap\":0},\"margin\":{\"t\":60},\"template\":{\"data\":{\"bar\":[{\"error_x\":{\"color\":\"#2a3f5f\"},\"error_y\":{\"color\":\"#2a3f5f\"},\"marker\":{\"line\":{\"color\":\"#E5ECF6\",\"width\":0.5},\"pattern\":{\"fillmode\":\"overlay\",\"size\":10,\"solidity\":0.2}},\"type\":\"bar\"}],\"barpolar\":[{\"marker\":{\"line\":{\"color\":\"#E5ECF6\",\"width\":0.5},\"pattern\":{\"fillmode\":\"overlay\",\"size\":10,\"solidity\":0.2}},\"type\":\"barpolar\"}],\"carpet\":[{\"aaxis\":{\"endlinecolor\":\"#2a3f5f\",\"gridcolor\":\"white\",\"linecolor\":\"white\",\"minorgridcolor\":\"white\",\"startlinecolor\":\"#2a3f5f\"},\"baxis\":{\"endlinecolor\":\"#2a3f5f\",\"gridcolor\":\"white\",\"linecolor\":\"white\",\"minorgridcolor\":\"white\",\"startlinecolor\":\"#2a3f5f\"},\"type\":\"carpet\"}],\"choropleth\":[{\"colorbar\":{\"outlinewidth\":0,\"ticks\":\"\"},\"type\":\"choropleth\"}],\"contour\":[{\"colorbar\":{\"outlinewidth\":0,\"ticks\":\"\"},\"colorscale\":[[0.0,\"#0d0887\"],[0.1111111111111111,\"#46039f\"],[0.2222222222222222,\"#7201a8\"],[0.3333333333333333,\"#9c179e\"],[0.4444444444444444,\"#bd3786\"],[0.5555555555555556,\"#d8576b\"],[0.6666666666666666,\"#ed7953\"],[0.7777777777777778,\"#fb9f3a\"],[0.8888888888888888,\"#fdca26\"],[1.0,\"#f0f921\"]],\"type\":\"contour\"}],\"contourcarpet\":[{\"colorbar\":{\"outlinewidth\":0,\"ticks\":\"\"},\"type\":\"contourcarpet\"}],\"heatmap\":[{\"colorbar\":{\"outlinewidth\":0,\"ticks\":\"\"},\"colorscale\":[[0.0,\"#0d0887\"],[0.1111111111111111,\"#46039f\"],[0.2222222222222222,\"#7201a8\"],[0.3333333333333333,\"#9c179e\"],[0.4444444444444444,\"#bd3786\"],[0.5555555555555556,\"#d8576b\"],[0.6666666666666666,\"#ed7953\"],[0.7777777777777778,\"#fb9f3a\"],[0.8888888888888888,\"#fdca26\"],[1.0,\"#f0f921\"]],\"type\":\"heatmap\"}],\"heatmapgl\":[{\"colorbar\":{\"outlinewidth\":0,\"ticks\":\"\"},\"colorscale\":[[0.0,\"#0d0887\"],[0.1111111111111111,\"#46039f\"],[0.2222222222222222,\"#7201a8\"],[0.3333333333333333,\"#9c179e\"],[0.4444444444444444,\"#bd3786\"],[0.5555555555555556,\"#d8576b\"],[0.6666666666666666,\"#ed7953\"],[0.7777777777777778,\"#fb9f3a\"],[0.8888888888888888,\"#fdca26\"],[1.0,\"#f0f921\"]],\"type\":\"heatmapgl\"}],\"histogram\":[{\"marker\":{\"pattern\":{\"fillmode\":\"overlay\",\"size\":10,\"solidity\":0.2}},\"type\":\"histogram\"}],\"histogram2d\":[{\"colorbar\":{\"outlinewidth\":0,\"ticks\":\"\"},\"colorscale\":[[0.0,\"#0d0887\"],[0.1111111111111111,\"#46039f\"],[0.2222222222222222,\"#7201a8\"],[0.3333333333333333,\"#9c179e\"],[0.4444444444444444,\"#bd3786\"],[0.5555555555555556,\"#d8576b\"],[0.6666666666666666,\"#ed7953\"],[0.7777777777777778,\"#fb9f3a\"],[0.8888888888888888,\"#fdca26\"],[1.0,\"#f0f921\"]],\"type\":\"histogram2d\"}],\"histogram2dcontour\":[{\"colorbar\":{\"outlinewidth\":0,\"ticks\":\"\"},\"colorscale\":[[0.0,\"#0d0887\"],[0.1111111111111111,\"#46039f\"],[0.2222222222222222,\"#7201a8\"],[0.3333333333333333,\"#9c179e\"],[0.4444444444444444,\"#bd3786\"],[0.5555555555555556,\"#d8576b\"],[0.6666666666666666,\"#ed7953\"],[0.7777777777777778,\"#fb9f3a\"],[0.8888888888888888,\"#fdca26\"],[1.0,\"#f0f921\"]],\"type\":\"histogram2dcontour\"}],\"mesh3d\":[{\"colorbar\":{\"outlinewidth\":0,\"ticks\":\"\"},\"type\":\"mesh3d\"}],\"parcoords\":[{\"line\":{\"colorbar\":{\"outlinewidth\":0,\"ticks\":\"\"}},\"type\":\"parcoords\"}],\"pie\":[{\"automargin\":true,\"type\":\"pie\"}],\"scatter\":[{\"marker\":{\"colorbar\":{\"outlinewidth\":0,\"ticks\":\"\"}},\"type\":\"scatter\"}],\"scatter3d\":[{\"line\":{\"colorbar\":{\"outlinewidth\":0,\"ticks\":\"\"}},\"marker\":{\"colorbar\":{\"outlinewidth\":0,\"ticks\":\"\"}},\"type\":\"scatter3d\"}],\"scattercarpet\":[{\"marker\":{\"colorbar\":{\"outlinewidth\":0,\"ticks\":\"\"}},\"type\":\"scattercarpet\"}],\"scattergeo\":[{\"marker\":{\"colorbar\":{\"outlinewidth\":0,\"ticks\":\"\"}},\"type\":\"scattergeo\"}],\"scattergl\":[{\"marker\":{\"colorbar\":{\"outlinewidth\":0,\"ticks\":\"\"}},\"type\":\"scattergl\"}],\"scattermapbox\":[{\"marker\":{\"colorbar\":{\"outlinewidth\":0,\"ticks\":\"\"}},\"type\":\"scattermapbox\"}],\"scatterpolar\":[{\"marker\":{\"colorbar\":{\"outlinewidth\":0,\"ticks\":\"\"}},\"type\":\"scatterpolar\"}],\"scatterpolargl\":[{\"marker\":{\"colorbar\":{\"outlinewidth\":0,\"ticks\":\"\"}},\"type\":\"scatterpolargl\"}],\"scatterternary\":[{\"marker\":{\"colorbar\":{\"outlinewidth\":0,\"ticks\":\"\"}},\"type\":\"scatterternary\"}],\"surface\":[{\"colorbar\":{\"outlinewidth\":0,\"ticks\":\"\"},\"colorscale\":[[0.0,\"#0d0887\"],[0.1111111111111111,\"#46039f\"],[0.2222222222222222,\"#7201a8\"],[0.3333333333333333,\"#9c179e\"],[0.4444444444444444,\"#bd3786\"],[0.5555555555555556,\"#d8576b\"],[0.6666666666666666,\"#ed7953\"],[0.7777777777777778,\"#fb9f3a\"],[0.8888888888888888,\"#fdca26\"],[1.0,\"#f0f921\"]],\"type\":\"surface\"}],\"table\":[{\"cells\":{\"fill\":{\"color\":\"#EBF0F8\"},\"line\":{\"color\":\"white\"}},\"header\":{\"fill\":{\"color\":\"#C8D4E3\"},\"line\":{\"color\":\"white\"}},\"type\":\"table\"}]},\"layout\":{\"annotationdefaults\":{\"arrowcolor\":\"#2a3f5f\",\"arrowhead\":0,\"arrowwidth\":1},\"autotypenumbers\":\"strict\",\"coloraxis\":{\"colorbar\":{\"outlinewidth\":0,\"ticks\":\"\"}},\"colorscale\":{\"diverging\":[[0,\"#8e0152\"],[0.1,\"#c51b7d\"],[0.2,\"#de77ae\"],[0.3,\"#f1b6da\"],[0.4,\"#fde0ef\"],[0.5,\"#f7f7f7\"],[0.6,\"#e6f5d0\"],[0.7,\"#b8e186\"],[0.8,\"#7fbc41\"],[0.9,\"#4d9221\"],[1,\"#276419\"]],\"sequential\":[[0.0,\"#0d0887\"],[0.1111111111111111,\"#46039f\"],[0.2222222222222222,\"#7201a8\"],[0.3333333333333333,\"#9c179e\"],[0.4444444444444444,\"#bd3786\"],[0.5555555555555556,\"#d8576b\"],[0.6666666666666666,\"#ed7953\"],[0.7777777777777778,\"#fb9f3a\"],[0.8888888888888888,\"#fdca26\"],[1.0,\"#f0f921\"]],\"sequentialminus\":[[0.0,\"#0d0887\"],[0.1111111111111111,\"#46039f\"],[0.2222222222222222,\"#7201a8\"],[0.3333333333333333,\"#9c179e\"],[0.4444444444444444,\"#bd3786\"],[0.5555555555555556,\"#d8576b\"],[0.6666666666666666,\"#ed7953\"],[0.7777777777777778,\"#fb9f3a\"],[0.8888888888888888,\"#fdca26\"],[1.0,\"#f0f921\"]]},\"colorway\":[\"#636efa\",\"#EF553B\",\"#00cc96\",\"#ab63fa\",\"#FFA15A\",\"#19d3f3\",\"#FF6692\",\"#B6E880\",\"#FF97FF\",\"#FECB52\"],\"font\":{\"color\":\"#2a3f5f\"},\"geo\":{\"bgcolor\":\"white\",\"lakecolor\":\"white\",\"landcolor\":\"#E5ECF6\",\"showlakes\":true,\"showland\":true,\"subunitcolor\":\"white\"},\"hoverlabel\":{\"align\":\"left\"},\"hovermode\":\"closest\",\"mapbox\":{\"style\":\"light\"},\"paper_bgcolor\":\"white\",\"plot_bgcolor\":\"#E5ECF6\",\"polar\":{\"angularaxis\":{\"gridcolor\":\"white\",\"linecolor\":\"white\",\"ticks\":\"\"},\"bgcolor\":\"#E5ECF6\",\"radialaxis\":{\"gridcolor\":\"white\",\"linecolor\":\"white\",\"ticks\":\"\"}},\"scene\":{\"xaxis\":{\"backgroundcolor\":\"#E5ECF6\",\"gridcolor\":\"white\",\"gridwidth\":2,\"linecolor\":\"white\",\"showbackground\":true,\"ticks\":\"\",\"zerolinecolor\":\"white\"},\"yaxis\":{\"backgroundcolor\":\"#E5ECF6\",\"gridcolor\":\"white\",\"gridwidth\":2,\"linecolor\":\"white\",\"showbackground\":true,\"ticks\":\"\",\"zerolinecolor\":\"white\"},\"zaxis\":{\"backgroundcolor\":\"#E5ECF6\",\"gridcolor\":\"white\",\"gridwidth\":2,\"linecolor\":\"white\",\"showbackground\":true,\"ticks\":\"\",\"zerolinecolor\":\"white\"}},\"shapedefaults\":{\"line\":{\"color\":\"#2a3f5f\"}},\"ternary\":{\"aaxis\":{\"gridcolor\":\"white\",\"linecolor\":\"white\",\"ticks\":\"\"},\"baxis\":{\"gridcolor\":\"white\",\"linecolor\":\"white\",\"ticks\":\"\"},\"bgcolor\":\"#E5ECF6\",\"caxis\":{\"gridcolor\":\"white\",\"linecolor\":\"white\",\"ticks\":\"\"}},\"title\":{\"x\":0.05},\"xaxis\":{\"automargin\":true,\"gridcolor\":\"white\",\"linecolor\":\"white\",\"ticks\":\"\",\"title\":{\"standoff\":15},\"zerolinecolor\":\"white\",\"zerolinewidth\":2},\"yaxis\":{\"automargin\":true,\"gridcolor\":\"white\",\"linecolor\":\"white\",\"ticks\":\"\",\"title\":{\"standoff\":15},\"zerolinecolor\":\"white\",\"zerolinewidth\":2}}},\"xaxis\":{\"anchor\":\"y\",\"domain\":[0.0,1.0],\"title\":{\"text\":\"xp_level\"}},\"yaxis\":{\"anchor\":\"x\",\"domain\":[0.0,1.0],\"title\":{\"text\":\"title\"}}},                        {\"responsive\": true}                    ).then(function(){\n",
       "                            \n",
       "var gd = document.getElementById('3f1bf389-3b38-44a0-93c1-1956466249cb');\n",
       "var x = new MutationObserver(function (mutations, observer) {{\n",
       "        var display = window.getComputedStyle(gd).display;\n",
       "        if (!display || display === 'none') {{\n",
       "            console.log([gd, 'removed!']);\n",
       "            Plotly.purge(gd);\n",
       "            observer.disconnect();\n",
       "        }}\n",
       "}});\n",
       "\n",
       "// Listen for the removal of the full notebook cells\n",
       "var notebookContainer = gd.closest('#notebook-container');\n",
       "if (notebookContainer) {{\n",
       "    x.observe(notebookContainer, {childList: true});\n",
       "}}\n",
       "\n",
       "// Listen for the clearing of the current output cell\n",
       "var outputEl = gd.closest('.output');\n",
       "if (outputEl) {{\n",
       "    x.observe(outputEl, {childList: true});\n",
       "}}\n",
       "\n",
       "                        })                };                });            </script>        </div>"
      ]
     },
     "metadata": {},
     "output_type": "display_data"
    }
   ],
   "source": [
    "dfg = df.groupby('xp_level').count().reset_index()\n",
    "# plot structure\n",
    "fig = px.bar(dfg,\n",
    "             x='xp_level',\n",
    "             y='title',\n",
    "             title='',\n",
    "             barmode='stack')\n",
    "\n",
    "# plot\n",
    "fig.show()"
   ]
  },
  {
   "cell_type": "code",
   "execution_count": null,
   "metadata": {},
   "outputs": [],
   "source": []
  }
 ],
 "metadata": {
  "kernelspec": {
   "display_name": "Python 3",
   "language": "python",
   "name": "python3"
  },
  "language_info": {
   "codemirror_mode": {
    "name": "ipython",
    "version": 3
   },
   "file_extension": ".py",
   "mimetype": "text/x-python",
   "name": "python",
   "nbconvert_exporter": "python",
   "pygments_lexer": "ipython3",
   "version": "3.8.5"
  }
 },
 "nbformat": 4,
 "nbformat_minor": 4
}
