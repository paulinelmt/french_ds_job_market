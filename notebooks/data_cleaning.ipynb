{
 "cells": [
  {
   "cell_type": "code",
   "execution_count": 183,
   "metadata": {},
   "outputs": [],
   "source": [
    "import pandas as pd\n",
    "import plotly.express as px\n",
    "import numpy as np\n",
    "import re"
   ]
  },
  {
   "cell_type": "code",
   "execution_count": 322,
   "metadata": {},
   "outputs": [],
   "source": [
    "df = pd.read_csv('../data/raw_data.csv')"
   ]
  },
  {
   "cell_type": "code",
   "execution_count": 323,
   "metadata": {},
   "outputs": [
    {
     "data": {
      "text/plain": [
       "370"
      ]
     },
     "execution_count": 323,
     "metadata": {},
     "output_type": "execute_result"
    }
   ],
   "source": [
    "len(df)  # 370 rows supposed to correspond to a job"
   ]
  },
  {
   "cell_type": "code",
   "execution_count": 324,
   "metadata": {},
   "outputs": [
    {
     "data": {
      "text/plain": [
       "236"
      ]
     },
     "execution_count": 324,
     "metadata": {},
     "output_type": "execute_result"
    }
   ],
   "source": [
    "len(pd.unique(df.description))  # only 236 unique job descriptions so there must be duplicates in the data"
   ]
  },
  {
   "cell_type": "markdown",
   "metadata": {},
   "source": [
    "### Deletion of duplicates "
   ]
  },
  {
   "cell_type": "code",
   "execution_count": 325,
   "metadata": {},
   "outputs": [
    {
     "data": {
      "text/plain": [
       "133"
      ]
     },
     "execution_count": 325,
     "metadata": {},
     "output_type": "execute_result"
    }
   ],
   "source": [
    "# Find a duplicate rows\n",
    "duplicateDFRow = df[df.duplicated()]\n",
    "len(duplicateDFRow)  # there are 133 duplicated in the data"
   ]
  },
  {
   "cell_type": "code",
   "execution_count": 326,
   "metadata": {},
   "outputs": [
    {
     "data": {
      "text/plain": [
       "237"
      ]
     },
     "execution_count": 326,
     "metadata": {},
     "output_type": "execute_result"
    }
   ],
   "source": [
    "df.drop(duplicateDFRow.index, inplace=True)\n",
    "len(df)"
   ]
  },
  {
   "cell_type": "code",
   "execution_count": 327,
   "metadata": {},
   "outputs": [
    {
     "data": {
      "text/html": [
       "<div>\n",
       "<style scoped>\n",
       "    .dataframe tbody tr th:only-of-type {\n",
       "        vertical-align: middle;\n",
       "    }\n",
       "\n",
       "    .dataframe tbody tr th {\n",
       "        vertical-align: top;\n",
       "    }\n",
       "\n",
       "    .dataframe thead th {\n",
       "        text-align: right;\n",
       "    }\n",
       "</style>\n",
       "<table border=\"1\" class=\"dataframe\">\n",
       "  <thead>\n",
       "    <tr style=\"text-align: right;\">\n",
       "      <th></th>\n",
       "      <th>title</th>\n",
       "      <th>company</th>\n",
       "      <th>city</th>\n",
       "      <th>contract_type</th>\n",
       "      <th>salary</th>\n",
       "      <th>description</th>\n",
       "    </tr>\n",
       "  </thead>\n",
       "  <tbody>\n",
       "    <tr>\n",
       "      <th>0</th>\n",
       "      <td>Data Scientist F/H</td>\n",
       "      <td>Malakoff Humanis</td>\n",
       "      <td>Paris (75)</td>\n",
       "      <td>CDI</td>\n",
       "      <td>-</td>\n",
       "      <td>Société\\n\\nASSOCIATION DE MOYENS ASSURANCE DE ...</td>\n",
       "    </tr>\n",
       "    <tr>\n",
       "      <th>1</th>\n",
       "      <td>Data Scientist H/F</td>\n",
       "      <td>Atos</td>\n",
       "      <td>Montpellier (34)</td>\n",
       "      <td>-</td>\n",
       "      <td>-</td>\n",
       "      <td>À propos d’Atos\\n\\nAtos est un leader internat...</td>\n",
       "    </tr>\n",
       "    <tr>\n",
       "      <th>2</th>\n",
       "      <td>Data Analyst Marketing</td>\n",
       "      <td>Talent Partners</td>\n",
       "      <td>34000 Montpellier</td>\n",
       "      <td>-  Temps plein, CDI</td>\n",
       "      <td>40 000 € par an</td>\n",
       "      <td>NOTRE CLIENT EN QUELQUES MOTS✲ Secteur de l'IT...</td>\n",
       "    </tr>\n",
       "    <tr>\n",
       "      <th>3</th>\n",
       "      <td>Data Scientist - COPERNEEC</td>\n",
       "      <td>Coperneec</td>\n",
       "      <td>Paris (75)</td>\n",
       "      <td>-</td>\n",
       "      <td>-</td>\n",
       "      <td>Data Scientist - COPERNEEC\\nA propos de Copern...</td>\n",
       "    </tr>\n",
       "    <tr>\n",
       "      <th>4</th>\n",
       "      <td>Data Scientist</td>\n",
       "      <td>Avisto</td>\n",
       "      <td>06220 Vallauris</td>\n",
       "      <td>Temps plein, CDI</td>\n",
       "      <td>-</td>\n",
       "      <td>Dans le cadre de nos activités, vous serez ame...</td>\n",
       "    </tr>\n",
       "  </tbody>\n",
       "</table>\n",
       "</div>"
      ],
      "text/plain": [
       "                        title           company               city  \\\n",
       "0          Data Scientist F/H  Malakoff Humanis         Paris (75)   \n",
       "1          Data Scientist H/F              Atos   Montpellier (34)   \n",
       "2      Data Analyst Marketing   Talent Partners  34000 Montpellier   \n",
       "3  Data Scientist - COPERNEEC         Coperneec         Paris (75)   \n",
       "4              Data Scientist            Avisto    06220 Vallauris   \n",
       "\n",
       "          contract_type           salary  \\\n",
       "0                   CDI                -   \n",
       "1                     -                -   \n",
       "2   -  Temps plein, CDI  40 000 € par an   \n",
       "3                     -                -   \n",
       "4      Temps plein, CDI                -   \n",
       "\n",
       "                                         description  \n",
       "0  Société\\n\\nASSOCIATION DE MOYENS ASSURANCE DE ...  \n",
       "1  À propos d’Atos\\n\\nAtos est un leader internat...  \n",
       "2  NOTRE CLIENT EN QUELQUES MOTS✲ Secteur de l'IT...  \n",
       "3  Data Scientist - COPERNEEC\\nA propos de Copern...  \n",
       "4  Dans le cadre de nos activités, vous serez ame...  "
      ]
     },
     "execution_count": 327,
     "metadata": {},
     "output_type": "execute_result"
    }
   ],
   "source": [
    "df.head()"
   ]
  },
  {
   "cell_type": "markdown",
   "metadata": {},
   "source": [
    "### City "
   ]
  },
  {
   "cell_type": "code",
   "execution_count": 328,
   "metadata": {},
   "outputs": [
    {
     "data": {
      "text/plain": [
       "array(['Paris (75)', 'Montpellier (34)', '34000 Montpellier',\n",
       "       '06220 Vallauris', 'Rennes (35)', '47000 Agen', '94300 Vincennes',\n",
       "       '13590 Meyreuil', 'Paris 15e (75)', 'Saint-Malo (35)',\n",
       "       'Villeurbanne (69)', 'La Défense (92)', '75116 Paris 16e',\n",
       "       'Clichy (92)', 'Rungis (94)', 'Guyancourt (78)',\n",
       "       'Neuilly-sur-Seine (92)', 'Eu (76)', '17000 La Rochelle',\n",
       "       '92400 Courbevoie', 'Amiens (80)', '92300 Levallois-Perret',\n",
       "       '75013 Paris 13e', 'Magny-les-Hameaux (78)', '91940 Les Ulis',\n",
       "       '44000 Nantes', 'Toulouse (31)', '06560 Valbonne',\n",
       "       'Courbevoie (92)', '87000 Limoges', 'Tourcoing (59)',\n",
       "       '92800 Puteaux', 'Lyon (69)', 'Télétravail', 'Gennevilliers (92)',\n",
       "       'Nantes (44)', 'Paris 14e (75)', 'Paris 13e (75)', 'Meudon (92)',\n",
       "       'Bordeaux (33)', '14000 Caen', '34095 Montpellier',\n",
       "       'Aix-en-Provence (13)', '92210 Saint-Cloud',\n",
       "       'Fontenay-sous-Bois (94)', '74650 Chavanod', 'Paris 2e (75)',\n",
       "       'Clermont-Ferrand (63)', 'Nanterre (92)', \"Marcy-l'Étoile (69)\",\n",
       "       'Paris 3e (75)', 'Saint-Maurice (94)', '31300 Toulouse',\n",
       "       'Issy-les-Moulineaux (92)', 'Paris 16e (75)', 'Bondoufle (91)',\n",
       "       'Caen (14)', '92360 Meudon', 'Lyon 1er (69)', 'Paris 8e (75)',\n",
       "       '94811 Villejuif', 'Châtellerault (86)', 'Lyon 3e (69)',\n",
       "       'Grenoble (38)', 'Brétigny-sur-Orge (91)', 'Maisons-Alfort (94)',\n",
       "       '75014 Paris 14e', 'Villeneuve-la-Garenne (92)', '75012 Paris 12e',\n",
       "       '94410 Saint-Maurice', 'Illkirch-Graffenstaden (67)', 'Tours (37)',\n",
       "       'Bayonne (64)', '74000 Annecy', '92220 Bagneux',\n",
       "       'Montbéliard (25)', 'Marseille 1er (13)', 'Strasbourg (67)',\n",
       "       '13090 Aix-en-Provence', '75010 Paris 10e', 'Lille (59)',\n",
       "       '75011 Paris', 'Paris 9e (75)', 'Boulogne-Billancourt (92)',\n",
       "       '92100 Boulogne-Billancourt', '59800 Lille', '78533 Buc',\n",
       "       'Saint-Sauveur (31)', '45140 Ormes', 'Viroflay (78)',\n",
       "       'Saclay (91)', 'Marseille (13)', '91300 Massy',\n",
       "       '92350 Le Plessis-Robinson', '59700 Marcq-en-Barœul',\n",
       "       '75007 Paris 7e', 'Chambéry (73)', 'Nogent-sur-Marne (94)',\n",
       "       'Saint-Denis (RE)', 'Marseille 2e (13)', 'Île-de-France',\n",
       "       '75008 Paris 8e', 'Lezennes (59)', 'Paris 1er (75)', 'Olivet (45)',\n",
       "       'Paris 12e (75)', 'Valenciennes (59)', 'Levallois-Perret (92)',\n",
       "       '75009 Paris 9e', '13100 Aix-en-Provence', '91191 Gif-sur-Yvette',\n",
       "       '31790 Saint-Sauveur', 'Troyes (10)', 'Roncq (59)', '17440 Aytré',\n",
       "       '75004 Paris 4e', '28320 Ymeray', '69007 Lyon 7e',\n",
       "       '92240 Malakoff', 'Bois-Colombes (92)', '75016 Paris 16e',\n",
       "       '75020 Paris 20e'], dtype=object)"
      ]
     },
     "execution_count": 328,
     "metadata": {},
     "output_type": "execute_result"
    }
   ],
   "source": [
    "pd.unique(df.city)"
   ]
  },
  {
   "cell_type": "markdown",
   "metadata": {},
   "source": [
    "We want to clean the city variable by removing the postal code data and keeping only the city name \\\n",
    "We do this by keeping only the characters that are letters or - sign"
   ]
  },
  {
   "cell_type": "code",
   "execution_count": 329,
   "metadata": {},
   "outputs": [],
   "source": [
    "# takes a string and returns the same strings but only with characters that are letters (or - sign)\n",
    "def get_letters(value):\n",
    "    return ''.join([i for i in value if (i.isalpha()) | (i=='-') | (i==' ') | (i==\"'\")])"
   ]
  },
  {
   "cell_type": "code",
   "execution_count": 330,
   "metadata": {},
   "outputs": [],
   "source": [
    "#clean the city variable, by removing the postal codes or parentheses\n",
    "df['city_letters'] = df.city.apply(get_letters)"
   ]
  },
  {
   "cell_type": "code",
   "execution_count": 331,
   "metadata": {},
   "outputs": [
    {
     "data": {
      "text/plain": [
       "array(['Paris ', 'Montpellier ', ' Montpellier', ' Vallauris', 'Rennes ',\n",
       "       ' Agen', ' Vincennes', ' Meyreuil', 'Paris e ', 'Saint-Malo ',\n",
       "       'Villeurbanne ', 'La Défense ', ' Paris e', 'Clichy ', 'Rungis ',\n",
       "       'Guyancourt ', 'Neuilly-sur-Seine ', 'Eu ', ' La Rochelle',\n",
       "       ' Courbevoie', 'Amiens ', ' Levallois-Perret',\n",
       "       'Magny-les-Hameaux ', ' Les Ulis', ' Nantes', 'Toulouse ',\n",
       "       ' Valbonne', 'Courbevoie ', ' Limoges', 'Tourcoing ', ' Puteaux',\n",
       "       'Lyon ', 'Télétravail', 'Gennevilliers ', 'Nantes ', 'Meudon ',\n",
       "       'Bordeaux ', ' Caen', 'Aix-en-Provence ', ' Saint-Cloud',\n",
       "       'Fontenay-sous-Bois ', ' Chavanod', 'Clermont-Ferrand ',\n",
       "       'Nanterre ', \"Marcy-l'Étoile \", 'Saint-Maurice ', ' Toulouse',\n",
       "       'Issy-les-Moulineaux ', 'Bondoufle ', 'Caen ', ' Meudon',\n",
       "       'Lyon er ', ' Villejuif', 'Châtellerault ', 'Lyon e ', 'Grenoble ',\n",
       "       'Brétigny-sur-Orge ', 'Maisons-Alfort ', 'Villeneuve-la-Garenne ',\n",
       "       ' Saint-Maurice', 'Illkirch-Graffenstaden ', 'Tours ', 'Bayonne ',\n",
       "       ' Annecy', ' Bagneux', 'Montbéliard ', 'Marseille er ',\n",
       "       'Strasbourg ', ' Aix-en-Provence', 'Lille ', ' Paris',\n",
       "       'Boulogne-Billancourt ', ' Boulogne-Billancourt', ' Lille', ' Buc',\n",
       "       'Saint-Sauveur ', ' Ormes', 'Viroflay ', 'Saclay ', 'Marseille ',\n",
       "       ' Massy', ' Le Plessis-Robinson', ' Marcq-en-Barœul', 'Chambéry ',\n",
       "       'Nogent-sur-Marne ', 'Saint-Denis RE', 'Marseille e ',\n",
       "       'Île-de-France', 'Lezennes ', 'Paris er ', 'Olivet ',\n",
       "       'Valenciennes ', 'Levallois-Perret ', ' Gif-sur-Yvette',\n",
       "       ' Saint-Sauveur', 'Troyes ', 'Roncq ', ' Aytré', ' Ymeray',\n",
       "       ' Lyon e', ' Malakoff', 'Bois-Colombes '], dtype=object)"
      ]
     },
     "execution_count": 331,
     "metadata": {},
     "output_type": "execute_result"
    }
   ],
   "source": [
    "pd.unique(df.city_letters)"
   ]
  },
  {
   "cell_type": "markdown",
   "metadata": {},
   "source": [
    "With cities with districts, we lost this information but letters can still be in the city name \\\n",
    "For these cities, we fix it by replacing by the name of the city when it's found in the variable"
   ]
  },
  {
   "cell_type": "code",
   "execution_count": 332,
   "metadata": {},
   "outputs": [],
   "source": [
    "# Paris\n",
    "paris_indices = df.loc[df.city_letters.str.contains('Paris', case=False)].index\n",
    "df.loc[paris_indices, \"city_letters\"] = [\"Paris\"]*len(paris_indices)\n",
    "\n",
    "# Marseille\n",
    "marseille_indices = df.loc[df.city_letters.str.contains('Marseille', case=False)].index\n",
    "df.loc[marseille_indices, \"city_letters\"] = [\"Marseille\"]*len(marseille_indices)\n",
    "\n",
    "# Lyon\n",
    "lyon_indices = df.loc[df.city_letters.str.contains('Lyon', case=False)].index\n",
    "df.loc[lyon_indices, 'city_letters'] = [\"Lyon\"]*len(lyon_indices)"
   ]
  },
  {
   "cell_type": "code",
   "execution_count": 333,
   "metadata": {},
   "outputs": [],
   "source": [
    "# city that starts or ends with a space --> we remove this space\n",
    "# ^\\s for start\n",
    "# \\s$ for end with a space\n",
    "df.city_letters.replace('^\\s','',regex=True, inplace = True)\n",
    "df.city_letters.replace('\\s$', '', regex=True, inplace=True)"
   ]
  },
  {
   "cell_type": "markdown",
   "metadata": {},
   "source": [
    "### Contract type "
   ]
  },
  {
   "cell_type": "code",
   "execution_count": 334,
   "metadata": {},
   "outputs": [
    {
     "data": {
      "text/plain": [
       "array(['CDI', '-', ' -  Temps plein, CDI', 'Temps plein, CDI',\n",
       "       'Apprentissage, Contrat pro', 'Stage', 'CDD', 'CDD, CDI',\n",
       "       'Temps plein, Stage', 'Temps partiel',\n",
       "       'Temps plein, Temps partiel', ' -  Temps plein, CDD',\n",
       "       'Freelance / Indépendant', 'Temps plein, CDD', ' -  CDI',\n",
       "       ' -  Intérim', 'Temps plein, Intérim', 'Intérim'], dtype=object)"
      ]
     },
     "execution_count": 334,
     "metadata": {},
     "output_type": "execute_result"
    }
   ],
   "source": [
    "pd.unique(df.contract_type)"
   ]
  },
  {
   "cell_type": "markdown",
   "metadata": {},
   "source": [
    "#### CDI "
   ]
  },
  {
   "cell_type": "code",
   "execution_count": 335,
   "metadata": {},
   "outputs": [],
   "source": [
    "cdi_indices = df.loc[df['contract_type'].str.contains(\"CDI\", case=False)].index\n",
    "df.loc[cdi_indices, \"contract_type\"] = [\"CDI\"]*len(cdi_indices)"
   ]
  },
  {
   "cell_type": "markdown",
   "metadata": {},
   "source": [
    "#### Apprentissage"
   ]
  },
  {
   "cell_type": "code",
   "execution_count": 336,
   "metadata": {},
   "outputs": [],
   "source": [
    "student_indices = df.loc[(df['contract_type'].str.contains(\"Apprentissage\", case=False)) | df.contract_type.str.contains(\"Stage\", case=False)].index\n",
    "df.drop(student_indices, inplace=True)  # we are not interested in this type of contract, 34 rowd"
   ]
  },
  {
   "cell_type": "markdown",
   "metadata": {},
   "source": [
    "#### Intérim"
   ]
  },
  {
   "cell_type": "code",
   "execution_count": 337,
   "metadata": {},
   "outputs": [],
   "source": [
    "interim_indices = df.loc[df['contract_type'].str.contains(\"Intérim\", case=False)].index\n",
    "df.loc[interim_indices, \"contract_type\"] = [\"Intérim\"]*len(interim_indices)"
   ]
  },
  {
   "cell_type": "code",
   "execution_count": 338,
   "metadata": {},
   "outputs": [
    {
     "data": {
      "text/plain": [
       "array(['CDI', '-', 'CDD', 'Temps partiel', 'Temps plein, Temps partiel',\n",
       "       ' -  Temps plein, CDD', 'Freelance / Indépendant',\n",
       "       'Temps plein, CDD', 'Intérim'], dtype=object)"
      ]
     },
     "execution_count": 338,
     "metadata": {},
     "output_type": "execute_result"
    }
   ],
   "source": [
    "pd.unique(df.contract_type)"
   ]
  },
  {
   "cell_type": "markdown",
   "metadata": {},
   "source": [
    "#### CDD"
   ]
  },
  {
   "cell_type": "code",
   "execution_count": 339,
   "metadata": {},
   "outputs": [],
   "source": [
    "cdd_indices = df.loc[df['contract_type'].str.contains(\"CDD\", case=False)].index\n",
    "df.loc[cdd_indices, 'contract_type'] = [\"CDD\"]*len(cdd_indices)"
   ]
  },
  {
   "cell_type": "code",
   "execution_count": 340,
   "metadata": {},
   "outputs": [],
   "source": [
    "# lines where it's not specified will be represented with '-'\n",
    "unspec_indices = df.loc[df.contract_type.str.contains(\"Temps partiel\", case=False)].index\n",
    "df.loc[unspec_indices, 'contract_type'] = [\"-\"]*len(unspec_indices)"
   ]
  },
  {
   "cell_type": "markdown",
   "metadata": {},
   "source": [
    "#### Freelance "
   ]
  },
  {
   "cell_type": "code",
   "execution_count": 341,
   "metadata": {},
   "outputs": [],
   "source": [
    "# as I'm searching for a first job, I am not looking at freelandce opportunities\n",
    "freelance_indices = df.loc[df.contract_type.str.contains(\"Freelance\", case=False)].index\n",
    "df.drop(freelance_indices, inplace=True)"
   ]
  },
  {
   "cell_type": "markdown",
   "metadata": {},
   "source": [
    "### Salary "
   ]
  },
  {
   "cell_type": "code",
   "execution_count": 342,
   "metadata": {},
   "outputs": [
    {
     "data": {
      "text/plain": [
       "array(['-', '40\\xa0000 € par an', '2\\xa0750 € par mois',\n",
       "       '3\\xa0000 € par mois', '38\\xa0000 € par an',\n",
       "       '50\\xa0000 € - 60\\xa0000 € par an',\n",
       "       '2\\xa0053 € - 4\\xa0211 € par mois',\n",
       "       '36\\xa0000 € - 38\\xa0000 € par an',\n",
       "       '40\\xa0000 € - 55\\xa0000 € par an',\n",
       "       '35\\xa0000 € - 40\\xa0000 € par an',\n",
       "       '35\\xa0000 € - 38\\xa0000 € par an',\n",
       "       '30\\xa0000 € - 40\\xa0000 € par an',\n",
       "       '50\\xa0000 € - 80\\xa0000 € par an',\n",
       "       '45\\xa0000 € - 55\\xa0000 € par an',\n",
       "       '35\\xa0000 € - 45\\xa0000 € par an', '550 € - 600 € par jour',\n",
       "       '40\\xa0000 € - 50\\xa0000 € par an', '3\\xa0624 € par mois',\n",
       "       '60\\xa0000 € - 70\\xa0000 € par an', '3\\xa0300 € par mois',\n",
       "       '38\\xa0000 € - 45\\xa0000 € par an', '36\\xa0731 € par an',\n",
       "       '55\\xa0000 € - 65\\xa0000 € par an', '200 € - 400 € par jour',\n",
       "       '200 € - 430 € par jour'], dtype=object)"
      ]
     },
     "execution_count": 342,
     "metadata": {},
     "output_type": "execute_result"
    }
   ],
   "source": [
    "pd.unique(df.salary)"
   ]
  },
  {
   "cell_type": "markdown",
   "metadata": {},
   "source": [
    "Most salaries are not fixed, but an interval is given \\\n",
    "To be able to compare salaries, we will replace it by the interval mean \\\n",
    "We will also convert monthly salaries to yearly"
   ]
  },
  {
   "cell_type": "markdown",
   "metadata": {},
   "source": [
    "#### From monthly to yearly "
   ]
  },
  {
   "cell_type": "code",
   "execution_count": 343,
   "metadata": {},
   "outputs": [],
   "source": [
    "# when salary is given per month, we want to calculate it by year\n",
    "month_salary_info = df.loc[df.salary.str.contains('par mois', case=False)].salary"
   ]
  },
  {
   "cell_type": "code",
   "execution_count": 344,
   "metadata": {},
   "outputs": [],
   "source": [
    "# takes a string and returns the same strings but only with characters that are numeric\n",
    "def get_numbers(value):\n",
    "    return ''.join([i for i in value if i.isnumeric()])"
   ]
  },
  {
   "cell_type": "code",
   "execution_count": 345,
   "metadata": {},
   "outputs": [],
   "source": [
    "def get_interval_mean(value):\n",
    "    # value is a string containing a salary interval, e.g. \"30 000 € - 40 000 €\"\n",
    "    \n",
    "    res = value.split('-')\n",
    "    first = int(get_numbers(res[0]))\n",
    "    last = int(get_numbers(res[1]))\n",
    "    return (first+last)/2"
   ]
  },
  {
   "cell_type": "code",
   "execution_count": 346,
   "metadata": {},
   "outputs": [],
   "source": [
    "def monthly_to_annual(value):\n",
    "    if '-' in value:\n",
    "        return str(get_interval_mean(value)*12)\n",
    "    else:  # salary is fixed\n",
    "        return str(int(get_numbers(value))*12)"
   ]
  },
  {
   "cell_type": "code",
   "execution_count": 347,
   "metadata": {},
   "outputs": [],
   "source": [
    "month_salary_info = month_salary_info.apply(monthly_to_annual)\n",
    "\n",
    "# replace in the dataframe\n",
    "df.loc[month_salary_info.index, \"salary\"] = month_salary_info"
   ]
  },
  {
   "cell_type": "code",
   "execution_count": 355,
   "metadata": {},
   "outputs": [
    {
     "name": "stdout",
     "output_type": "stream",
     "text": [
      "['-' '40000' '33000' '36000' '38000' '55000.0' '37584.0' '37000.0'\n",
      " '47500.0' '37500.0' '36500.0' '35000.0' '65000.0' '50000.0' '40000.0'\n",
      " '45000.0' '43488' '39600' '41500.0' '36731' '60000.0']\n"
     ]
    }
   ],
   "source": [
    "print(pd.unique(df.salary))"
   ]
  },
  {
   "cell_type": "markdown",
   "metadata": {},
   "source": [
    "#### Daily salary "
   ]
  },
  {
   "cell_type": "code",
   "execution_count": 349,
   "metadata": {},
   "outputs": [],
   "source": [
    "# when salary is daily, it is a freelance contract, that wasn't specified in the contract type variable\n",
    "# so we drop ir\n",
    "daily_indices = df.loc[df.salary.str.contains('par jour', case=False)].index\n",
    "df.drop(daily_indices, inplace=True)"
   ]
  },
  {
   "cell_type": "markdown",
   "metadata": {},
   "source": [
    "#### From interval to mean for the salaries that were given yearly"
   ]
  },
  {
   "cell_type": "code",
   "execution_count": 353,
   "metadata": {},
   "outputs": [],
   "source": [
    "# salaries that contain 'par an' have not been touched yet\n",
    "annual_to_clean = df.loc[df.salary.str.contains('par an', case=False)].salary"
   ]
  },
  {
   "cell_type": "code",
   "execution_count": 352,
   "metadata": {},
   "outputs": [],
   "source": [
    "def clean_annual_salary(value):\n",
    "\n",
    "    if '-' in value:  # salary is given as an interval\n",
    "        return str(get_interval_mean(value))\n",
    "    else:  # salary is fixed\n",
    "        return get_numbers(value)"
   ]
  },
  {
   "cell_type": "code",
   "execution_count": 354,
   "metadata": {},
   "outputs": [],
   "source": [
    "annual_to_clean = annual_to_clean.apply(clean_annual_salary)\n",
    "df.loc[annual_to_clean.index, 'salary'] = annual_to_clean"
   ]
  },
  {
   "cell_type": "code",
   "execution_count": 356,
   "metadata": {},
   "outputs": [
    {
     "data": {
      "application/vnd.plotly.v1+json": {
       "config": {
        "plotlyServerURL": "https://plot.ly"
       },
       "data": [
        {
         "alignmentgroup": "True",
         "hovertemplate": "salary=%{x}<br>title=%{y}<extra></extra>",
         "legendgroup": "",
         "marker": {
          "color": "#636efa",
          "pattern": {
           "shape": ""
          }
         },
         "name": "",
         "offsetgroup": "",
         "orientation": "v",
         "showlegend": false,
         "textposition": "auto",
         "type": "bar",
         "x": [
          "-",
          "33000",
          "35000.0",
          "36000",
          "36500.0",
          "36731",
          "37000.0",
          "37500.0",
          "37584.0",
          "38000",
          "39600",
          "40000",
          "40000.0",
          "41500.0",
          "43488",
          "45000.0",
          "47500.0",
          "50000.0",
          "55000.0",
          "60000.0",
          "65000.0"
         ],
         "xaxis": "x",
         "y": [
          201,
          1,
          1,
          1,
          1,
          1,
          1,
          2,
          1,
          1,
          1,
          2,
          3,
          1,
          1,
          1,
          1,
          1,
          1,
          1,
          2
         ],
         "yaxis": "y"
        }
       ],
       "layout": {
        "autosize": true,
        "barmode": "stack",
        "legend": {
         "tracegroupgap": 0
        },
        "template": {
         "data": {
          "bar": [
           {
            "error_x": {
             "color": "#2a3f5f"
            },
            "error_y": {
             "color": "#2a3f5f"
            },
            "marker": {
             "line": {
              "color": "#E5ECF6",
              "width": 0.5
             },
             "pattern": {
              "fillmode": "overlay",
              "size": 10,
              "solidity": 0.2
             }
            },
            "type": "bar"
           }
          ],
          "barpolar": [
           {
            "marker": {
             "line": {
              "color": "#E5ECF6",
              "width": 0.5
             },
             "pattern": {
              "fillmode": "overlay",
              "size": 10,
              "solidity": 0.2
             }
            },
            "type": "barpolar"
           }
          ],
          "carpet": [
           {
            "aaxis": {
             "endlinecolor": "#2a3f5f",
             "gridcolor": "white",
             "linecolor": "white",
             "minorgridcolor": "white",
             "startlinecolor": "#2a3f5f"
            },
            "baxis": {
             "endlinecolor": "#2a3f5f",
             "gridcolor": "white",
             "linecolor": "white",
             "minorgridcolor": "white",
             "startlinecolor": "#2a3f5f"
            },
            "type": "carpet"
           }
          ],
          "choropleth": [
           {
            "colorbar": {
             "outlinewidth": 0,
             "ticks": ""
            },
            "type": "choropleth"
           }
          ],
          "contour": [
           {
            "colorbar": {
             "outlinewidth": 0,
             "ticks": ""
            },
            "colorscale": [
             [
              0,
              "#0d0887"
             ],
             [
              0.1111111111111111,
              "#46039f"
             ],
             [
              0.2222222222222222,
              "#7201a8"
             ],
             [
              0.3333333333333333,
              "#9c179e"
             ],
             [
              0.4444444444444444,
              "#bd3786"
             ],
             [
              0.5555555555555556,
              "#d8576b"
             ],
             [
              0.6666666666666666,
              "#ed7953"
             ],
             [
              0.7777777777777778,
              "#fb9f3a"
             ],
             [
              0.8888888888888888,
              "#fdca26"
             ],
             [
              1,
              "#f0f921"
             ]
            ],
            "type": "contour"
           }
          ],
          "contourcarpet": [
           {
            "colorbar": {
             "outlinewidth": 0,
             "ticks": ""
            },
            "type": "contourcarpet"
           }
          ],
          "heatmap": [
           {
            "colorbar": {
             "outlinewidth": 0,
             "ticks": ""
            },
            "colorscale": [
             [
              0,
              "#0d0887"
             ],
             [
              0.1111111111111111,
              "#46039f"
             ],
             [
              0.2222222222222222,
              "#7201a8"
             ],
             [
              0.3333333333333333,
              "#9c179e"
             ],
             [
              0.4444444444444444,
              "#bd3786"
             ],
             [
              0.5555555555555556,
              "#d8576b"
             ],
             [
              0.6666666666666666,
              "#ed7953"
             ],
             [
              0.7777777777777778,
              "#fb9f3a"
             ],
             [
              0.8888888888888888,
              "#fdca26"
             ],
             [
              1,
              "#f0f921"
             ]
            ],
            "type": "heatmap"
           }
          ],
          "heatmapgl": [
           {
            "colorbar": {
             "outlinewidth": 0,
             "ticks": ""
            },
            "colorscale": [
             [
              0,
              "#0d0887"
             ],
             [
              0.1111111111111111,
              "#46039f"
             ],
             [
              0.2222222222222222,
              "#7201a8"
             ],
             [
              0.3333333333333333,
              "#9c179e"
             ],
             [
              0.4444444444444444,
              "#bd3786"
             ],
             [
              0.5555555555555556,
              "#d8576b"
             ],
             [
              0.6666666666666666,
              "#ed7953"
             ],
             [
              0.7777777777777778,
              "#fb9f3a"
             ],
             [
              0.8888888888888888,
              "#fdca26"
             ],
             [
              1,
              "#f0f921"
             ]
            ],
            "type": "heatmapgl"
           }
          ],
          "histogram": [
           {
            "marker": {
             "pattern": {
              "fillmode": "overlay",
              "size": 10,
              "solidity": 0.2
             }
            },
            "type": "histogram"
           }
          ],
          "histogram2d": [
           {
            "colorbar": {
             "outlinewidth": 0,
             "ticks": ""
            },
            "colorscale": [
             [
              0,
              "#0d0887"
             ],
             [
              0.1111111111111111,
              "#46039f"
             ],
             [
              0.2222222222222222,
              "#7201a8"
             ],
             [
              0.3333333333333333,
              "#9c179e"
             ],
             [
              0.4444444444444444,
              "#bd3786"
             ],
             [
              0.5555555555555556,
              "#d8576b"
             ],
             [
              0.6666666666666666,
              "#ed7953"
             ],
             [
              0.7777777777777778,
              "#fb9f3a"
             ],
             [
              0.8888888888888888,
              "#fdca26"
             ],
             [
              1,
              "#f0f921"
             ]
            ],
            "type": "histogram2d"
           }
          ],
          "histogram2dcontour": [
           {
            "colorbar": {
             "outlinewidth": 0,
             "ticks": ""
            },
            "colorscale": [
             [
              0,
              "#0d0887"
             ],
             [
              0.1111111111111111,
              "#46039f"
             ],
             [
              0.2222222222222222,
              "#7201a8"
             ],
             [
              0.3333333333333333,
              "#9c179e"
             ],
             [
              0.4444444444444444,
              "#bd3786"
             ],
             [
              0.5555555555555556,
              "#d8576b"
             ],
             [
              0.6666666666666666,
              "#ed7953"
             ],
             [
              0.7777777777777778,
              "#fb9f3a"
             ],
             [
              0.8888888888888888,
              "#fdca26"
             ],
             [
              1,
              "#f0f921"
             ]
            ],
            "type": "histogram2dcontour"
           }
          ],
          "mesh3d": [
           {
            "colorbar": {
             "outlinewidth": 0,
             "ticks": ""
            },
            "type": "mesh3d"
           }
          ],
          "parcoords": [
           {
            "line": {
             "colorbar": {
              "outlinewidth": 0,
              "ticks": ""
             }
            },
            "type": "parcoords"
           }
          ],
          "pie": [
           {
            "automargin": true,
            "type": "pie"
           }
          ],
          "scatter": [
           {
            "marker": {
             "colorbar": {
              "outlinewidth": 0,
              "ticks": ""
             }
            },
            "type": "scatter"
           }
          ],
          "scatter3d": [
           {
            "line": {
             "colorbar": {
              "outlinewidth": 0,
              "ticks": ""
             }
            },
            "marker": {
             "colorbar": {
              "outlinewidth": 0,
              "ticks": ""
             }
            },
            "type": "scatter3d"
           }
          ],
          "scattercarpet": [
           {
            "marker": {
             "colorbar": {
              "outlinewidth": 0,
              "ticks": ""
             }
            },
            "type": "scattercarpet"
           }
          ],
          "scattergeo": [
           {
            "marker": {
             "colorbar": {
              "outlinewidth": 0,
              "ticks": ""
             }
            },
            "type": "scattergeo"
           }
          ],
          "scattergl": [
           {
            "marker": {
             "colorbar": {
              "outlinewidth": 0,
              "ticks": ""
             }
            },
            "type": "scattergl"
           }
          ],
          "scattermapbox": [
           {
            "marker": {
             "colorbar": {
              "outlinewidth": 0,
              "ticks": ""
             }
            },
            "type": "scattermapbox"
           }
          ],
          "scatterpolar": [
           {
            "marker": {
             "colorbar": {
              "outlinewidth": 0,
              "ticks": ""
             }
            },
            "type": "scatterpolar"
           }
          ],
          "scatterpolargl": [
           {
            "marker": {
             "colorbar": {
              "outlinewidth": 0,
              "ticks": ""
             }
            },
            "type": "scatterpolargl"
           }
          ],
          "scatterternary": [
           {
            "marker": {
             "colorbar": {
              "outlinewidth": 0,
              "ticks": ""
             }
            },
            "type": "scatterternary"
           }
          ],
          "surface": [
           {
            "colorbar": {
             "outlinewidth": 0,
             "ticks": ""
            },
            "colorscale": [
             [
              0,
              "#0d0887"
             ],
             [
              0.1111111111111111,
              "#46039f"
             ],
             [
              0.2222222222222222,
              "#7201a8"
             ],
             [
              0.3333333333333333,
              "#9c179e"
             ],
             [
              0.4444444444444444,
              "#bd3786"
             ],
             [
              0.5555555555555556,
              "#d8576b"
             ],
             [
              0.6666666666666666,
              "#ed7953"
             ],
             [
              0.7777777777777778,
              "#fb9f3a"
             ],
             [
              0.8888888888888888,
              "#fdca26"
             ],
             [
              1,
              "#f0f921"
             ]
            ],
            "type": "surface"
           }
          ],
          "table": [
           {
            "cells": {
             "fill": {
              "color": "#EBF0F8"
             },
             "line": {
              "color": "white"
             }
            },
            "header": {
             "fill": {
              "color": "#C8D4E3"
             },
             "line": {
              "color": "white"
             }
            },
            "type": "table"
           }
          ]
         },
         "layout": {
          "annotationdefaults": {
           "arrowcolor": "#2a3f5f",
           "arrowhead": 0,
           "arrowwidth": 1
          },
          "autotypenumbers": "strict",
          "coloraxis": {
           "colorbar": {
            "outlinewidth": 0,
            "ticks": ""
           }
          },
          "colorscale": {
           "diverging": [
            [
             0,
             "#8e0152"
            ],
            [
             0.1,
             "#c51b7d"
            ],
            [
             0.2,
             "#de77ae"
            ],
            [
             0.3,
             "#f1b6da"
            ],
            [
             0.4,
             "#fde0ef"
            ],
            [
             0.5,
             "#f7f7f7"
            ],
            [
             0.6,
             "#e6f5d0"
            ],
            [
             0.7,
             "#b8e186"
            ],
            [
             0.8,
             "#7fbc41"
            ],
            [
             0.9,
             "#4d9221"
            ],
            [
             1,
             "#276419"
            ]
           ],
           "sequential": [
            [
             0,
             "#0d0887"
            ],
            [
             0.1111111111111111,
             "#46039f"
            ],
            [
             0.2222222222222222,
             "#7201a8"
            ],
            [
             0.3333333333333333,
             "#9c179e"
            ],
            [
             0.4444444444444444,
             "#bd3786"
            ],
            [
             0.5555555555555556,
             "#d8576b"
            ],
            [
             0.6666666666666666,
             "#ed7953"
            ],
            [
             0.7777777777777778,
             "#fb9f3a"
            ],
            [
             0.8888888888888888,
             "#fdca26"
            ],
            [
             1,
             "#f0f921"
            ]
           ],
           "sequentialminus": [
            [
             0,
             "#0d0887"
            ],
            [
             0.1111111111111111,
             "#46039f"
            ],
            [
             0.2222222222222222,
             "#7201a8"
            ],
            [
             0.3333333333333333,
             "#9c179e"
            ],
            [
             0.4444444444444444,
             "#bd3786"
            ],
            [
             0.5555555555555556,
             "#d8576b"
            ],
            [
             0.6666666666666666,
             "#ed7953"
            ],
            [
             0.7777777777777778,
             "#fb9f3a"
            ],
            [
             0.8888888888888888,
             "#fdca26"
            ],
            [
             1,
             "#f0f921"
            ]
           ]
          },
          "colorway": [
           "#636efa",
           "#EF553B",
           "#00cc96",
           "#ab63fa",
           "#FFA15A",
           "#19d3f3",
           "#FF6692",
           "#B6E880",
           "#FF97FF",
           "#FECB52"
          ],
          "font": {
           "color": "#2a3f5f"
          },
          "geo": {
           "bgcolor": "white",
           "lakecolor": "white",
           "landcolor": "#E5ECF6",
           "showlakes": true,
           "showland": true,
           "subunitcolor": "white"
          },
          "hoverlabel": {
           "align": "left"
          },
          "hovermode": "closest",
          "mapbox": {
           "style": "light"
          },
          "paper_bgcolor": "white",
          "plot_bgcolor": "#E5ECF6",
          "polar": {
           "angularaxis": {
            "gridcolor": "white",
            "linecolor": "white",
            "ticks": ""
           },
           "bgcolor": "#E5ECF6",
           "radialaxis": {
            "gridcolor": "white",
            "linecolor": "white",
            "ticks": ""
           }
          },
          "scene": {
           "xaxis": {
            "backgroundcolor": "#E5ECF6",
            "gridcolor": "white",
            "gridwidth": 2,
            "linecolor": "white",
            "showbackground": true,
            "ticks": "",
            "zerolinecolor": "white"
           },
           "yaxis": {
            "backgroundcolor": "#E5ECF6",
            "gridcolor": "white",
            "gridwidth": 2,
            "linecolor": "white",
            "showbackground": true,
            "ticks": "",
            "zerolinecolor": "white"
           },
           "zaxis": {
            "backgroundcolor": "#E5ECF6",
            "gridcolor": "white",
            "gridwidth": 2,
            "linecolor": "white",
            "showbackground": true,
            "ticks": "",
            "zerolinecolor": "white"
           }
          },
          "shapedefaults": {
           "line": {
            "color": "#2a3f5f"
           }
          },
          "ternary": {
           "aaxis": {
            "gridcolor": "white",
            "linecolor": "white",
            "ticks": ""
           },
           "baxis": {
            "gridcolor": "white",
            "linecolor": "white",
            "ticks": ""
           },
           "bgcolor": "#E5ECF6",
           "caxis": {
            "gridcolor": "white",
            "linecolor": "white",
            "ticks": ""
           }
          },
          "title": {
           "x": 0.05
          },
          "xaxis": {
           "automargin": true,
           "gridcolor": "white",
           "linecolor": "white",
           "ticks": "",
           "title": {
            "standoff": 15
           },
           "zerolinecolor": "white",
           "zerolinewidth": 2
          },
          "yaxis": {
           "automargin": true,
           "gridcolor": "white",
           "linecolor": "white",
           "ticks": "",
           "title": {
            "standoff": 15
           },
           "zerolinecolor": "white",
           "zerolinewidth": 2
          }
         }
        },
        "title": {
         "text": "Nb jobs by salary"
        },
        "xaxis": {
         "anchor": "y",
         "autorange": true,
         "domain": [
          0,
          1
         ],
         "range": [
          -0.5,
          20.5
         ],
         "title": {
          "text": "salary"
         },
         "type": "category"
        },
        "yaxis": {
         "anchor": "x",
         "autorange": true,
         "domain": [
          0,
          1
         ],
         "range": [
          0,
          211.57894736842104
         ],
         "title": {
          "text": "title"
         },
         "type": "linear"
        }
       }
      },
      "image/png": "[encoded data removed]",
      "text/html": [
       "<div>                            <div id=\"66f9a934-4b90-479a-a955-3ea97a9f96cc\" class=\"plotly-graph-div\" style=\"height:525px; width:100%;\"></div>            <script type=\"text/javascript\">                require([\"plotly\"], function(Plotly) {                    window.PLOTLYENV=window.PLOTLYENV || {};                                    if (document.getElementById(\"66f9a934-4b90-479a-a955-3ea97a9f96cc\")) {                    Plotly.newPlot(                        \"66f9a934-4b90-479a-a955-3ea97a9f96cc\",                        [{\"alignmentgroup\":\"True\",\"hovertemplate\":\"salary=%{x}<br>title=%{y}<extra></extra>\",\"legendgroup\":\"\",\"marker\":{\"color\":\"#636efa\",\"pattern\":{\"shape\":\"\"}},\"name\":\"\",\"offsetgroup\":\"\",\"orientation\":\"v\",\"showlegend\":false,\"textposition\":\"auto\",\"type\":\"bar\",\"x\":[\"-\",\"33000\",\"35000.0\",\"36000\",\"36500.0\",\"36731\",\"37000.0\",\"37500.0\",\"37584.0\",\"38000\",\"39600\",\"40000\",\"40000.0\",\"41500.0\",\"43488\",\"45000.0\",\"47500.0\",\"50000.0\",\"55000.0\",\"60000.0\",\"65000.0\"],\"xaxis\":\"x\",\"y\":[201,1,1,1,1,1,1,2,1,1,1,2,3,1,1,1,1,1,1,1,2],\"yaxis\":\"y\"}],                        {\"barmode\":\"stack\",\"legend\":{\"tracegroupgap\":0},\"template\":{\"data\":{\"bar\":[{\"error_x\":{\"color\":\"#2a3f5f\"},\"error_y\":{\"color\":\"#2a3f5f\"},\"marker\":{\"line\":{\"color\":\"#E5ECF6\",\"width\":0.5},\"pattern\":{\"fillmode\":\"overlay\",\"size\":10,\"solidity\":0.2}},\"type\":\"bar\"}],\"barpolar\":[{\"marker\":{\"line\":{\"color\":\"#E5ECF6\",\"width\":0.5},\"pattern\":{\"fillmode\":\"overlay\",\"size\":10,\"solidity\":0.2}},\"type\":\"barpolar\"}],\"carpet\":[{\"aaxis\":{\"endlinecolor\":\"#2a3f5f\",\"gridcolor\":\"white\",\"linecolor\":\"white\",\"minorgridcolor\":\"white\",\"startlinecolor\":\"#2a3f5f\"},\"baxis\":{\"endlinecolor\":\"#2a3f5f\",\"gridcolor\":\"white\",\"linecolor\":\"white\",\"minorgridcolor\":\"white\",\"startlinecolor\":\"#2a3f5f\"},\"type\":\"carpet\"}],\"choropleth\":[{\"colorbar\":{\"outlinewidth\":0,\"ticks\":\"\"},\"type\":\"choropleth\"}],\"contour\":[{\"colorbar\":{\"outlinewidth\":0,\"ticks\":\"\"},\"colorscale\":[[0.0,\"#0d0887\"],[0.1111111111111111,\"#46039f\"],[0.2222222222222222,\"#7201a8\"],[0.3333333333333333,\"#9c179e\"],[0.4444444444444444,\"#bd3786\"],[0.5555555555555556,\"#d8576b\"],[0.6666666666666666,\"#ed7953\"],[0.7777777777777778,\"#fb9f3a\"],[0.8888888888888888,\"#fdca26\"],[1.0,\"#f0f921\"]],\"type\":\"contour\"}],\"contourcarpet\":[{\"colorbar\":{\"outlinewidth\":0,\"ticks\":\"\"},\"type\":\"contourcarpet\"}],\"heatmap\":[{\"colorbar\":{\"outlinewidth\":0,\"ticks\":\"\"},\"colorscale\":[[0.0,\"#0d0887\"],[0.1111111111111111,\"#46039f\"],[0.2222222222222222,\"#7201a8\"],[0.3333333333333333,\"#9c179e\"],[0.4444444444444444,\"#bd3786\"],[0.5555555555555556,\"#d8576b\"],[0.6666666666666666,\"#ed7953\"],[0.7777777777777778,\"#fb9f3a\"],[0.8888888888888888,\"#fdca26\"],[1.0,\"#f0f921\"]],\"type\":\"heatmap\"}],\"heatmapgl\":[{\"colorbar\":{\"outlinewidth\":0,\"ticks\":\"\"},\"colorscale\":[[0.0,\"#0d0887\"],[0.1111111111111111,\"#46039f\"],[0.2222222222222222,\"#7201a8\"],[0.3333333333333333,\"#9c179e\"],[0.4444444444444444,\"#bd3786\"],[0.5555555555555556,\"#d8576b\"],[0.6666666666666666,\"#ed7953\"],[0.7777777777777778,\"#fb9f3a\"],[0.8888888888888888,\"#fdca26\"],[1.0,\"#f0f921\"]],\"type\":\"heatmapgl\"}],\"histogram\":[{\"marker\":{\"pattern\":{\"fillmode\":\"overlay\",\"size\":10,\"solidity\":0.2}},\"type\":\"histogram\"}],\"histogram2d\":[{\"colorbar\":{\"outlinewidth\":0,\"ticks\":\"\"},\"colorscale\":[[0.0,\"#0d0887\"],[0.1111111111111111,\"#46039f\"],[0.2222222222222222,\"#7201a8\"],[0.3333333333333333,\"#9c179e\"],[0.4444444444444444,\"#bd3786\"],[0.5555555555555556,\"#d8576b\"],[0.6666666666666666,\"#ed7953\"],[0.7777777777777778,\"#fb9f3a\"],[0.8888888888888888,\"#fdca26\"],[1.0,\"#f0f921\"]],\"type\":\"histogram2d\"}],\"histogram2dcontour\":[{\"colorbar\":{\"outlinewidth\":0,\"ticks\":\"\"},\"colorscale\":[[0.0,\"#0d0887\"],[0.1111111111111111,\"#46039f\"],[0.2222222222222222,\"#7201a8\"],[0.3333333333333333,\"#9c179e\"],[0.4444444444444444,\"#bd3786\"],[0.5555555555555556,\"#d8576b\"],[0.6666666666666666,\"#ed7953\"],[0.7777777777777778,\"#fb9f3a\"],[0.8888888888888888,\"#fdca26\"],[1.0,\"#f0f921\"]],\"type\":\"histogram2dcontour\"}],\"mesh3d\":[{\"colorbar\":{\"outlinewidth\":0,\"ticks\":\"\"},\"type\":\"mesh3d\"}],\"parcoords\":[{\"line\":{\"colorbar\":{\"outlinewidth\":0,\"ticks\":\"\"}},\"type\":\"parcoords\"}],\"pie\":[{\"automargin\":true,\"type\":\"pie\"}],\"scatter\":[{\"marker\":{\"colorbar\":{\"outlinewidth\":0,\"ticks\":\"\"}},\"type\":\"scatter\"}],\"scatter3d\":[{\"line\":{\"colorbar\":{\"outlinewidth\":0,\"ticks\":\"\"}},\"marker\":{\"colorbar\":{\"outlinewidth\":0,\"ticks\":\"\"}},\"type\":\"scatter3d\"}],\"scattercarpet\":[{\"marker\":{\"colorbar\":{\"outlinewidth\":0,\"ticks\":\"\"}},\"type\":\"scattercarpet\"}],\"scattergeo\":[{\"marker\":{\"colorbar\":{\"outlinewidth\":0,\"ticks\":\"\"}},\"type\":\"scattergeo\"}],\"scattergl\":[{\"marker\":{\"colorbar\":{\"outlinewidth\":0,\"ticks\":\"\"}},\"type\":\"scattergl\"}],\"scattermapbox\":[{\"marker\":{\"colorbar\":{\"outlinewidth\":0,\"ticks\":\"\"}},\"type\":\"scattermapbox\"}],\"scatterpolar\":[{\"marker\":{\"colorbar\":{\"outlinewidth\":0,\"ticks\":\"\"}},\"type\":\"scatterpolar\"}],\"scatterpolargl\":[{\"marker\":{\"colorbar\":{\"outlinewidth\":0,\"ticks\":\"\"}},\"type\":\"scatterpolargl\"}],\"scatterternary\":[{\"marker\":{\"colorbar\":{\"outlinewidth\":0,\"ticks\":\"\"}},\"type\":\"scatterternary\"}],\"surface\":[{\"colorbar\":{\"outlinewidth\":0,\"ticks\":\"\"},\"colorscale\":[[0.0,\"#0d0887\"],[0.1111111111111111,\"#46039f\"],[0.2222222222222222,\"#7201a8\"],[0.3333333333333333,\"#9c179e\"],[0.4444444444444444,\"#bd3786\"],[0.5555555555555556,\"#d8576b\"],[0.6666666666666666,\"#ed7953\"],[0.7777777777777778,\"#fb9f3a\"],[0.8888888888888888,\"#fdca26\"],[1.0,\"#f0f921\"]],\"type\":\"surface\"}],\"table\":[{\"cells\":{\"fill\":{\"color\":\"#EBF0F8\"},\"line\":{\"color\":\"white\"}},\"header\":{\"fill\":{\"color\":\"#C8D4E3\"},\"line\":{\"color\":\"white\"}},\"type\":\"table\"}]},\"layout\":{\"annotationdefaults\":{\"arrowcolor\":\"#2a3f5f\",\"arrowhead\":0,\"arrowwidth\":1},\"autotypenumbers\":\"strict\",\"coloraxis\":{\"colorbar\":{\"outlinewidth\":0,\"ticks\":\"\"}},\"colorscale\":{\"diverging\":[[0,\"#8e0152\"],[0.1,\"#c51b7d\"],[0.2,\"#de77ae\"],[0.3,\"#f1b6da\"],[0.4,\"#fde0ef\"],[0.5,\"#f7f7f7\"],[0.6,\"#e6f5d0\"],[0.7,\"#b8e186\"],[0.8,\"#7fbc41\"],[0.9,\"#4d9221\"],[1,\"#276419\"]],\"sequential\":[[0.0,\"#0d0887\"],[0.1111111111111111,\"#46039f\"],[0.2222222222222222,\"#7201a8\"],[0.3333333333333333,\"#9c179e\"],[0.4444444444444444,\"#bd3786\"],[0.5555555555555556,\"#d8576b\"],[0.6666666666666666,\"#ed7953\"],[0.7777777777777778,\"#fb9f3a\"],[0.8888888888888888,\"#fdca26\"],[1.0,\"#f0f921\"]],\"sequentialminus\":[[0.0,\"#0d0887\"],[0.1111111111111111,\"#46039f\"],[0.2222222222222222,\"#7201a8\"],[0.3333333333333333,\"#9c179e\"],[0.4444444444444444,\"#bd3786\"],[0.5555555555555556,\"#d8576b\"],[0.6666666666666666,\"#ed7953\"],[0.7777777777777778,\"#fb9f3a\"],[0.8888888888888888,\"#fdca26\"],[1.0,\"#f0f921\"]]},\"colorway\":[\"#636efa\",\"#EF553B\",\"#00cc96\",\"#ab63fa\",\"#FFA15A\",\"#19d3f3\",\"#FF6692\",\"#B6E880\",\"#FF97FF\",\"#FECB52\"],\"font\":{\"color\":\"#2a3f5f\"},\"geo\":{\"bgcolor\":\"white\",\"lakecolor\":\"white\",\"landcolor\":\"#E5ECF6\",\"showlakes\":true,\"showland\":true,\"subunitcolor\":\"white\"},\"hoverlabel\":{\"align\":\"left\"},\"hovermode\":\"closest\",\"mapbox\":{\"style\":\"light\"},\"paper_bgcolor\":\"white\",\"plot_bgcolor\":\"#E5ECF6\",\"polar\":{\"angularaxis\":{\"gridcolor\":\"white\",\"linecolor\":\"white\",\"ticks\":\"\"},\"bgcolor\":\"#E5ECF6\",\"radialaxis\":{\"gridcolor\":\"white\",\"linecolor\":\"white\",\"ticks\":\"\"}},\"scene\":{\"xaxis\":{\"backgroundcolor\":\"#E5ECF6\",\"gridcolor\":\"white\",\"gridwidth\":2,\"linecolor\":\"white\",\"showbackground\":true,\"ticks\":\"\",\"zerolinecolor\":\"white\"},\"yaxis\":{\"backgroundcolor\":\"#E5ECF6\",\"gridcolor\":\"white\",\"gridwidth\":2,\"linecolor\":\"white\",\"showbackground\":true,\"ticks\":\"\",\"zerolinecolor\":\"white\"},\"zaxis\":{\"backgroundcolor\":\"#E5ECF6\",\"gridcolor\":\"white\",\"gridwidth\":2,\"linecolor\":\"white\",\"showbackground\":true,\"ticks\":\"\",\"zerolinecolor\":\"white\"}},\"shapedefaults\":{\"line\":{\"color\":\"#2a3f5f\"}},\"ternary\":{\"aaxis\":{\"gridcolor\":\"white\",\"linecolor\":\"white\",\"ticks\":\"\"},\"baxis\":{\"gridcolor\":\"white\",\"linecolor\":\"white\",\"ticks\":\"\"},\"bgcolor\":\"#E5ECF6\",\"caxis\":{\"gridcolor\":\"white\",\"linecolor\":\"white\",\"ticks\":\"\"}},\"title\":{\"x\":0.05},\"xaxis\":{\"automargin\":true,\"gridcolor\":\"white\",\"linecolor\":\"white\",\"ticks\":\"\",\"title\":{\"standoff\":15},\"zerolinecolor\":\"white\",\"zerolinewidth\":2},\"yaxis\":{\"automargin\":true,\"gridcolor\":\"white\",\"linecolor\":\"white\",\"ticks\":\"\",\"title\":{\"standoff\":15},\"zerolinecolor\":\"white\",\"zerolinewidth\":2}}},\"title\":{\"text\":\"Nb jobs by salary\"},\"xaxis\":{\"anchor\":\"y\",\"domain\":[0.0,1.0],\"title\":{\"text\":\"salary\"}},\"yaxis\":{\"anchor\":\"x\",\"domain\":[0.0,1.0],\"title\":{\"text\":\"title\"}}},                        {\"responsive\": true}                    ).then(function(){\n",
       "                            \n",
       "var gd = document.getElementById('66f9a934-4b90-479a-a955-3ea97a9f96cc');\n",
       "var x = new MutationObserver(function (mutations, observer) {{\n",
       "        var display = window.getComputedStyle(gd).display;\n",
       "        if (!display || display === 'none') {{\n",
       "            console.log([gd, 'removed!']);\n",
       "            Plotly.purge(gd);\n",
       "            observer.disconnect();\n",
       "        }}\n",
       "}});\n",
       "\n",
       "// Listen for the removal of the full notebook cells\n",
       "var notebookContainer = gd.closest('#notebook-container');\n",
       "if (notebookContainer) {{\n",
       "    x.observe(notebookContainer, {childList: true});\n",
       "}}\n",
       "\n",
       "// Listen for the clearing of the current output cell\n",
       "var outputEl = gd.closest('.output');\n",
       "if (outputEl) {{\n",
       "    x.observe(outputEl, {childList: true});\n",
       "}}\n",
       "\n",
       "                        })                };                });            </script>        </div>"
      ]
     },
     "metadata": {},
     "output_type": "display_data"
    }
   ],
   "source": [
    "dfg = df.groupby('salary').count().reset_index()\n",
    "# plot structure\n",
    "fig = px.bar(dfg,\n",
    "             x='salary',\n",
    "             y='title',\n",
    "             title='Nb jobs by salary',\n",
    "             barmode='stack')\n",
    "\n",
    "# plot\n",
    "fig.show()"
   ]
  },
  {
   "cell_type": "code",
   "execution_count": null,
   "metadata": {},
   "outputs": [],
   "source": []
  }
 ],
 "metadata": {
  "kernelspec": {
   "display_name": "Python 3",
   "language": "python",
   "name": "python3"
  },
  "language_info": {
   "codemirror_mode": {
    "name": "ipython",
    "version": 3
   },
   "file_extension": ".py",
   "mimetype": "text/x-python",
   "name": "python",
   "nbconvert_exporter": "python",
   "pygments_lexer": "ipython3",
   "version": "3.8.5"
  }
 },
 "nbformat": 4,
 "nbformat_minor": 4
}
